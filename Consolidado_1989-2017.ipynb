{
 "cells": [
  {
   "cell_type": "code",
   "execution_count": 143,
   "metadata": {},
   "outputs": [],
   "source": [
    "import pandas as pd\n",
    "import numpy as np\n",
    "import matplotlib.pyplot as plt\n",
    "import seaborn as sns\n",
    "from matplotlib.ticker import FuncFormatter\n",
    "\n"
   ]
  },
  {
   "cell_type": "code",
   "execution_count": 144,
   "metadata": {},
   "outputs": [],
   "source": [
    "dfx= pd.read_excel('resultados_elecciones_presidenciales_ce_1989_2017_Chile.xlsx')"
   ]
  },
  {
   "cell_type": "code",
   "execution_count": 145,
   "metadata": {},
   "outputs": [
    {
     "name": "stdout",
     "output_type": "stream",
     "text": [
      "  Tipo de Elección       Cargo Fecha de Elección  Año de Elección  \\\n",
      "0     PRESIDENCIAL  PRESIDENTE        1989-12-14             1989   \n",
      "1     PRESIDENCIAL  PRESIDENTE        1989-12-14             1989   \n",
      "2     PRESIDENCIAL  PRESIDENTE        1989-12-14             1989   \n",
      "3     PRESIDENCIAL  PRESIDENTE        1989-12-14             1989   \n",
      "4     PRESIDENCIAL  PRESIDENTE        1989-12-14             1989   \n",
      "\n",
      "   Inicio de Período  Fin de Período      Período Votación Presidencial  \\\n",
      "0               1990            1994  1990 a 1994        UNICA VOTACIÓN   \n",
      "1               1990            1994  1990 a 1994        UNICA VOTACIÓN   \n",
      "2               1990            1994  1990 a 1994        UNICA VOTACIÓN   \n",
      "3               1990            1994  1990 a 1994        UNICA VOTACIÓN   \n",
      "4               1990            1994  1990 a 1994        UNICA VOTACIÓN   \n",
      "\n",
      "   Id Región       Región  ...  Sexo Mesa               Candidato (a)  \\\n",
      "0          1  DE TARAPACA  ...     HOMBRE  FRANCISCO JAVIER ERRAZURIZ   \n",
      "1          1  DE TARAPACA  ...     HOMBRE                HERNAN BUCHI   \n",
      "2          1  DE TARAPACA  ...     HOMBRE             PATRICIO AYLWIN   \n",
      "3          1  DE TARAPACA  ...     HOMBRE                VOTOS NULOS    \n",
      "4          1  DE TARAPACA  ...     HOMBRE            VOTOS EN BLANCO    \n",
      "\n",
      "            Nombres Apellido Paterno Apellido Materno    Sexo Electo(a)  \\\n",
      "0  FRANCISCO JAVIER        ERRAZURIZ         TALAVERA  HOMBRE       NaN   \n",
      "1            HERNAN            BUCHI              BUC  HOMBRE       NaN   \n",
      "2          PATRICIO           AYLWIN           AZOCAR  HOMBRE        SI   \n",
      "3               NaN              NaN              NaN     NaN       NaN   \n",
      "4               NaN              NaN              NaN     NaN       NaN   \n",
      "\n",
      "               Partido Sigla Partido Votos Totales  \n",
      "0        INDEPENDIENTE         INDEP          7065  \n",
      "1        INDEPENDIENTE         INDEP         11549  \n",
      "2  DEMOCRATA CRISTIANO            DC         23230  \n",
      "3                  NaN           NaN           561  \n",
      "4                  NaN           NaN           392  \n",
      "\n",
      "[5 rows x 24 columns]\n",
      "Index(['Tipo de Elección', 'Cargo', 'Fecha de Elección', 'Año de Elección',\n",
      "       'Inicio de Período', 'Fin de Período', 'Período',\n",
      "       'Votación Presidencial', 'Id Región', 'Región', 'Provincia',\n",
      "       'Nombre Provincia', 'Comuna', 'Circunscripción Electoral', 'Sexo Mesa',\n",
      "       'Candidato (a)', 'Nombres', 'Apellido Paterno', 'Apellido Materno',\n",
      "       'Sexo', 'Electo(a)', 'Partido', 'Sigla Partido', 'Votos Totales'],\n",
      "      dtype='object')\n",
      "(64366, 24)\n",
      "<class 'pandas.core.frame.DataFrame'>\n",
      "RangeIndex: 64366 entries, 0 to 64365\n",
      "Data columns (total 24 columns):\n",
      " #   Column                     Non-Null Count  Dtype         \n",
      "---  ------                     --------------  -----         \n",
      " 0   Tipo de Elección           64366 non-null  object        \n",
      " 1   Cargo                      64366 non-null  object        \n",
      " 2   Fecha de Elección          64366 non-null  datetime64[ns]\n",
      " 3   Año de Elección            64366 non-null  int64         \n",
      " 4   Inicio de Período          64366 non-null  int64         \n",
      " 5   Fin de Período             64366 non-null  int64         \n",
      " 6   Período                    64366 non-null  object        \n",
      " 7   Votación Presidencial      64366 non-null  object        \n",
      " 8   Id Región                  64366 non-null  int64         \n",
      " 9   Región                     64366 non-null  object        \n",
      " 10  Provincia                  64366 non-null  int64         \n",
      " 11  Nombre Provincia           64366 non-null  object        \n",
      " 12  Comuna                     64366 non-null  object        \n",
      " 13  Circunscripción Electoral  64366 non-null  object        \n",
      " 14  Sexo Mesa                  64366 non-null  object        \n",
      " 15  Candidato (a)              64366 non-null  object        \n",
      " 16  Nombres                    42748 non-null  object        \n",
      " 17  Apellido Paterno           42748 non-null  object        \n",
      " 18  Apellido Materno           42748 non-null  object        \n",
      " 19  Sexo                       42748 non-null  object        \n",
      " 20  Electo(a)                  15882 non-null  object        \n",
      " 21  Partido                    42748 non-null  object        \n",
      " 22  Sigla Partido              41620 non-null  object        \n",
      " 23  Votos Totales              64366 non-null  int64         \n",
      "dtypes: datetime64[ns](1), int64(6), object(17)\n",
      "memory usage: 11.8+ MB\n",
      "None\n"
     ]
    },
    {
     "data": {
      "text/html": [
       "<div>\n",
       "<style scoped>\n",
       "    .dataframe tbody tr th:only-of-type {\n",
       "        vertical-align: middle;\n",
       "    }\n",
       "\n",
       "    .dataframe tbody tr th {\n",
       "        vertical-align: top;\n",
       "    }\n",
       "\n",
       "    .dataframe thead th {\n",
       "        text-align: right;\n",
       "    }\n",
       "</style>\n",
       "<table border=\"1\" class=\"dataframe\">\n",
       "  <thead>\n",
       "    <tr style=\"text-align: right;\">\n",
       "      <th></th>\n",
       "      <th>Tipo de Elección</th>\n",
       "      <th>Cargo</th>\n",
       "      <th>Fecha de Elección</th>\n",
       "      <th>Año de Elección</th>\n",
       "      <th>Inicio de Período</th>\n",
       "      <th>Fin de Período</th>\n",
       "      <th>Período</th>\n",
       "      <th>Votación Presidencial</th>\n",
       "      <th>Id Región</th>\n",
       "      <th>Región</th>\n",
       "      <th>...</th>\n",
       "      <th>Sexo Mesa</th>\n",
       "      <th>Candidato (a)</th>\n",
       "      <th>Nombres</th>\n",
       "      <th>Apellido Paterno</th>\n",
       "      <th>Apellido Materno</th>\n",
       "      <th>Sexo</th>\n",
       "      <th>Electo(a)</th>\n",
       "      <th>Partido</th>\n",
       "      <th>Sigla Partido</th>\n",
       "      <th>Votos Totales</th>\n",
       "    </tr>\n",
       "  </thead>\n",
       "  <tbody>\n",
       "    <tr>\n",
       "      <th>count</th>\n",
       "      <td>64366</td>\n",
       "      <td>64366</td>\n",
       "      <td>64366</td>\n",
       "      <td>64366.000000</td>\n",
       "      <td>64366.000000</td>\n",
       "      <td>64366.000000</td>\n",
       "      <td>64366</td>\n",
       "      <td>64366</td>\n",
       "      <td>64366.000000</td>\n",
       "      <td>64366</td>\n",
       "      <td>...</td>\n",
       "      <td>64366</td>\n",
       "      <td>64366</td>\n",
       "      <td>42748</td>\n",
       "      <td>42748</td>\n",
       "      <td>42748</td>\n",
       "      <td>42748</td>\n",
       "      <td>15882</td>\n",
       "      <td>42748</td>\n",
       "      <td>41620</td>\n",
       "      <td>64366.000000</td>\n",
       "    </tr>\n",
       "    <tr>\n",
       "      <th>unique</th>\n",
       "      <td>1</td>\n",
       "      <td>1</td>\n",
       "      <td>NaN</td>\n",
       "      <td>NaN</td>\n",
       "      <td>NaN</td>\n",
       "      <td>NaN</td>\n",
       "      <td>7</td>\n",
       "      <td>3</td>\n",
       "      <td>NaN</td>\n",
       "      <td>17</td>\n",
       "      <td>...</td>\n",
       "      <td>3</td>\n",
       "      <td>40</td>\n",
       "      <td>33</td>\n",
       "      <td>30</td>\n",
       "      <td>30</td>\n",
       "      <td>2</td>\n",
       "      <td>3</td>\n",
       "      <td>22</td>\n",
       "      <td>19</td>\n",
       "      <td>NaN</td>\n",
       "    </tr>\n",
       "    <tr>\n",
       "      <th>top</th>\n",
       "      <td>PRESIDENCIAL</td>\n",
       "      <td>PRESIDENTE</td>\n",
       "      <td>NaN</td>\n",
       "      <td>NaN</td>\n",
       "      <td>NaN</td>\n",
       "      <td>NaN</td>\n",
       "      <td>2000 a 2006</td>\n",
       "      <td>PRIMERA VOTACIÓN</td>\n",
       "      <td>NaN</td>\n",
       "      <td>DEL BIOBIO</td>\n",
       "      <td>...</td>\n",
       "      <td>MUJER</td>\n",
       "      <td>VOTOS NULOS</td>\n",
       "      <td>SEBASTIAN</td>\n",
       "      <td>PIÑERA</td>\n",
       "      <td>ECHENIQUE</td>\n",
       "      <td>HOMBRE</td>\n",
       "      <td>2ª Votación</td>\n",
       "      <td>INDEPENDIENTE</td>\n",
       "      <td>INDEP</td>\n",
       "      <td>NaN</td>\n",
       "    </tr>\n",
       "    <tr>\n",
       "      <th>freq</th>\n",
       "      <td>64366</td>\n",
       "      <td>64366</td>\n",
       "      <td>NaN</td>\n",
       "      <td>NaN</td>\n",
       "      <td>NaN</td>\n",
       "      <td>NaN</td>\n",
       "      <td>12200</td>\n",
       "      <td>34078</td>\n",
       "      <td>NaN</td>\n",
       "      <td>9724</td>\n",
       "      <td>...</td>\n",
       "      <td>23525</td>\n",
       "      <td>8413</td>\n",
       "      <td>5719</td>\n",
       "      <td>6695</td>\n",
       "      <td>6695</td>\n",
       "      <td>34393</td>\n",
       "      <td>8894</td>\n",
       "      <td>9064</td>\n",
       "      <td>6792</td>\n",
       "      <td>NaN</td>\n",
       "    </tr>\n",
       "    <tr>\n",
       "      <th>mean</th>\n",
       "      <td>NaN</td>\n",
       "      <td>NaN</td>\n",
       "      <td>2005-08-06 23:22:14.157785216</td>\n",
       "      <td>2004.847124</td>\n",
       "      <td>2005.645030</td>\n",
       "      <td>2010.266725</td>\n",
       "      <td>NaN</td>\n",
       "      <td>NaN</td>\n",
       "      <td>8.266274</td>\n",
       "      <td>NaN</td>\n",
       "      <td>...</td>\n",
       "      <td>NaN</td>\n",
       "      <td>NaN</td>\n",
       "      <td>NaN</td>\n",
       "      <td>NaN</td>\n",
       "      <td>NaN</td>\n",
       "      <td>NaN</td>\n",
       "      <td>NaN</td>\n",
       "      <td>NaN</td>\n",
       "      <td>NaN</td>\n",
       "      <td>1306.059239</td>\n",
       "    </tr>\n",
       "    <tr>\n",
       "      <th>min</th>\n",
       "      <td>NaN</td>\n",
       "      <td>NaN</td>\n",
       "      <td>1989-12-14 00:00:00</td>\n",
       "      <td>1989.000000</td>\n",
       "      <td>1990.000000</td>\n",
       "      <td>1994.000000</td>\n",
       "      <td>NaN</td>\n",
       "      <td>NaN</td>\n",
       "      <td>1.000000</td>\n",
       "      <td>NaN</td>\n",
       "      <td>...</td>\n",
       "      <td>NaN</td>\n",
       "      <td>NaN</td>\n",
       "      <td>NaN</td>\n",
       "      <td>NaN</td>\n",
       "      <td>NaN</td>\n",
       "      <td>NaN</td>\n",
       "      <td>NaN</td>\n",
       "      <td>NaN</td>\n",
       "      <td>NaN</td>\n",
       "      <td>0.000000</td>\n",
       "    </tr>\n",
       "    <tr>\n",
       "      <th>25%</th>\n",
       "      <td>NaN</td>\n",
       "      <td>NaN</td>\n",
       "      <td>1999-12-12 00:00:00</td>\n",
       "      <td>1999.000000</td>\n",
       "      <td>2000.000000</td>\n",
       "      <td>2006.000000</td>\n",
       "      <td>NaN</td>\n",
       "      <td>NaN</td>\n",
       "      <td>6.000000</td>\n",
       "      <td>NaN</td>\n",
       "      <td>...</td>\n",
       "      <td>NaN</td>\n",
       "      <td>NaN</td>\n",
       "      <td>NaN</td>\n",
       "      <td>NaN</td>\n",
       "      <td>NaN</td>\n",
       "      <td>NaN</td>\n",
       "      <td>NaN</td>\n",
       "      <td>NaN</td>\n",
       "      <td>NaN</td>\n",
       "      <td>25.000000</td>\n",
       "    </tr>\n",
       "    <tr>\n",
       "      <th>50%</th>\n",
       "      <td>NaN</td>\n",
       "      <td>NaN</td>\n",
       "      <td>2006-01-15 00:00:00</td>\n",
       "      <td>2006.000000</td>\n",
       "      <td>2006.000000</td>\n",
       "      <td>2010.000000</td>\n",
       "      <td>NaN</td>\n",
       "      <td>NaN</td>\n",
       "      <td>8.000000</td>\n",
       "      <td>NaN</td>\n",
       "      <td>...</td>\n",
       "      <td>NaN</td>\n",
       "      <td>NaN</td>\n",
       "      <td>NaN</td>\n",
       "      <td>NaN</td>\n",
       "      <td>NaN</td>\n",
       "      <td>NaN</td>\n",
       "      <td>NaN</td>\n",
       "      <td>NaN</td>\n",
       "      <td>NaN</td>\n",
       "      <td>129.000000</td>\n",
       "    </tr>\n",
       "    <tr>\n",
       "      <th>75%</th>\n",
       "      <td>NaN</td>\n",
       "      <td>NaN</td>\n",
       "      <td>2013-11-17 00:00:00</td>\n",
       "      <td>2013.000000</td>\n",
       "      <td>2014.000000</td>\n",
       "      <td>2018.000000</td>\n",
       "      <td>NaN</td>\n",
       "      <td>NaN</td>\n",
       "      <td>10.000000</td>\n",
       "      <td>NaN</td>\n",
       "      <td>...</td>\n",
       "      <td>NaN</td>\n",
       "      <td>NaN</td>\n",
       "      <td>NaN</td>\n",
       "      <td>NaN</td>\n",
       "      <td>NaN</td>\n",
       "      <td>NaN</td>\n",
       "      <td>NaN</td>\n",
       "      <td>NaN</td>\n",
       "      <td>NaN</td>\n",
       "      <td>795.000000</td>\n",
       "    </tr>\n",
       "    <tr>\n",
       "      <th>max</th>\n",
       "      <td>NaN</td>\n",
       "      <td>NaN</td>\n",
       "      <td>2017-12-17 00:00:00</td>\n",
       "      <td>2017.000000</td>\n",
       "      <td>2018.000000</td>\n",
       "      <td>2022.000000</td>\n",
       "      <td>NaN</td>\n",
       "      <td>NaN</td>\n",
       "      <td>15.000000</td>\n",
       "      <td>NaN</td>\n",
       "      <td>...</td>\n",
       "      <td>NaN</td>\n",
       "      <td>NaN</td>\n",
       "      <td>NaN</td>\n",
       "      <td>NaN</td>\n",
       "      <td>NaN</td>\n",
       "      <td>NaN</td>\n",
       "      <td>NaN</td>\n",
       "      <td>NaN</td>\n",
       "      <td>NaN</td>\n",
       "      <td>80163.000000</td>\n",
       "    </tr>\n",
       "    <tr>\n",
       "      <th>std</th>\n",
       "      <td>NaN</td>\n",
       "      <td>NaN</td>\n",
       "      <td>NaN</td>\n",
       "      <td>8.592362</td>\n",
       "      <td>8.586171</td>\n",
       "      <td>8.040445</td>\n",
       "      <td>NaN</td>\n",
       "      <td>NaN</td>\n",
       "      <td>3.227733</td>\n",
       "      <td>NaN</td>\n",
       "      <td>...</td>\n",
       "      <td>NaN</td>\n",
       "      <td>NaN</td>\n",
       "      <td>NaN</td>\n",
       "      <td>NaN</td>\n",
       "      <td>NaN</td>\n",
       "      <td>NaN</td>\n",
       "      <td>NaN</td>\n",
       "      <td>NaN</td>\n",
       "      <td>NaN</td>\n",
       "      <td>3548.470894</td>\n",
       "    </tr>\n",
       "  </tbody>\n",
       "</table>\n",
       "<p>11 rows × 24 columns</p>\n",
       "</div>"
      ],
      "text/plain": [
       "       Tipo de Elección       Cargo              Fecha de Elección  \\\n",
       "count             64366       64366                          64366   \n",
       "unique                1           1                            NaN   \n",
       "top        PRESIDENCIAL  PRESIDENTE                            NaN   \n",
       "freq              64366       64366                            NaN   \n",
       "mean                NaN         NaN  2005-08-06 23:22:14.157785216   \n",
       "min                 NaN         NaN            1989-12-14 00:00:00   \n",
       "25%                 NaN         NaN            1999-12-12 00:00:00   \n",
       "50%                 NaN         NaN            2006-01-15 00:00:00   \n",
       "75%                 NaN         NaN            2013-11-17 00:00:00   \n",
       "max                 NaN         NaN            2017-12-17 00:00:00   \n",
       "std                 NaN         NaN                            NaN   \n",
       "\n",
       "        Año de Elección  Inicio de Período  Fin de Período      Período  \\\n",
       "count      64366.000000       64366.000000    64366.000000        64366   \n",
       "unique              NaN                NaN             NaN            7   \n",
       "top                 NaN                NaN             NaN  2000 a 2006   \n",
       "freq                NaN                NaN             NaN        12200   \n",
       "mean        2004.847124        2005.645030     2010.266725          NaN   \n",
       "min         1989.000000        1990.000000     1994.000000          NaN   \n",
       "25%         1999.000000        2000.000000     2006.000000          NaN   \n",
       "50%         2006.000000        2006.000000     2010.000000          NaN   \n",
       "75%         2013.000000        2014.000000     2018.000000          NaN   \n",
       "max         2017.000000        2018.000000     2022.000000          NaN   \n",
       "std            8.592362           8.586171        8.040445          NaN   \n",
       "\n",
       "       Votación Presidencial     Id Región      Región  ...  Sexo Mesa  \\\n",
       "count                  64366  64366.000000       64366  ...      64366   \n",
       "unique                     3           NaN          17  ...          3   \n",
       "top         PRIMERA VOTACIÓN           NaN  DEL BIOBIO  ...      MUJER   \n",
       "freq                   34078           NaN        9724  ...      23525   \n",
       "mean                     NaN      8.266274         NaN  ...        NaN   \n",
       "min                      NaN      1.000000         NaN  ...        NaN   \n",
       "25%                      NaN      6.000000         NaN  ...        NaN   \n",
       "50%                      NaN      8.000000         NaN  ...        NaN   \n",
       "75%                      NaN     10.000000         NaN  ...        NaN   \n",
       "max                      NaN     15.000000         NaN  ...        NaN   \n",
       "std                      NaN      3.227733         NaN  ...        NaN   \n",
       "\n",
       "       Candidato (a)    Nombres Apellido Paterno Apellido Materno    Sexo  \\\n",
       "count          64366      42748            42748            42748   42748   \n",
       "unique            40         33               30               30       2   \n",
       "top     VOTOS NULOS   SEBASTIAN           PIÑERA        ECHENIQUE  HOMBRE   \n",
       "freq            8413       5719             6695             6695   34393   \n",
       "mean             NaN        NaN              NaN              NaN     NaN   \n",
       "min              NaN        NaN              NaN              NaN     NaN   \n",
       "25%              NaN        NaN              NaN              NaN     NaN   \n",
       "50%              NaN        NaN              NaN              NaN     NaN   \n",
       "75%              NaN        NaN              NaN              NaN     NaN   \n",
       "max              NaN        NaN              NaN              NaN     NaN   \n",
       "std              NaN        NaN              NaN              NaN     NaN   \n",
       "\n",
       "          Electo(a)        Partido Sigla Partido Votos Totales  \n",
       "count         15882          42748         41620  64366.000000  \n",
       "unique            3             22            19           NaN  \n",
       "top     2ª Votación  INDEPENDIENTE         INDEP           NaN  \n",
       "freq           8894           9064          6792           NaN  \n",
       "mean            NaN            NaN           NaN   1306.059239  \n",
       "min             NaN            NaN           NaN      0.000000  \n",
       "25%             NaN            NaN           NaN     25.000000  \n",
       "50%             NaN            NaN           NaN    129.000000  \n",
       "75%             NaN            NaN           NaN    795.000000  \n",
       "max             NaN            NaN           NaN  80163.000000  \n",
       "std             NaN            NaN           NaN   3548.470894  \n",
       "\n",
       "[11 rows x 24 columns]"
      ]
     },
     "execution_count": 145,
     "metadata": {},
     "output_type": "execute_result"
    }
   ],
   "source": [
    "print(dfx.head())\n",
    "print(dfx.columns)\n",
    "print(dfx.shape)\n",
    "#df.describe()\n",
    "print(dfx.info())\n",
    "#df.describe(percentiles=[0.25, 0.5, 0.75])\n",
    "dfx.describe(include='all')"
   ]
  },
  {
   "cell_type": "code",
   "execution_count": 146,
   "metadata": {},
   "outputs": [],
   "source": [
    "df2= dfx[['Año de Elección','Id Región','Región','Candidato (a)','Partido','Sigla Partido','Votos Totales']]\n",
    "df3= df2[['Candidato (a)','Partido']].groupby(['Candidato (a)','Partido']).sum().reset_index()\n",
    "#Se exporta lista de candidatos para ingreso manual de la tendencia politica\n",
    "df3.to_excel('./tmp/Candidatos_1989-2017.xlsx')"
   ]
  },
  {
   "cell_type": "code",
   "execution_count": 147,
   "metadata": {},
   "outputs": [],
   "source": [
    "df4=pd.read_excel('./tmp/Candidatos_1989-2017_con_tendencia.xlsx')   \n",
    "df4.head()\n",
    "df2= df2.merge(df4, on='Candidato (a)', how='left')\n",
    "df2.loc[df2['Candidato (a)'].str.contains('VOTOS EN BLANCO', case=False, na=False), 'Tendencia Politica'] = 'VB-VN'\n",
    "df2.loc[df2['Candidato (a)'].str.contains('VOTOS NULOS', case=False, na=False), 'Tendencia Politica'] = 'VB-VN'\n",
    "\n",
    "df2.to_excel('./tmp/Candidatos_1989-2017_ajustado.xlsx')"
   ]
  },
  {
   "cell_type": "code",
   "execution_count": 149,
   "metadata": {},
   "outputs": [
    {
     "data": {
      "application/vnd.plotly.v1+json": {
       "config": {
        "plotlyServerURL": "https://plot.ly"
       },
       "data": [
        {
         "link": {
          "color": [
           "rgba(31, 119, 180, 0.3)",
           "rgba(255, 127, 14, 0.3)",
           "rgba(255, 127, 14, 0.3)",
           "rgba(255, 127, 14, 0.3)",
           "rgba(255, 127, 14, 0.3)",
           "rgba(127, 127, 127, 0.3)",
           "rgba(31, 119, 180, 0.3)",
           "rgba(31, 119, 180, 0.3)",
           "rgba(31, 119, 180, 0.3)",
           "rgba(255, 127, 14, 0.3)",
           "rgba(44, 160, 44, 0.3)",
           "rgba(127, 127, 127, 0.3)",
           "rgba(127, 127, 127, 0.3)",
           "rgba(127, 127, 127, 0.3)",
           "rgba(31, 119, 180, 0.3)",
           "rgba(31, 119, 180, 0.3)",
           "rgba(255, 127, 14, 0.3)",
           "rgba(44, 160, 44, 0.3)",
           "rgba(127, 127, 127, 0.3)",
           "rgba(127, 127, 127, 0.3)",
           "rgba(127, 127, 127, 0.3)",
           "rgba(255, 127, 14, 0.3)",
           "rgba(44, 160, 44, 0.3)",
           "rgba(44, 160, 44, 0.3)",
           "rgba(44, 160, 44, 0.3)",
           "rgba(127, 127, 127, 0.3)",
           "rgba(255, 127, 14, 0.3)",
           "rgba(255, 127, 14, 0.3)",
           "rgba(44, 160, 44, 0.3)",
           "rgba(127, 127, 127, 0.3)",
           "rgba(127, 127, 127, 0.3)",
           "rgba(255, 127, 14, 0.3)",
           "rgba(255, 127, 14, 0.3)",
           "rgba(255, 127, 14, 0.3)",
           "rgba(44, 160, 44, 0.3)",
           "rgba(44, 160, 44, 0.3)",
           "rgba(44, 160, 44, 0.3)",
           "rgba(127, 127, 127, 0.3)",
           "rgba(31, 119, 180, 0.3)",
           "rgba(255, 127, 14, 0.3)",
           "rgba(44, 160, 44, 0.3)",
           "rgba(44, 160, 44, 0.3)",
           "rgba(127, 127, 127, 0.3)",
           "rgba(127, 127, 127, 0.3)",
           "rgba(127, 127, 127, 0.3)",
           "rgba(31, 119, 180, 0.3)",
           "rgba(31, 119, 180, 0.3)",
           "rgba(255, 127, 14, 0.3)",
           "rgba(255, 127, 14, 0.3)",
           "rgba(127, 127, 127, 0.3)",
           "rgba(127, 127, 127, 0.3)",
           "rgba(31, 119, 180, 0.3)",
           "rgba(255, 127, 14, 0.3)",
           "rgba(44, 160, 44, 0.3)",
           "rgba(44, 160, 44, 0.3)",
           "rgba(44, 160, 44, 0.3)",
           "rgba(127, 127, 127, 0.3)",
           "rgba(127, 127, 127, 0.3)",
           "rgba(127, 127, 127, 0.3)"
          ],
          "source": [
           17,
           4,
           4,
           4,
           4,
           2,
           34,
           34,
           34,
           26,
           5,
           12,
           12,
           12,
           21,
           21,
           1,
           32,
           8,
           8,
           8,
           18,
           19,
           19,
           19,
           7,
           3,
           3,
           25,
           27,
           27,
           0,
           0,
           0,
           10,
           10,
           10,
           9,
           33,
           16,
           22,
           22,
           15,
           15,
           15,
           13,
           13,
           6,
           6,
           28,
           28,
           14,
           31,
           23,
           23,
           23,
           20,
           20,
           20
          ],
          "target": [
           34,
           34,
           26,
           5,
           12,
           12,
           21,
           1,
           32,
           1,
           32,
           1,
           32,
           8,
           18,
           19,
           18,
           19,
           18,
           19,
           7,
           3,
           3,
           25,
           27,
           27,
           0,
           10,
           10,
           10,
           9,
           33,
           16,
           15,
           33,
           22,
           15,
           15,
           13,
           6,
           13,
           6,
           13,
           6,
           28,
           14,
           23,
           31,
           23,
           23,
           20,
           24,
           29,
           24,
           29,
           11,
           24,
           29,
           30
          ],
          "value": [
           53.788487813545615,
           33.732935574360525,
           5.839892969065535,
           1.1080973972835402,
           3.031985586716995,
           2.4986006590277854,
           0.41501101798531004,
           40.185736352225355,
           46.920676017695484,
           5.839892969065535,
           1.1080973972835402,
           1.8385606772369967,
           2.1466947655106177,
           1.5453308029971662,
           0.1467504964605755,
           0.26826052152473456,
           47.86418999852789,
           50.17546818048964,
           0.18558936820806685,
           0.33925814157853346,
           1.0204832932105659,
           48.19652986319653,
           8.36780668264998,
           40.42840236257022,
           1.986777798372703,
           1.0204832932105659,
           45.1862343966955,
           11.378102149151019,
           40.42840236257022,
           0.17394323269766732,
           2.8333178588856023,
           2.758583642128805,
           42.31974731750617,
           0.10790343706052118,
           25.66958730621247,
           25.306781150573173,
           1.0040792876332587,
           2.8333178588856023,
           28.428170948341275,
           42.31974731750617,
           17.933308405619126,
           7.373472744954046,
           0.391492275572492,
           0.16096626224803665,
           3.3928420457588535,
           5.372491623215804,
           41.380480006317086,
           30.637968204923187,
           19.216218119785065,
           1.5481345326195353,
           1.8447075131393182,
           5.372491623215804,
           30.637968204923187,
           40.689704909231175,
           18.289430060421925,
           3.1656976890685877,
           0.3764866902842985,
           0.1692252869858552,
           1.2989955358691645
          ]
         },
         "node": {
          "color": [
           "rgba(255, 127, 14, 1.0)",
           "rgba(255, 127, 14, 1.0)",
           "rgba(127, 127, 127, 1.0)",
           "rgba(255, 127, 14, 1.0)",
           "rgba(255, 127, 14, 1.0)",
           "rgba(44, 160, 44, 1.0)",
           "rgba(255, 127, 14, 1.0)",
           "rgba(127, 127, 127, 1.0)",
           "rgba(127, 127, 127, 1.0)",
           "rgba(127, 127, 127, 1.0)",
           "rgba(44, 160, 44, 1.0)",
           "rgba(44, 160, 44, 1.0)",
           "rgba(127, 127, 127, 1.0)",
           "rgba(31, 119, 180, 1.0)",
           "rgba(31, 119, 180, 1.0)",
           "rgba(127, 127, 127, 1.0)",
           "rgba(255, 127, 14, 1.0)",
           "rgba(31, 119, 180, 1.0)",
           "rgba(255, 127, 14, 1.0)",
           "rgba(44, 160, 44, 1.0)",
           "rgba(127, 127, 127, 1.0)",
           "rgba(31, 119, 180, 1.0)",
           "rgba(44, 160, 44, 1.0)",
           "rgba(44, 160, 44, 1.0)",
           "rgba(31, 119, 180, 1.0)",
           "rgba(44, 160, 44, 1.0)",
           "rgba(255, 127, 14, 1.0)",
           "rgba(127, 127, 127, 1.0)",
           "rgba(127, 127, 127, 1.0)",
           "rgba(255, 127, 14, 1.0)",
           "rgba(127, 127, 127, 1.0)",
           "rgba(255, 127, 14, 1.0)",
           "rgba(44, 160, 44, 1.0)",
           "rgba(31, 119, 180, 1.0)",
           "rgba(31, 119, 180, 1.0)"
          ],
          "label": [
           "2006-Derecha",
           "1999-Derecha",
           "1989-VB-VN",
           "2005-Derecha",
           "1989-Derecha",
           "1993-Izquierda",
           "2010-Derecha",
           "2000-VB-VN",
           "1999-VB-VN",
           "2006-VB-VN",
           "2006-Izquierda",
           "2017-Izquierda",
           "1993-VB-VN",
           "2010-Centro",
           "2013-Centro",
           "2009-VB-VN",
           "2009-Derecha",
           "1989-Centro",
           "2000-Derecha",
           "2000-Izquierda",
           "2013-VB-VN",
           "1999-Centro",
           "2009-Izquierda",
           "2013-Izquierda",
           "2017-Centro",
           "2005-Izquierda",
           "1993-Derecha",
           "2005-VB-VN",
           "2010-VB-VN",
           "2017-Derecha",
           "2017-VB-VN",
           "2013-Derecha",
           "1999-Izquierda",
           "2009-Centro",
           "1993-Centro"
          ],
          "line": {
           "color": "black",
           "width": 0.5
          },
          "pad": 50,
          "thickness": 30
         },
         "type": "sankey"
        }
       ],
       "layout": {
        "font": {
         "size": 10
        },
        "height": 900,
        "template": {
         "data": {
          "bar": [
           {
            "error_x": {
             "color": "#2a3f5f"
            },
            "error_y": {
             "color": "#2a3f5f"
            },
            "marker": {
             "line": {
              "color": "#E5ECF6",
              "width": 0.5
             },
             "pattern": {
              "fillmode": "overlay",
              "size": 10,
              "solidity": 0.2
             }
            },
            "type": "bar"
           }
          ],
          "barpolar": [
           {
            "marker": {
             "line": {
              "color": "#E5ECF6",
              "width": 0.5
             },
             "pattern": {
              "fillmode": "overlay",
              "size": 10,
              "solidity": 0.2
             }
            },
            "type": "barpolar"
           }
          ],
          "carpet": [
           {
            "aaxis": {
             "endlinecolor": "#2a3f5f",
             "gridcolor": "white",
             "linecolor": "white",
             "minorgridcolor": "white",
             "startlinecolor": "#2a3f5f"
            },
            "baxis": {
             "endlinecolor": "#2a3f5f",
             "gridcolor": "white",
             "linecolor": "white",
             "minorgridcolor": "white",
             "startlinecolor": "#2a3f5f"
            },
            "type": "carpet"
           }
          ],
          "choropleth": [
           {
            "colorbar": {
             "outlinewidth": 0,
             "ticks": ""
            },
            "type": "choropleth"
           }
          ],
          "contour": [
           {
            "colorbar": {
             "outlinewidth": 0,
             "ticks": ""
            },
            "colorscale": [
             [
              0,
              "#0d0887"
             ],
             [
              0.1111111111111111,
              "#46039f"
             ],
             [
              0.2222222222222222,
              "#7201a8"
             ],
             [
              0.3333333333333333,
              "#9c179e"
             ],
             [
              0.4444444444444444,
              "#bd3786"
             ],
             [
              0.5555555555555556,
              "#d8576b"
             ],
             [
              0.6666666666666666,
              "#ed7953"
             ],
             [
              0.7777777777777778,
              "#fb9f3a"
             ],
             [
              0.8888888888888888,
              "#fdca26"
             ],
             [
              1,
              "#f0f921"
             ]
            ],
            "type": "contour"
           }
          ],
          "contourcarpet": [
           {
            "colorbar": {
             "outlinewidth": 0,
             "ticks": ""
            },
            "type": "contourcarpet"
           }
          ],
          "heatmap": [
           {
            "colorbar": {
             "outlinewidth": 0,
             "ticks": ""
            },
            "colorscale": [
             [
              0,
              "#0d0887"
             ],
             [
              0.1111111111111111,
              "#46039f"
             ],
             [
              0.2222222222222222,
              "#7201a8"
             ],
             [
              0.3333333333333333,
              "#9c179e"
             ],
             [
              0.4444444444444444,
              "#bd3786"
             ],
             [
              0.5555555555555556,
              "#d8576b"
             ],
             [
              0.6666666666666666,
              "#ed7953"
             ],
             [
              0.7777777777777778,
              "#fb9f3a"
             ],
             [
              0.8888888888888888,
              "#fdca26"
             ],
             [
              1,
              "#f0f921"
             ]
            ],
            "type": "heatmap"
           }
          ],
          "heatmapgl": [
           {
            "colorbar": {
             "outlinewidth": 0,
             "ticks": ""
            },
            "colorscale": [
             [
              0,
              "#0d0887"
             ],
             [
              0.1111111111111111,
              "#46039f"
             ],
             [
              0.2222222222222222,
              "#7201a8"
             ],
             [
              0.3333333333333333,
              "#9c179e"
             ],
             [
              0.4444444444444444,
              "#bd3786"
             ],
             [
              0.5555555555555556,
              "#d8576b"
             ],
             [
              0.6666666666666666,
              "#ed7953"
             ],
             [
              0.7777777777777778,
              "#fb9f3a"
             ],
             [
              0.8888888888888888,
              "#fdca26"
             ],
             [
              1,
              "#f0f921"
             ]
            ],
            "type": "heatmapgl"
           }
          ],
          "histogram": [
           {
            "marker": {
             "pattern": {
              "fillmode": "overlay",
              "size": 10,
              "solidity": 0.2
             }
            },
            "type": "histogram"
           }
          ],
          "histogram2d": [
           {
            "colorbar": {
             "outlinewidth": 0,
             "ticks": ""
            },
            "colorscale": [
             [
              0,
              "#0d0887"
             ],
             [
              0.1111111111111111,
              "#46039f"
             ],
             [
              0.2222222222222222,
              "#7201a8"
             ],
             [
              0.3333333333333333,
              "#9c179e"
             ],
             [
              0.4444444444444444,
              "#bd3786"
             ],
             [
              0.5555555555555556,
              "#d8576b"
             ],
             [
              0.6666666666666666,
              "#ed7953"
             ],
             [
              0.7777777777777778,
              "#fb9f3a"
             ],
             [
              0.8888888888888888,
              "#fdca26"
             ],
             [
              1,
              "#f0f921"
             ]
            ],
            "type": "histogram2d"
           }
          ],
          "histogram2dcontour": [
           {
            "colorbar": {
             "outlinewidth": 0,
             "ticks": ""
            },
            "colorscale": [
             [
              0,
              "#0d0887"
             ],
             [
              0.1111111111111111,
              "#46039f"
             ],
             [
              0.2222222222222222,
              "#7201a8"
             ],
             [
              0.3333333333333333,
              "#9c179e"
             ],
             [
              0.4444444444444444,
              "#bd3786"
             ],
             [
              0.5555555555555556,
              "#d8576b"
             ],
             [
              0.6666666666666666,
              "#ed7953"
             ],
             [
              0.7777777777777778,
              "#fb9f3a"
             ],
             [
              0.8888888888888888,
              "#fdca26"
             ],
             [
              1,
              "#f0f921"
             ]
            ],
            "type": "histogram2dcontour"
           }
          ],
          "mesh3d": [
           {
            "colorbar": {
             "outlinewidth": 0,
             "ticks": ""
            },
            "type": "mesh3d"
           }
          ],
          "parcoords": [
           {
            "line": {
             "colorbar": {
              "outlinewidth": 0,
              "ticks": ""
             }
            },
            "type": "parcoords"
           }
          ],
          "pie": [
           {
            "automargin": true,
            "type": "pie"
           }
          ],
          "scatter": [
           {
            "fillpattern": {
             "fillmode": "overlay",
             "size": 10,
             "solidity": 0.2
            },
            "type": "scatter"
           }
          ],
          "scatter3d": [
           {
            "line": {
             "colorbar": {
              "outlinewidth": 0,
              "ticks": ""
             }
            },
            "marker": {
             "colorbar": {
              "outlinewidth": 0,
              "ticks": ""
             }
            },
            "type": "scatter3d"
           }
          ],
          "scattercarpet": [
           {
            "marker": {
             "colorbar": {
              "outlinewidth": 0,
              "ticks": ""
             }
            },
            "type": "scattercarpet"
           }
          ],
          "scattergeo": [
           {
            "marker": {
             "colorbar": {
              "outlinewidth": 0,
              "ticks": ""
             }
            },
            "type": "scattergeo"
           }
          ],
          "scattergl": [
           {
            "marker": {
             "colorbar": {
              "outlinewidth": 0,
              "ticks": ""
             }
            },
            "type": "scattergl"
           }
          ],
          "scattermapbox": [
           {
            "marker": {
             "colorbar": {
              "outlinewidth": 0,
              "ticks": ""
             }
            },
            "type": "scattermapbox"
           }
          ],
          "scatterpolar": [
           {
            "marker": {
             "colorbar": {
              "outlinewidth": 0,
              "ticks": ""
             }
            },
            "type": "scatterpolar"
           }
          ],
          "scatterpolargl": [
           {
            "marker": {
             "colorbar": {
              "outlinewidth": 0,
              "ticks": ""
             }
            },
            "type": "scatterpolargl"
           }
          ],
          "scatterternary": [
           {
            "marker": {
             "colorbar": {
              "outlinewidth": 0,
              "ticks": ""
             }
            },
            "type": "scatterternary"
           }
          ],
          "surface": [
           {
            "colorbar": {
             "outlinewidth": 0,
             "ticks": ""
            },
            "colorscale": [
             [
              0,
              "#0d0887"
             ],
             [
              0.1111111111111111,
              "#46039f"
             ],
             [
              0.2222222222222222,
              "#7201a8"
             ],
             [
              0.3333333333333333,
              "#9c179e"
             ],
             [
              0.4444444444444444,
              "#bd3786"
             ],
             [
              0.5555555555555556,
              "#d8576b"
             ],
             [
              0.6666666666666666,
              "#ed7953"
             ],
             [
              0.7777777777777778,
              "#fb9f3a"
             ],
             [
              0.8888888888888888,
              "#fdca26"
             ],
             [
              1,
              "#f0f921"
             ]
            ],
            "type": "surface"
           }
          ],
          "table": [
           {
            "cells": {
             "fill": {
              "color": "#EBF0F8"
             },
             "line": {
              "color": "white"
             }
            },
            "header": {
             "fill": {
              "color": "#C8D4E3"
             },
             "line": {
              "color": "white"
             }
            },
            "type": "table"
           }
          ]
         },
         "layout": {
          "annotationdefaults": {
           "arrowcolor": "#2a3f5f",
           "arrowhead": 0,
           "arrowwidth": 1
          },
          "autotypenumbers": "strict",
          "coloraxis": {
           "colorbar": {
            "outlinewidth": 0,
            "ticks": ""
           }
          },
          "colorscale": {
           "diverging": [
            [
             0,
             "#8e0152"
            ],
            [
             0.1,
             "#c51b7d"
            ],
            [
             0.2,
             "#de77ae"
            ],
            [
             0.3,
             "#f1b6da"
            ],
            [
             0.4,
             "#fde0ef"
            ],
            [
             0.5,
             "#f7f7f7"
            ],
            [
             0.6,
             "#e6f5d0"
            ],
            [
             0.7,
             "#b8e186"
            ],
            [
             0.8,
             "#7fbc41"
            ],
            [
             0.9,
             "#4d9221"
            ],
            [
             1,
             "#276419"
            ]
           ],
           "sequential": [
            [
             0,
             "#0d0887"
            ],
            [
             0.1111111111111111,
             "#46039f"
            ],
            [
             0.2222222222222222,
             "#7201a8"
            ],
            [
             0.3333333333333333,
             "#9c179e"
            ],
            [
             0.4444444444444444,
             "#bd3786"
            ],
            [
             0.5555555555555556,
             "#d8576b"
            ],
            [
             0.6666666666666666,
             "#ed7953"
            ],
            [
             0.7777777777777778,
             "#fb9f3a"
            ],
            [
             0.8888888888888888,
             "#fdca26"
            ],
            [
             1,
             "#f0f921"
            ]
           ],
           "sequentialminus": [
            [
             0,
             "#0d0887"
            ],
            [
             0.1111111111111111,
             "#46039f"
            ],
            [
             0.2222222222222222,
             "#7201a8"
            ],
            [
             0.3333333333333333,
             "#9c179e"
            ],
            [
             0.4444444444444444,
             "#bd3786"
            ],
            [
             0.5555555555555556,
             "#d8576b"
            ],
            [
             0.6666666666666666,
             "#ed7953"
            ],
            [
             0.7777777777777778,
             "#fb9f3a"
            ],
            [
             0.8888888888888888,
             "#fdca26"
            ],
            [
             1,
             "#f0f921"
            ]
           ]
          },
          "colorway": [
           "#636efa",
           "#EF553B",
           "#00cc96",
           "#ab63fa",
           "#FFA15A",
           "#19d3f3",
           "#FF6692",
           "#B6E880",
           "#FF97FF",
           "#FECB52"
          ],
          "font": {
           "color": "#2a3f5f"
          },
          "geo": {
           "bgcolor": "white",
           "lakecolor": "white",
           "landcolor": "#E5ECF6",
           "showlakes": true,
           "showland": true,
           "subunitcolor": "white"
          },
          "hoverlabel": {
           "align": "left"
          },
          "hovermode": "closest",
          "mapbox": {
           "style": "light"
          },
          "paper_bgcolor": "white",
          "plot_bgcolor": "#E5ECF6",
          "polar": {
           "angularaxis": {
            "gridcolor": "white",
            "linecolor": "white",
            "ticks": ""
           },
           "bgcolor": "#E5ECF6",
           "radialaxis": {
            "gridcolor": "white",
            "linecolor": "white",
            "ticks": ""
           }
          },
          "scene": {
           "xaxis": {
            "backgroundcolor": "#E5ECF6",
            "gridcolor": "white",
            "gridwidth": 2,
            "linecolor": "white",
            "showbackground": true,
            "ticks": "",
            "zerolinecolor": "white"
           },
           "yaxis": {
            "backgroundcolor": "#E5ECF6",
            "gridcolor": "white",
            "gridwidth": 2,
            "linecolor": "white",
            "showbackground": true,
            "ticks": "",
            "zerolinecolor": "white"
           },
           "zaxis": {
            "backgroundcolor": "#E5ECF6",
            "gridcolor": "white",
            "gridwidth": 2,
            "linecolor": "white",
            "showbackground": true,
            "ticks": "",
            "zerolinecolor": "white"
           }
          },
          "shapedefaults": {
           "line": {
            "color": "#2a3f5f"
           }
          },
          "ternary": {
           "aaxis": {
            "gridcolor": "white",
            "linecolor": "white",
            "ticks": ""
           },
           "baxis": {
            "gridcolor": "white",
            "linecolor": "white",
            "ticks": ""
           },
           "bgcolor": "#E5ECF6",
           "caxis": {
            "gridcolor": "white",
            "linecolor": "white",
            "ticks": ""
           }
          },
          "title": {
           "x": 0.05
          },
          "xaxis": {
           "automargin": true,
           "gridcolor": "white",
           "linecolor": "white",
           "ticks": "",
           "title": {
            "standoff": 15
           },
           "zerolinecolor": "white",
           "zerolinewidth": 2
          },
          "yaxis": {
           "automargin": true,
           "gridcolor": "white",
           "linecolor": "white",
           "ticks": "",
           "title": {
            "standoff": 15
           },
           "zerolinecolor": "white",
           "zerolinewidth": 2
          }
         }
        },
        "title": {
         "text": "Transiciones de Tendencias Políticas"
        },
        "width": 1400
       }
      }
     },
     "metadata": {},
     "output_type": "display_data"
    }
   ],
   "source": [
    "df4 = df2[['Año de Elección','Tendencia Politica','Votos Totales']].groupby(['Año de Elección','Tendencia Politica']).sum().reset_index()\n",
    "df4['Total por Año'] = df4.groupby('Año de Elección')['Votos Totales'].transform('sum')\n",
    "df4['Porcentaje'] = (df4['Votos Totales'] / df4['Total por Año']) * 100\n",
    "\n",
    "pivot_df4 = df4.pivot_table(index='Año de Elección', columns='Tendencia Politica', \n",
    "                            values='Porcentaje', aggfunc='sum')\n",
    "\n",
    "# Restablecer el índice para que 'Año de Elección' quede como columna\n",
    "pivot_df4 = pivot_df4.reset_index(drop=False)\n",
    "\n",
    "# Asegurarse de que las columnas sigan el formato deseado: 'Año', 'Derecha', 'Centro', 'Izquierda', 'VB-VN'\n",
    "column_order = ['Año de Elección', 'Derecha', 'Centro', 'Izquierda', 'VB-VN']\n",
    "pivot_df4 = pivot_df4.reindex(columns=column_order)\n",
    "\n",
    "# Rellenar cualquier valor nulo con 0\n",
    "pivot_df4 = pivot_df4.fillna(0)\n",
    "\n",
    "df=pivot_df4\n",
    "df.set_index('Año de Elección', inplace=True)\n",
    "tendencias = ['Centro', 'Derecha', 'Izquierda', 'VB-VN']\n",
    "\n",
    "# Función para calcular la matriz de transición entre dos años (sin cambios)\n",
    "def calcular_transicion(df, año_anterior, año_actual):\n",
    "    porcentajes_anterior = df.loc[año_anterior, tendencias]\n",
    "    porcentajes_actual = df.loc[año_actual, tendencias]\n",
    "    cambios = porcentajes_actual - porcentajes_anterior\n",
    "\n",
    "    # Identificar ganadores y perdedores\n",
    "    ganadores = cambios[cambios > 0]\n",
    "    perdedores = cambios[cambios < 0] * -1  # Convertir a valores positivos\n",
    "\n",
    "    # Sumar total de ganancias y pérdidas\n",
    "    total_ganancias = ganadores.sum()\n",
    "    total_perdidas = perdedores.sum()\n",
    "\n",
    "    # Crear matriz de transición vacía\n",
    "    transicion = pd.DataFrame(0.0, index=tendencias, columns=tendencias)\n",
    "\n",
    "    # Si hay perdedores y ganadores\n",
    "    if total_ganancias > 0 and total_perdidas > 0:\n",
    "        for perdedor in perdedores.index:\n",
    "            for ganador in ganadores.index:\n",
    "                # Proporción de la pérdida del perdedor que va al ganador\n",
    "                transicion.loc[perdedor, ganador] = perdedores[perdedor] * (ganadores[ganador] / total_ganancias)\n",
    "    # Si no hay ganadores, los votos perdidos van a VB_VN\n",
    "    elif total_perdidas > 0:\n",
    "        for perdedor in perdedores.index:\n",
    "            transicion.loc[perdedor, 'VB-VN'] += perdedores[perdedor]\n",
    "\n",
    "    # Los que mantienen o aumentan mantienen sus votos anteriores\n",
    "    for tendencia in tendencias:\n",
    "        if cambios[tendencia] >= 0:\n",
    "            transicion.loc[tendencia, tendencia] += min(porcentajes_anterior[tendencia], porcentajes_actual[tendencia])\n",
    "        else:\n",
    "            transicion.loc[tendencia, tendencia] += porcentajes_actual[tendencia]\n",
    "\n",
    "    return transicion\n",
    "\n",
    "# Listas para almacenar los datos necesarios para el gráfico Sankey\n",
    "source_labels_list = []\n",
    "target_labels_list = []\n",
    "values_list = []\n",
    "\n",
    "# Procesar cada par de años para construir las listas de source, target y values\n",
    "for idx in range(len(df.index) - 1):\n",
    "    año_anterior = df.index[idx]\n",
    "    año_actual = df.index[idx + 1]\n",
    "    transicion = calcular_transicion(df, año_anterior, año_actual)\n",
    "\n",
    "    # Excluir columnas y filas adicionales\n",
    "    matriz_sin_totales = transicion.loc[tendencias, tendencias]\n",
    "\n",
    "    # Construir las etiquetas de origen y destino, y los valores\n",
    "    for i, tendencia_origen in enumerate(tendencias):\n",
    "        for j, tendencia_destino in enumerate(tendencias):\n",
    "            source_label = f\"{año_anterior}-{tendencia_origen}\"\n",
    "            target_label = f\"{año_actual}-{tendencia_destino}\"\n",
    "            value = matriz_sin_totales.iloc[i, j]\n",
    "\n",
    "            # Solo agregamos conexiones con valor positivo\n",
    "            if value > 0:\n",
    "                source_labels_list.append(source_label)\n",
    "                target_labels_list.append(target_label)\n",
    "                values_list.append(value)\n",
    "\n",
    "# Crear una lista de etiquetas únicas\n",
    "labels = list(set(source_labels_list + target_labels_list))\n",
    "\n",
    "# Crear un diccionario para mapear etiquetas a índices\n",
    "label_to_index = {label: idx for idx, label in enumerate(labels)}\n",
    "\n",
    "# Mapear las etiquetas de origen y destino a índices\n",
    "source_indices = [label_to_index[label] for label in source_labels_list]\n",
    "target_indices = [label_to_index[label] for label in target_labels_list]\n",
    "\n",
    "\n",
    "# Función para convertir hex a RGBA\n",
    "def hex_to_rgba(hex_color, alpha=1.0):\n",
    "    hex_color = hex_color.lstrip('#')\n",
    "    r, g, b = tuple(int(hex_color[i:i+2], 16) for i in (0, 2, 4))\n",
    "    return f'rgba({r}, {g}, {b}, {alpha})'\n",
    "\n",
    "# Mapa de colores para cada tendencia\n",
    "color_map = {\n",
    "    'Centro': '#1f77b4',      # Azul\n",
    "    'Derecha': '#ff7f0e',     # Naranja\n",
    "    'Izquierda': '#2ca02c',   # Verde\n",
    "    'VB_VN': '#d62728'        # Rojo\n",
    "}\n",
    "\n",
    "# Generar lista de colores RGBA para los nodos con opacidad completa\n",
    "node_colors = []\n",
    "for label in labels:\n",
    "    tendencia = label.split('-')[1]\n",
    "    hex_color = color_map.get(tendencia, '#7f7f7f')  # Gris por defecto\n",
    "    rgba_color = hex_to_rgba(hex_color, alpha=1.0)    # Opacidad completa para nodos\n",
    "    node_colors.append(rgba_color)\n",
    "\n",
    "# Generar lista de colores RGBA para los enlaces con menor opacidad\n",
    "link_colors = []\n",
    "for src_idx in source_indices:\n",
    "    # Obtener la tendencia del nodo de origen\n",
    "    tendencia = labels[src_idx].split('-')[1]\n",
    "    hex_color = color_map.get(tendencia, '#7f7f7f')  # Gris por defecto\n",
    "    # Convertir a RGBA con opacidad reducida (por ejemplo, 0.3)\n",
    "    rgba_color = hex_to_rgba(hex_color, alpha=0.3)\n",
    "    link_colors.append(rgba_color)\n",
    "\n",
    "\n",
    "\n",
    "\n",
    "\n",
    "\n",
    "\n",
    "\n",
    "\n",
    "# Crear el gráfico Sankey\n",
    "fig = go.Figure(data=[go.Sankey(\n",
    "    node=dict(\n",
    "        pad=50,# Controlar el espacio entre los nodos\n",
    "        thickness=30, # Controlar el grosor de las líneas\n",
    "        line=dict(color=\"black\", width=0.5),\n",
    "        label=labels,\n",
    "        color=node_colors\n",
    "    ),\n",
    "    link=dict(\n",
    "        source=source_indices,\n",
    "        target=target_indices,\n",
    "        value=values_list,\n",
    "        color=link_colors\n",
    "    ))])\n",
    "\n",
    "fig.update_layout(\n",
    "    title_text=\"Transiciones de Tendencias Políticas\",\n",
    "    font_size=10,\n",
    "    width=1400,\n",
    "    height=900\n",
    ")\n",
    "fig.show()\n"
   ]
  }
 ],
 "metadata": {
  "kernelspec": {
   "display_name": "base",
   "language": "python",
   "name": "python3"
  },
  "language_info": {
   "codemirror_mode": {
    "name": "ipython",
    "version": 3
   },
   "file_extension": ".py",
   "mimetype": "text/x-python",
   "name": "python",
   "nbconvert_exporter": "python",
   "pygments_lexer": "ipython3",
   "version": "3.12.4"
  }
 },
 "nbformat": 4,
 "nbformat_minor": 2
}

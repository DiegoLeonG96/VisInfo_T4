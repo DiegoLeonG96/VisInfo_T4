{
 "cells": [
  {
   "cell_type": "markdown",
   "metadata": {},
   "source": [
    "# Fluctuaciones en procesos electorales chilenos por región"
   ]
  },
  {
   "cell_type": "markdown",
   "metadata": {},
   "source": [
    "## Contexto\n",
    "\n",
    "Debido a la desigualdad de cantidad de habitantes por región en Chile, existe la creencia popular de que en procesos electorales siempre va a triunfar aquello que triunfa en la Región Metropolitana. Sin embargo, en cada proceso electoral, cada una de las 16 regiones presentes en Chile presenta variaciones de población y también de tendencias de sector político. Surge entonces la interrogante de si históricamente, en los resultados de procesos electorales, ¿Sólo valen las variaciones de la región metropolitana para marcar la tendencia nacional?\n",
    "Adicionalmente, ¿cada región es invariante en el tiempo en tendencia política?\n",
    "\n",
    "El Servicio de Votaciones Electorales (SERVEL) disponibiliza datos abiertos de cada proceso electoral, incluyendo elecciones presidenciales, municipales y plebiscitos. Dados estos datos, se busca poder afirmar o desmentir esta información con la información presente de las 16 regiones del país"
   ]
  },
  {
   "cell_type": "markdown",
   "metadata": {},
   "source": [
    "## Elecciones presidenciales\n",
    "\n",
    "En el primer proceso electoral en que se suele pensar es en el presidencial, el cual se da cada 4 años desde 2006 a la fecha y es el que intuitivamente tiene una mayor participación. \n",
    "\n",
    "Se descargan los datos abiertos del SERVEL: https://www.servel.cl/servel/modulo-de-archivos/ para los procesos de elección presidencial entre 2006 y la actualidad y se estudia en detalle las variaciones de preferencias por sector político"
   ]
  },
  {
   "cell_type": "code",
   "execution_count": 4,
   "metadata": {},
   "outputs": [],
   "source": [
    "import pandas as pd\n",
    "import numpy as np\n",
    "import matplotlib.pyplot as plt\n",
    "import geopandas as gpd\n",
    "from matplotlib.patches import Circle\n",
    "from matplotlib.colors import LinearSegmentedColormap\n",
    "from shapely.ops import unary_union\n",
    "from flexitext import flexitext\n",
    "import plotly.graph_objects as go"
   ]
  },
  {
   "cell_type": "markdown",
   "metadata": {},
   "source": [
    "Desde 2006 hasta 2017"
   ]
  },
  {
   "cell_type": "code",
   "execution_count": 7,
   "metadata": {},
   "outputs": [
    {
     "data": {
      "text/html": [
       "<div>\n",
       "<style scoped>\n",
       "    .dataframe tbody tr th:only-of-type {\n",
       "        vertical-align: middle;\n",
       "    }\n",
       "\n",
       "    .dataframe tbody tr th {\n",
       "        vertical-align: top;\n",
       "    }\n",
       "\n",
       "    .dataframe thead th {\n",
       "        text-align: right;\n",
       "    }\n",
       "</style>\n",
       "<table border=\"1\" class=\"dataframe\">\n",
       "  <thead>\n",
       "    <tr style=\"text-align: right;\">\n",
       "      <th></th>\n",
       "      <th>Tipo de Elección</th>\n",
       "      <th>Cargo</th>\n",
       "      <th>Fecha de Elección</th>\n",
       "      <th>Año de Elección</th>\n",
       "      <th>Inicio de Período</th>\n",
       "      <th>Fin de Período</th>\n",
       "      <th>Período</th>\n",
       "      <th>Votación Presidencial</th>\n",
       "      <th>Id Región</th>\n",
       "      <th>Región</th>\n",
       "      <th>...</th>\n",
       "      <th>Sexo Mesa</th>\n",
       "      <th>Candidato (a)</th>\n",
       "      <th>Nombres</th>\n",
       "      <th>Apellido Paterno</th>\n",
       "      <th>Apellido Materno</th>\n",
       "      <th>Sexo</th>\n",
       "      <th>Electo(a)</th>\n",
       "      <th>Partido</th>\n",
       "      <th>Sigla Partido</th>\n",
       "      <th>Votos Totales</th>\n",
       "    </tr>\n",
       "  </thead>\n",
       "  <tbody>\n",
       "    <tr>\n",
       "      <th>0</th>\n",
       "      <td>PRESIDENCIAL</td>\n",
       "      <td>PRESIDENTE</td>\n",
       "      <td>1989-12-14</td>\n",
       "      <td>1989</td>\n",
       "      <td>1990</td>\n",
       "      <td>1994</td>\n",
       "      <td>1990 a 1994</td>\n",
       "      <td>UNICA VOTACIÓN</td>\n",
       "      <td>1</td>\n",
       "      <td>DE TARAPACA</td>\n",
       "      <td>...</td>\n",
       "      <td>HOMBRE</td>\n",
       "      <td>FRANCISCO JAVIER ERRAZURIZ</td>\n",
       "      <td>FRANCISCO JAVIER</td>\n",
       "      <td>ERRAZURIZ</td>\n",
       "      <td>TALAVERA</td>\n",
       "      <td>HOMBRE</td>\n",
       "      <td>NaN</td>\n",
       "      <td>INDEPENDIENTE</td>\n",
       "      <td>INDEP</td>\n",
       "      <td>7065</td>\n",
       "    </tr>\n",
       "    <tr>\n",
       "      <th>1</th>\n",
       "      <td>PRESIDENCIAL</td>\n",
       "      <td>PRESIDENTE</td>\n",
       "      <td>1989-12-14</td>\n",
       "      <td>1989</td>\n",
       "      <td>1990</td>\n",
       "      <td>1994</td>\n",
       "      <td>1990 a 1994</td>\n",
       "      <td>UNICA VOTACIÓN</td>\n",
       "      <td>1</td>\n",
       "      <td>DE TARAPACA</td>\n",
       "      <td>...</td>\n",
       "      <td>HOMBRE</td>\n",
       "      <td>HERNAN BUCHI</td>\n",
       "      <td>HERNAN</td>\n",
       "      <td>BUCHI</td>\n",
       "      <td>BUC</td>\n",
       "      <td>HOMBRE</td>\n",
       "      <td>NaN</td>\n",
       "      <td>INDEPENDIENTE</td>\n",
       "      <td>INDEP</td>\n",
       "      <td>11549</td>\n",
       "    </tr>\n",
       "    <tr>\n",
       "      <th>2</th>\n",
       "      <td>PRESIDENCIAL</td>\n",
       "      <td>PRESIDENTE</td>\n",
       "      <td>1989-12-14</td>\n",
       "      <td>1989</td>\n",
       "      <td>1990</td>\n",
       "      <td>1994</td>\n",
       "      <td>1990 a 1994</td>\n",
       "      <td>UNICA VOTACIÓN</td>\n",
       "      <td>1</td>\n",
       "      <td>DE TARAPACA</td>\n",
       "      <td>...</td>\n",
       "      <td>HOMBRE</td>\n",
       "      <td>PATRICIO AYLWIN</td>\n",
       "      <td>PATRICIO</td>\n",
       "      <td>AYLWIN</td>\n",
       "      <td>AZOCAR</td>\n",
       "      <td>HOMBRE</td>\n",
       "      <td>SI</td>\n",
       "      <td>DEMOCRATA CRISTIANO</td>\n",
       "      <td>DC</td>\n",
       "      <td>23230</td>\n",
       "    </tr>\n",
       "    <tr>\n",
       "      <th>3</th>\n",
       "      <td>PRESIDENCIAL</td>\n",
       "      <td>PRESIDENTE</td>\n",
       "      <td>1989-12-14</td>\n",
       "      <td>1989</td>\n",
       "      <td>1990</td>\n",
       "      <td>1994</td>\n",
       "      <td>1990 a 1994</td>\n",
       "      <td>UNICA VOTACIÓN</td>\n",
       "      <td>1</td>\n",
       "      <td>DE TARAPACA</td>\n",
       "      <td>...</td>\n",
       "      <td>HOMBRE</td>\n",
       "      <td>VOTOS NULOS</td>\n",
       "      <td>NaN</td>\n",
       "      <td>NaN</td>\n",
       "      <td>NaN</td>\n",
       "      <td>NaN</td>\n",
       "      <td>NaN</td>\n",
       "      <td>NaN</td>\n",
       "      <td>NaN</td>\n",
       "      <td>561</td>\n",
       "    </tr>\n",
       "    <tr>\n",
       "      <th>4</th>\n",
       "      <td>PRESIDENCIAL</td>\n",
       "      <td>PRESIDENTE</td>\n",
       "      <td>1989-12-14</td>\n",
       "      <td>1989</td>\n",
       "      <td>1990</td>\n",
       "      <td>1994</td>\n",
       "      <td>1990 a 1994</td>\n",
       "      <td>UNICA VOTACIÓN</td>\n",
       "      <td>1</td>\n",
       "      <td>DE TARAPACA</td>\n",
       "      <td>...</td>\n",
       "      <td>HOMBRE</td>\n",
       "      <td>VOTOS EN BLANCO</td>\n",
       "      <td>NaN</td>\n",
       "      <td>NaN</td>\n",
       "      <td>NaN</td>\n",
       "      <td>NaN</td>\n",
       "      <td>NaN</td>\n",
       "      <td>NaN</td>\n",
       "      <td>NaN</td>\n",
       "      <td>392</td>\n",
       "    </tr>\n",
       "  </tbody>\n",
       "</table>\n",
       "<p>5 rows × 24 columns</p>\n",
       "</div>"
      ],
      "text/plain": [
       "  Tipo de Elección       Cargo Fecha de Elección  Año de Elección  \\\n",
       "0     PRESIDENCIAL  PRESIDENTE        1989-12-14             1989   \n",
       "1     PRESIDENCIAL  PRESIDENTE        1989-12-14             1989   \n",
       "2     PRESIDENCIAL  PRESIDENTE        1989-12-14             1989   \n",
       "3     PRESIDENCIAL  PRESIDENTE        1989-12-14             1989   \n",
       "4     PRESIDENCIAL  PRESIDENTE        1989-12-14             1989   \n",
       "\n",
       "   Inicio de Período  Fin de Período      Período Votación Presidencial  \\\n",
       "0               1990            1994  1990 a 1994        UNICA VOTACIÓN   \n",
       "1               1990            1994  1990 a 1994        UNICA VOTACIÓN   \n",
       "2               1990            1994  1990 a 1994        UNICA VOTACIÓN   \n",
       "3               1990            1994  1990 a 1994        UNICA VOTACIÓN   \n",
       "4               1990            1994  1990 a 1994        UNICA VOTACIÓN   \n",
       "\n",
       "   Id Región       Región  ...  Sexo Mesa               Candidato (a)  \\\n",
       "0          1  DE TARAPACA  ...     HOMBRE  FRANCISCO JAVIER ERRAZURIZ   \n",
       "1          1  DE TARAPACA  ...     HOMBRE                HERNAN BUCHI   \n",
       "2          1  DE TARAPACA  ...     HOMBRE             PATRICIO AYLWIN   \n",
       "3          1  DE TARAPACA  ...     HOMBRE                VOTOS NULOS    \n",
       "4          1  DE TARAPACA  ...     HOMBRE            VOTOS EN BLANCO    \n",
       "\n",
       "            Nombres Apellido Paterno Apellido Materno    Sexo Electo(a)  \\\n",
       "0  FRANCISCO JAVIER        ERRAZURIZ         TALAVERA  HOMBRE       NaN   \n",
       "1            HERNAN            BUCHI              BUC  HOMBRE       NaN   \n",
       "2          PATRICIO           AYLWIN           AZOCAR  HOMBRE        SI   \n",
       "3               NaN              NaN              NaN     NaN       NaN   \n",
       "4               NaN              NaN              NaN     NaN       NaN   \n",
       "\n",
       "               Partido Sigla Partido Votos Totales  \n",
       "0        INDEPENDIENTE         INDEP          7065  \n",
       "1        INDEPENDIENTE         INDEP         11549  \n",
       "2  DEMOCRATA CRISTIANO            DC         23230  \n",
       "3                  NaN           NaN           561  \n",
       "4                  NaN           NaN           392  \n",
       "\n",
       "[5 rows x 24 columns]"
      ]
     },
     "execution_count": 7,
     "metadata": {},
     "output_type": "execute_result"
    }
   ],
   "source": [
    "data = pd.read_excel('resultados_elecciones_presidenciales_ce_1989_2017_Chile.xlsx',\n",
    "                     sheet_name = 'Presidenciales Chile')\n",
    "data.head(5)"
   ]
  },
  {
   "cell_type": "markdown",
   "metadata": {},
   "source": [
    "Ultimo proceso electoral presencial en 2021"
   ]
  },
  {
   "cell_type": "code",
   "execution_count": 9,
   "metadata": {},
   "outputs": [
    {
     "data": {
      "text/html": [
       "<div>\n",
       "<style scoped>\n",
       "    .dataframe tbody tr th:only-of-type {\n",
       "        vertical-align: middle;\n",
       "    }\n",
       "\n",
       "    .dataframe tbody tr th {\n",
       "        vertical-align: top;\n",
       "    }\n",
       "\n",
       "    .dataframe thead th {\n",
       "        text-align: right;\n",
       "    }\n",
       "</style>\n",
       "<table border=\"1\" class=\"dataframe\">\n",
       "  <thead>\n",
       "    <tr style=\"text-align: right;\">\n",
       "      <th></th>\n",
       "      <th>Nro. Región</th>\n",
       "      <th>Región</th>\n",
       "      <th>Provincia</th>\n",
       "      <th>Circ. Senatorial</th>\n",
       "      <th>Distrito</th>\n",
       "      <th>Comuna</th>\n",
       "      <th>Circ. Electoral</th>\n",
       "      <th>Local</th>\n",
       "      <th>Nro. Mesa</th>\n",
       "      <th>Tipo de mesa</th>\n",
       "      <th>Mesas Fusionadas</th>\n",
       "      <th>Electores</th>\n",
       "      <th>Nro. en Voto</th>\n",
       "      <th>Candidato</th>\n",
       "      <th>Votos TRICEL</th>\n",
       "    </tr>\n",
       "  </thead>\n",
       "  <tbody>\n",
       "    <tr>\n",
       "      <th>0</th>\n",
       "      <td>1.0</td>\n",
       "      <td>DE TARAPACA</td>\n",
       "      <td>IQUIQUE</td>\n",
       "      <td>2.0</td>\n",
       "      <td>2.0</td>\n",
       "      <td>ALTO HOSPICIO</td>\n",
       "      <td>ALTO HOSPICIO</td>\n",
       "      <td>ANEXO DE COLEGIO SAN ANTONIO DE MATILLA</td>\n",
       "      <td>20.0</td>\n",
       "      <td>M</td>\n",
       "      <td>20M</td>\n",
       "      <td>333.0</td>\n",
       "      <td>1.0</td>\n",
       "      <td>GABRIEL BORIC FONT</td>\n",
       "      <td>71.0</td>\n",
       "    </tr>\n",
       "    <tr>\n",
       "      <th>1</th>\n",
       "      <td>1.0</td>\n",
       "      <td>DE TARAPACA</td>\n",
       "      <td>IQUIQUE</td>\n",
       "      <td>2.0</td>\n",
       "      <td>2.0</td>\n",
       "      <td>ALTO HOSPICIO</td>\n",
       "      <td>ALTO HOSPICIO</td>\n",
       "      <td>ANEXO DE COLEGIO SAN ANTONIO DE MATILLA</td>\n",
       "      <td>20.0</td>\n",
       "      <td>M</td>\n",
       "      <td>20M</td>\n",
       "      <td>333.0</td>\n",
       "      <td>2.0</td>\n",
       "      <td>JOSE ANTONIO KAST RIST</td>\n",
       "      <td>92.0</td>\n",
       "    </tr>\n",
       "    <tr>\n",
       "      <th>2</th>\n",
       "      <td>1.0</td>\n",
       "      <td>DE TARAPACA</td>\n",
       "      <td>IQUIQUE</td>\n",
       "      <td>2.0</td>\n",
       "      <td>2.0</td>\n",
       "      <td>ALTO HOSPICIO</td>\n",
       "      <td>ALTO HOSPICIO</td>\n",
       "      <td>ANEXO DE COLEGIO SAN ANTONIO DE MATILLA</td>\n",
       "      <td>20.0</td>\n",
       "      <td>M</td>\n",
       "      <td>20M</td>\n",
       "      <td>333.0</td>\n",
       "      <td>900.0</td>\n",
       "      <td>VOTOS NULOS</td>\n",
       "      <td>1.0</td>\n",
       "    </tr>\n",
       "    <tr>\n",
       "      <th>3</th>\n",
       "      <td>1.0</td>\n",
       "      <td>DE TARAPACA</td>\n",
       "      <td>IQUIQUE</td>\n",
       "      <td>2.0</td>\n",
       "      <td>2.0</td>\n",
       "      <td>ALTO HOSPICIO</td>\n",
       "      <td>ALTO HOSPICIO</td>\n",
       "      <td>ANEXO DE COLEGIO SAN ANTONIO DE MATILLA</td>\n",
       "      <td>20.0</td>\n",
       "      <td>M</td>\n",
       "      <td>20M</td>\n",
       "      <td>333.0</td>\n",
       "      <td>901.0</td>\n",
       "      <td>VOTOS EN BLANCO</td>\n",
       "      <td>0.0</td>\n",
       "    </tr>\n",
       "    <tr>\n",
       "      <th>4</th>\n",
       "      <td>1.0</td>\n",
       "      <td>DE TARAPACA</td>\n",
       "      <td>IQUIQUE</td>\n",
       "      <td>2.0</td>\n",
       "      <td>2.0</td>\n",
       "      <td>ALTO HOSPICIO</td>\n",
       "      <td>ALTO HOSPICIO</td>\n",
       "      <td>ANEXO DE COLEGIO SAN ANTONIO DE MATILLA</td>\n",
       "      <td>21.0</td>\n",
       "      <td>M</td>\n",
       "      <td>21M</td>\n",
       "      <td>340.0</td>\n",
       "      <td>1.0</td>\n",
       "      <td>GABRIEL BORIC FONT</td>\n",
       "      <td>82.0</td>\n",
       "    </tr>\n",
       "  </tbody>\n",
       "</table>\n",
       "</div>"
      ],
      "text/plain": [
       "   Nro. Región       Región Provincia  Circ. Senatorial  Distrito  \\\n",
       "0          1.0  DE TARAPACA   IQUIQUE               2.0       2.0   \n",
       "1          1.0  DE TARAPACA   IQUIQUE               2.0       2.0   \n",
       "2          1.0  DE TARAPACA   IQUIQUE               2.0       2.0   \n",
       "3          1.0  DE TARAPACA   IQUIQUE               2.0       2.0   \n",
       "4          1.0  DE TARAPACA   IQUIQUE               2.0       2.0   \n",
       "\n",
       "          Comuna Circ. Electoral                                    Local  \\\n",
       "0  ALTO HOSPICIO   ALTO HOSPICIO  ANEXO DE COLEGIO SAN ANTONIO DE MATILLA   \n",
       "1  ALTO HOSPICIO   ALTO HOSPICIO  ANEXO DE COLEGIO SAN ANTONIO DE MATILLA   \n",
       "2  ALTO HOSPICIO   ALTO HOSPICIO  ANEXO DE COLEGIO SAN ANTONIO DE MATILLA   \n",
       "3  ALTO HOSPICIO   ALTO HOSPICIO  ANEXO DE COLEGIO SAN ANTONIO DE MATILLA   \n",
       "4  ALTO HOSPICIO   ALTO HOSPICIO  ANEXO DE COLEGIO SAN ANTONIO DE MATILLA   \n",
       "\n",
       "   Nro. Mesa Tipo de mesa Mesas Fusionadas  Electores  Nro. en Voto  \\\n",
       "0       20.0            M              20M      333.0           1.0   \n",
       "1       20.0            M              20M      333.0           2.0   \n",
       "2       20.0            M              20M      333.0         900.0   \n",
       "3       20.0            M              20M      333.0         901.0   \n",
       "4       21.0            M              21M      340.0           1.0   \n",
       "\n",
       "                Candidato  Votos TRICEL  \n",
       "0      GABRIEL BORIC FONT          71.0  \n",
       "1  JOSE ANTONIO KAST RIST          92.0  \n",
       "2             VOTOS NULOS           1.0  \n",
       "3         VOTOS EN BLANCO           0.0  \n",
       "4      GABRIEL BORIC FONT          82.0  "
      ]
     },
     "execution_count": 9,
     "metadata": {},
     "output_type": "execute_result"
    }
   ],
   "source": [
    "data_2021 = pd.read_excel('Resultados_mesa_presidencial_TRICEL_2v_2021.xlsx', sheet_name = 'CHILE')\n",
    "data_2021.head(5)"
   ]
  },
  {
   "cell_type": "code",
   "execution_count": 10,
   "metadata": {},
   "outputs": [
    {
     "data": {
      "text/html": [
       "<div>\n",
       "<style scoped>\n",
       "    .dataframe tbody tr th:only-of-type {\n",
       "        vertical-align: middle;\n",
       "    }\n",
       "\n",
       "    .dataframe tbody tr th {\n",
       "        vertical-align: top;\n",
       "    }\n",
       "\n",
       "    .dataframe thead th {\n",
       "        text-align: right;\n",
       "    }\n",
       "</style>\n",
       "<table border=\"1\" class=\"dataframe\">\n",
       "  <thead>\n",
       "    <tr style=\"text-align: right;\">\n",
       "      <th></th>\n",
       "      <th>Tipo de Elección</th>\n",
       "      <th>Cargo</th>\n",
       "      <th>Fecha de Elección</th>\n",
       "      <th>Año de Elección</th>\n",
       "      <th>Inicio de Período</th>\n",
       "      <th>Fin de Período</th>\n",
       "      <th>Período</th>\n",
       "      <th>Votación Presidencial</th>\n",
       "      <th>Id Región</th>\n",
       "      <th>Región</th>\n",
       "      <th>...</th>\n",
       "      <th>Sexo Mesa</th>\n",
       "      <th>Candidato (a)</th>\n",
       "      <th>Nombres</th>\n",
       "      <th>Apellido Paterno</th>\n",
       "      <th>Apellido Materno</th>\n",
       "      <th>Sexo</th>\n",
       "      <th>Electo(a)</th>\n",
       "      <th>Partido</th>\n",
       "      <th>Sigla Partido</th>\n",
       "      <th>Votos Totales</th>\n",
       "    </tr>\n",
       "  </thead>\n",
       "  <tbody>\n",
       "    <tr>\n",
       "      <th>0</th>\n",
       "      <td>PRESIDENCIAL</td>\n",
       "      <td>PRESIDENTE</td>\n",
       "      <td>2006-01-15</td>\n",
       "      <td>2006</td>\n",
       "      <td>2006</td>\n",
       "      <td>2010</td>\n",
       "      <td>2006 a 2010</td>\n",
       "      <td>SEGUNDA VOTACIÓN</td>\n",
       "      <td>1</td>\n",
       "      <td>DE TARAPACA</td>\n",
       "      <td>...</td>\n",
       "      <td>HOMBRE</td>\n",
       "      <td>MICHELLE BACHELET</td>\n",
       "      <td>MICHELLE</td>\n",
       "      <td>BACHELET</td>\n",
       "      <td>JERIA</td>\n",
       "      <td>MUJER</td>\n",
       "      <td>SI</td>\n",
       "      <td>SOCIALISTA DE CHILE</td>\n",
       "      <td>PS</td>\n",
       "      <td>3910</td>\n",
       "    </tr>\n",
       "    <tr>\n",
       "      <th>1</th>\n",
       "      <td>PRESIDENCIAL</td>\n",
       "      <td>PRESIDENTE</td>\n",
       "      <td>2006-01-15</td>\n",
       "      <td>2006</td>\n",
       "      <td>2006</td>\n",
       "      <td>2010</td>\n",
       "      <td>2006 a 2010</td>\n",
       "      <td>SEGUNDA VOTACIÓN</td>\n",
       "      <td>1</td>\n",
       "      <td>DE TARAPACA</td>\n",
       "      <td>...</td>\n",
       "      <td>HOMBRE</td>\n",
       "      <td>SEBASTIAN PIÑERA</td>\n",
       "      <td>SEBASTIAN</td>\n",
       "      <td>PIÑERA</td>\n",
       "      <td>ECHENIQUE</td>\n",
       "      <td>HOMBRE</td>\n",
       "      <td>NaN</td>\n",
       "      <td>RENOVACION NACIONAL</td>\n",
       "      <td>RN</td>\n",
       "      <td>3430</td>\n",
       "    </tr>\n",
       "    <tr>\n",
       "      <th>2</th>\n",
       "      <td>PRESIDENCIAL</td>\n",
       "      <td>PRESIDENTE</td>\n",
       "      <td>2006-01-15</td>\n",
       "      <td>2006</td>\n",
       "      <td>2006</td>\n",
       "      <td>2010</td>\n",
       "      <td>2006 a 2010</td>\n",
       "      <td>SEGUNDA VOTACIÓN</td>\n",
       "      <td>1</td>\n",
       "      <td>DE TARAPACA</td>\n",
       "      <td>...</td>\n",
       "      <td>HOMBRE</td>\n",
       "      <td>VOTOS NULOS</td>\n",
       "      <td>NaN</td>\n",
       "      <td>NaN</td>\n",
       "      <td>NaN</td>\n",
       "      <td>NaN</td>\n",
       "      <td>NaN</td>\n",
       "      <td>NaN</td>\n",
       "      <td>NaN</td>\n",
       "      <td>195</td>\n",
       "    </tr>\n",
       "    <tr>\n",
       "      <th>3</th>\n",
       "      <td>PRESIDENCIAL</td>\n",
       "      <td>PRESIDENTE</td>\n",
       "      <td>2006-01-15</td>\n",
       "      <td>2006</td>\n",
       "      <td>2006</td>\n",
       "      <td>2010</td>\n",
       "      <td>2006 a 2010</td>\n",
       "      <td>SEGUNDA VOTACIÓN</td>\n",
       "      <td>1</td>\n",
       "      <td>DE TARAPACA</td>\n",
       "      <td>...</td>\n",
       "      <td>HOMBRE</td>\n",
       "      <td>VOTOS EN BLANCO</td>\n",
       "      <td>NaN</td>\n",
       "      <td>NaN</td>\n",
       "      <td>NaN</td>\n",
       "      <td>NaN</td>\n",
       "      <td>NaN</td>\n",
       "      <td>NaN</td>\n",
       "      <td>NaN</td>\n",
       "      <td>47</td>\n",
       "    </tr>\n",
       "    <tr>\n",
       "      <th>4</th>\n",
       "      <td>PRESIDENCIAL</td>\n",
       "      <td>PRESIDENTE</td>\n",
       "      <td>2006-01-15</td>\n",
       "      <td>2006</td>\n",
       "      <td>2006</td>\n",
       "      <td>2010</td>\n",
       "      <td>2006 a 2010</td>\n",
       "      <td>SEGUNDA VOTACIÓN</td>\n",
       "      <td>1</td>\n",
       "      <td>DE TARAPACA</td>\n",
       "      <td>...</td>\n",
       "      <td>MUJER</td>\n",
       "      <td>MICHELLE BACHELET</td>\n",
       "      <td>MICHELLE</td>\n",
       "      <td>BACHELET</td>\n",
       "      <td>JERIA</td>\n",
       "      <td>MUJER</td>\n",
       "      <td>SI</td>\n",
       "      <td>SOCIALISTA DE CHILE</td>\n",
       "      <td>PS</td>\n",
       "      <td>3170</td>\n",
       "    </tr>\n",
       "  </tbody>\n",
       "</table>\n",
       "<p>5 rows × 24 columns</p>\n",
       "</div>"
      ],
      "text/plain": [
       "  Tipo de Elección       Cargo Fecha de Elección  Año de Elección  \\\n",
       "0     PRESIDENCIAL  PRESIDENTE        2006-01-15             2006   \n",
       "1     PRESIDENCIAL  PRESIDENTE        2006-01-15             2006   \n",
       "2     PRESIDENCIAL  PRESIDENTE        2006-01-15             2006   \n",
       "3     PRESIDENCIAL  PRESIDENTE        2006-01-15             2006   \n",
       "4     PRESIDENCIAL  PRESIDENTE        2006-01-15             2006   \n",
       "\n",
       "   Inicio de Período  Fin de Período      Período Votación Presidencial  \\\n",
       "0               2006            2010  2006 a 2010      SEGUNDA VOTACIÓN   \n",
       "1               2006            2010  2006 a 2010      SEGUNDA VOTACIÓN   \n",
       "2               2006            2010  2006 a 2010      SEGUNDA VOTACIÓN   \n",
       "3               2006            2010  2006 a 2010      SEGUNDA VOTACIÓN   \n",
       "4               2006            2010  2006 a 2010      SEGUNDA VOTACIÓN   \n",
       "\n",
       "   Id Región       Región  ...  Sexo Mesa      Candidato (a)    Nombres  \\\n",
       "0          1  DE TARAPACA  ...     HOMBRE  MICHELLE BACHELET   MICHELLE   \n",
       "1          1  DE TARAPACA  ...     HOMBRE   SEBASTIAN PIÑERA  SEBASTIAN   \n",
       "2          1  DE TARAPACA  ...     HOMBRE       VOTOS NULOS         NaN   \n",
       "3          1  DE TARAPACA  ...     HOMBRE   VOTOS EN BLANCO         NaN   \n",
       "4          1  DE TARAPACA  ...      MUJER  MICHELLE BACHELET   MICHELLE   \n",
       "\n",
       "  Apellido Paterno Apellido Materno    Sexo Electo(a)              Partido  \\\n",
       "0         BACHELET            JERIA   MUJER        SI  SOCIALISTA DE CHILE   \n",
       "1           PIÑERA        ECHENIQUE  HOMBRE       NaN  RENOVACION NACIONAL   \n",
       "2              NaN              NaN     NaN       NaN                  NaN   \n",
       "3              NaN              NaN     NaN       NaN                  NaN   \n",
       "4         BACHELET            JERIA   MUJER        SI  SOCIALISTA DE CHILE   \n",
       "\n",
       "  Sigla Partido Votos Totales  \n",
       "0            PS          3910  \n",
       "1            RN          3430  \n",
       "2           NaN           195  \n",
       "3           NaN            47  \n",
       "4            PS          3170  \n",
       "\n",
       "[5 rows x 24 columns]"
      ]
     },
     "execution_count": 10,
     "metadata": {},
     "output_type": "execute_result"
    }
   ],
   "source": [
    "data = data[(data[\"Votación Presidencial\"] == \"SEGUNDA VOTACIÓN\")\n",
    "            & (data[\"Año de Elección\"] >= 2006)]\n",
    "data.reset_index(inplace=True, drop=True)\n",
    "data.head(5)"
   ]
  },
  {
   "cell_type": "markdown",
   "metadata": {},
   "source": [
    "Se agrupa por sector político: izquierda o derecha"
   ]
  },
  {
   "cell_type": "code",
   "execution_count": 11,
   "metadata": {},
   "outputs": [
    {
     "name": "stderr",
     "output_type": "stream",
     "text": [
      "C:\\Users\\Diego\\AppData\\Local\\Temp\\ipykernel_4580\\2741349133.py:1: DeprecationWarning: DataFrameGroupBy.apply operated on the grouping columns. This behavior is deprecated, and in a future version of pandas the grouping columns will be excluded from the operation. Either pass `include_groups=False` to exclude the groupings or explicitly select the grouping columns after groupby to silence this warning.\n",
      "  data_agg_2021 = data_2021.groupby([\"Nro. Región\", \"Región\"]).apply((lambda s: pd.Series({\n"
     ]
    },
    {
     "data": {
      "text/html": [
       "<div>\n",
       "<style scoped>\n",
       "    .dataframe tbody tr th:only-of-type {\n",
       "        vertical-align: middle;\n",
       "    }\n",
       "\n",
       "    .dataframe tbody tr th {\n",
       "        vertical-align: top;\n",
       "    }\n",
       "\n",
       "    .dataframe thead th {\n",
       "        text-align: right;\n",
       "    }\n",
       "</style>\n",
       "<table border=\"1\" class=\"dataframe\">\n",
       "  <thead>\n",
       "    <tr style=\"text-align: right;\">\n",
       "      <th></th>\n",
       "      <th>Año de Elección</th>\n",
       "      <th>Id Región</th>\n",
       "      <th>Región</th>\n",
       "      <th>Votos izquierda</th>\n",
       "      <th>Votos derecha</th>\n",
       "      <th>% izquierda</th>\n",
       "      <th>% derecha</th>\n",
       "      <th>Participación efectiva</th>\n",
       "    </tr>\n",
       "  </thead>\n",
       "  <tbody>\n",
       "    <tr>\n",
       "      <th>0</th>\n",
       "      <td>2021</td>\n",
       "      <td>1</td>\n",
       "      <td>DE TARAPACA</td>\n",
       "      <td>55477</td>\n",
       "      <td>58485</td>\n",
       "      <td>0.49</td>\n",
       "      <td>0.51</td>\n",
       "      <td>113962</td>\n",
       "    </tr>\n",
       "    <tr>\n",
       "      <th>1</th>\n",
       "      <td>2021</td>\n",
       "      <td>2</td>\n",
       "      <td>DE ANTOFAGASTA</td>\n",
       "      <td>128009</td>\n",
       "      <td>86097</td>\n",
       "      <td>0.60</td>\n",
       "      <td>0.40</td>\n",
       "      <td>214106</td>\n",
       "    </tr>\n",
       "    <tr>\n",
       "      <th>2</th>\n",
       "      <td>2021</td>\n",
       "      <td>3</td>\n",
       "      <td>DE ATACAMA</td>\n",
       "      <td>76194</td>\n",
       "      <td>40235</td>\n",
       "      <td>0.65</td>\n",
       "      <td>0.35</td>\n",
       "      <td>116429</td>\n",
       "    </tr>\n",
       "    <tr>\n",
       "      <th>3</th>\n",
       "      <td>2021</td>\n",
       "      <td>4</td>\n",
       "      <td>DE COQUIMBO</td>\n",
       "      <td>199259</td>\n",
       "      <td>115610</td>\n",
       "      <td>0.63</td>\n",
       "      <td>0.37</td>\n",
       "      <td>314869</td>\n",
       "    </tr>\n",
       "    <tr>\n",
       "      <th>4</th>\n",
       "      <td>2021</td>\n",
       "      <td>5</td>\n",
       "      <td>DE VALPARAISO</td>\n",
       "      <td>544874</td>\n",
       "      <td>374058</td>\n",
       "      <td>0.59</td>\n",
       "      <td>0.41</td>\n",
       "      <td>918932</td>\n",
       "    </tr>\n",
       "  </tbody>\n",
       "</table>\n",
       "</div>"
      ],
      "text/plain": [
       "   Año de Elección  Id Región          Región  Votos izquierda  Votos derecha  \\\n",
       "0             2021          1     DE TARAPACA            55477          58485   \n",
       "1             2021          2  DE ANTOFAGASTA           128009          86097   \n",
       "2             2021          3      DE ATACAMA            76194          40235   \n",
       "3             2021          4     DE COQUIMBO           199259         115610   \n",
       "4             2021          5   DE VALPARAISO           544874         374058   \n",
       "\n",
       "   % izquierda  % derecha  Participación efectiva  \n",
       "0         0.49       0.51                  113962  \n",
       "1         0.60       0.40                  214106  \n",
       "2         0.65       0.35                  116429  \n",
       "3         0.63       0.37                  314869  \n",
       "4         0.59       0.41                  918932  "
      ]
     },
     "execution_count": 11,
     "metadata": {},
     "output_type": "execute_result"
    }
   ],
   "source": [
    "data_agg_2021 = data_2021.groupby([\"Nro. Región\", \"Región\"]).apply((lambda s: pd.Series({\n",
    "   \"Votos izquierda\": s[s[\"Candidato\"].isin(['GABRIEL BORIC FONT'])][\"Votos TRICEL\"].astype(int).sum(),\n",
    "   \"Votos derecha\": s[s[\"Candidato\"].isin(['JOSE ANTONIO KAST RIST'])][\"Votos TRICEL\"].astype(int).sum()\n",
    "}))\n",
    ")\n",
    "data_agg_2021.reset_index(inplace = True)\n",
    "data_agg_2021[\"% izquierda\"] = round(\n",
    "    data_agg_2021[\"Votos izquierda\"] / (data_agg_2021[\"Votos izquierda\"] + data_agg_2021[\"Votos derecha\"]), 2)\n",
    "data_agg_2021[\"% derecha\"] = round(\n",
    "    data_agg_2021[\"Votos derecha\"] / (data_agg_2021[\"Votos izquierda\"] + data_agg_2021[\"Votos derecha\"]), 2)\n",
    "data_agg_2021[\"Participación efectiva\"] = data_agg_2021[\"Votos izquierda\"] + data_agg_2021[\"Votos derecha\"]\n",
    "data_agg_2021.rename(columns = {\"Nro. Región\": \"Id Región\"}, inplace = True)\n",
    "data_agg_2021[\"Id Región\"] = data_agg_2021[\"Id Región\"].astype(int)\n",
    "data_agg_2021.insert(0, 'Año de Elección', 2021)\n",
    "data_agg_2021.head(5)"
   ]
  },
  {
   "cell_type": "code",
   "execution_count": 12,
   "metadata": {},
   "outputs": [
    {
     "name": "stderr",
     "output_type": "stream",
     "text": [
      "C:\\Users\\Diego\\AppData\\Local\\Temp\\ipykernel_4580\\1558685333.py:5: DeprecationWarning: DataFrameGroupBy.apply operated on the grouping columns. This behavior is deprecated, and in a future version of pandas the grouping columns will be excluded from the operation. Either pass `include_groups=False` to exclude the groupings or explicitly select the grouping columns after groupby to silence this warning.\n",
      "  data_agg = data.groupby([\"Año de Elección\", \"Id Región\", \"Región\"]).apply((lambda s: pd.Series({\n"
     ]
    },
    {
     "data": {
      "text/html": [
       "<div>\n",
       "<style scoped>\n",
       "    .dataframe tbody tr th:only-of-type {\n",
       "        vertical-align: middle;\n",
       "    }\n",
       "\n",
       "    .dataframe tbody tr th {\n",
       "        vertical-align: top;\n",
       "    }\n",
       "\n",
       "    .dataframe thead th {\n",
       "        text-align: right;\n",
       "    }\n",
       "</style>\n",
       "<table border=\"1\" class=\"dataframe\">\n",
       "  <thead>\n",
       "    <tr style=\"text-align: right;\">\n",
       "      <th></th>\n",
       "      <th>Año de Elección</th>\n",
       "      <th>Id Región</th>\n",
       "      <th>Región</th>\n",
       "      <th>Votos izquierda</th>\n",
       "      <th>Votos derecha</th>\n",
       "      <th>% izquierda</th>\n",
       "      <th>% derecha</th>\n",
       "      <th>Participación efectiva</th>\n",
       "    </tr>\n",
       "  </thead>\n",
       "  <tbody>\n",
       "    <tr>\n",
       "      <th>0</th>\n",
       "      <td>2006</td>\n",
       "      <td>1</td>\n",
       "      <td>DE TARAPACA</td>\n",
       "      <td>86120</td>\n",
       "      <td>84901</td>\n",
       "      <td>0.50</td>\n",
       "      <td>0.50</td>\n",
       "      <td>171021</td>\n",
       "    </tr>\n",
       "    <tr>\n",
       "      <th>1</th>\n",
       "      <td>2006</td>\n",
       "      <td>2</td>\n",
       "      <td>DE ANTOFAGASTA</td>\n",
       "      <td>115979</td>\n",
       "      <td>73399</td>\n",
       "      <td>0.61</td>\n",
       "      <td>0.39</td>\n",
       "      <td>189378</td>\n",
       "    </tr>\n",
       "    <tr>\n",
       "      <th>2</th>\n",
       "      <td>2006</td>\n",
       "      <td>3</td>\n",
       "      <td>DE ATACAMA</td>\n",
       "      <td>66055</td>\n",
       "      <td>43878</td>\n",
       "      <td>0.60</td>\n",
       "      <td>0.40</td>\n",
       "      <td>109933</td>\n",
       "    </tr>\n",
       "    <tr>\n",
       "      <th>3</th>\n",
       "      <td>2006</td>\n",
       "      <td>4</td>\n",
       "      <td>DE COQUIMBO</td>\n",
       "      <td>158908</td>\n",
       "      <td>108237</td>\n",
       "      <td>0.59</td>\n",
       "      <td>0.41</td>\n",
       "      <td>267145</td>\n",
       "    </tr>\n",
       "    <tr>\n",
       "      <th>4</th>\n",
       "      <td>2006</td>\n",
       "      <td>5</td>\n",
       "      <td>DE VALPARAISO</td>\n",
       "      <td>389696</td>\n",
       "      <td>384079</td>\n",
       "      <td>0.50</td>\n",
       "      <td>0.50</td>\n",
       "      <td>773775</td>\n",
       "    </tr>\n",
       "  </tbody>\n",
       "</table>\n",
       "</div>"
      ],
      "text/plain": [
       "   Año de Elección  Id Región          Región  Votos izquierda  Votos derecha  \\\n",
       "0             2006          1     DE TARAPACA            86120          84901   \n",
       "1             2006          2  DE ANTOFAGASTA           115979          73399   \n",
       "2             2006          3      DE ATACAMA            66055          43878   \n",
       "3             2006          4     DE COQUIMBO           158908         108237   \n",
       "4             2006          5   DE VALPARAISO           389696         384079   \n",
       "\n",
       "   % izquierda  % derecha  Participación efectiva  \n",
       "0         0.50       0.50                  171021  \n",
       "1         0.61       0.39                  189378  \n",
       "2         0.60       0.40                  109933  \n",
       "3         0.59       0.41                  267145  \n",
       "4         0.50       0.50                  773775  "
      ]
     },
     "execution_count": 12,
     "metadata": {},
     "output_type": "execute_result"
    }
   ],
   "source": [
    "izq_lista = [\"EDUARDO FREI\", 'MICHELLE BACHELET JERIA', 'MICHELLE BACHELET',\n",
    "            'ALEJANDRO  GUILLIER ALVAREZ']\n",
    "der_lista = ['SEBASTIAN PIÑERA', 'SEBASTIAN PIÑERA ECHENIQUE', 'EVELYN MATTHEI FORNET']\n",
    "\n",
    "data_agg = data.groupby([\"Año de Elección\", \"Id Región\", \"Región\"]).apply((lambda s: pd.Series({\n",
    "   \"Votos izquierda\": s[s[\"Candidato (a)\"].isin(izq_lista)][\"Votos Totales\"].astype(int).sum(),\n",
    "   \"Votos derecha\": s[s[\"Candidato (a)\"].isin(der_lista)][\"Votos Totales\"].astype(int).sum()\n",
    "}))\n",
    ")\n",
    "data_agg.reset_index(inplace = True)\n",
    "data_agg[\"% izquierda\"] = round(\n",
    "    data_agg[\"Votos izquierda\"] / (data_agg[\"Votos izquierda\"] + data_agg[\"Votos derecha\"]), 2)\n",
    "data_agg[\"% derecha\"] = round(\n",
    "    data_agg[\"Votos derecha\"] / (data_agg[\"Votos izquierda\"] + data_agg[\"Votos derecha\"]), 2)\n",
    "data_agg[\"Participación efectiva\"] = data_agg[\"Votos izquierda\"] + data_agg[\"Votos derecha\"]\n",
    "data_agg = pd.concat((data_agg, data_agg_2021))\n",
    "data_agg.head(5)"
   ]
  },
  {
   "cell_type": "markdown",
   "metadata": {},
   "source": [
    "### Participación electoral"
   ]
  },
  {
   "cell_type": "markdown",
   "metadata": {},
   "source": [
    "Intuitivamente, se puede creer que debido al aumento constante de población en el país (particularmente en la región Metropolitana), existe un aumento de participación en las votaciones. Sin embargo, el gráfico muestra que para la Región Metropolitana esto no es cierto, donde en 2013 se registra una partipación electoral más baja que en los procesos anteriores. En 2021 se alcanza un peak de participación en los últimos procesos desde 2006"
   ]
  },
  {
   "cell_type": "code",
   "execution_count": 13,
   "metadata": {},
   "outputs": [
    {
     "data": {
      "text/plain": [
       "Text(0.5, 1.0, 'La participación en la RM fluctúa no necesariamente de forma monótona')"
      ]
     },
     "execution_count": 13,
     "metadata": {},
     "output_type": "execute_result"
    },
    {
     "data": {
      "image/png": "[encoded data removed]",
      "text/plain": [
       "<Figure size 600x500 with 1 Axes>"
      ]
     },
     "metadata": {},
     "output_type": "display_data"
    }
   ],
   "source": [
    "fig, ax = plt.subplots(1, 1, figsize = (6, 5))\n",
    "\n",
    "data_met = data_agg[data_agg[\"Id Región\"] == 13].copy()\n",
    "\n",
    "for temp_iter in data_met.groupby([\"Año de Elección\"]):\n",
    "    temp_df = temp_iter[1]\n",
    "    anio = temp_iter[0][0]\n",
    "    if anio == 2021:\n",
    "        ax.barh(temp_df[\"Año de Elección\"], temp_df[\"Participación efectiva\"], height = 2.2, color = 'r')\n",
    "    else:\n",
    "        ax.barh(temp_df[\"Año de Elección\"], temp_df[\"Participación efectiva\"],\n",
    "                height = 2, color = 'b', alpha = 0.2)\n",
    "\n",
    "ax.set_yticks(data_met[\"Año de Elección\"].values)\n",
    "ax.set_yticklabels(data_met[\"Año de Elección\"].astype(str))\n",
    "ax.tick_params(axis='both', labelsize=8)\n",
    "ax.set_xlabel(\"Participación efectiva (millones de habitantes)\", fontsize = 8)\n",
    "ax.set_ylabel(\"Año de elecciones\", fontsize = 8)\n",
    "ax.set_title(\"La participación en la RM fluctúa no necesariamente de forma monótona\", fontsize = 8)"
   ]
  },
  {
   "cell_type": "markdown",
   "metadata": {},
   "source": [
    "El gráfico mostrado arriba **desmiente totalmente cualquier tendencia monótona creciente o decreciente en la participación electoral en la región metropolitana en los últimos años**"
   ]
  },
  {
   "cell_type": "markdown",
   "metadata": {},
   "source": [
    "### Resultados por tendencia política en las regiones de Chile"
   ]
  },
  {
   "cell_type": "markdown",
   "metadata": {},
   "source": [
    "Sabiendo los porcentajes de preferencias por región. Se puede saber en cada proceso por separado, si los resultados de **todas las regiones** tuvieron una tendencia hacia derecha, centro o izquierda política, donde también existe la posibilidad que solo la Región Metropolitana (y otras regiones de la mayor cantidad de participación) exhiba una tendencia hacia el sector ganador"
   ]
  },
  {
   "cell_type": "code",
   "execution_count": 16,
   "metadata": {},
   "outputs": [
    {
     "data": {
      "image/png": "[encoded data removed]",
      "text/plain": [
       "<Figure size 1000x1000 with 6 Axes>"
      ]
     },
     "metadata": {},
     "output_type": "display_data"
    }
   ],
   "source": [
    "fig, ax = plt.subplots(3, 2, figsize=(10, 10))\n",
    "custom_linestyle = (0, (5, 5))  # 5 unidades de línea, 5 unidades de espacio\n",
    "\n",
    "for (idx, temp_iter) in enumerate(data_agg.groupby([\"Año de Elección\"])):\n",
    "    temp_df = temp_iter[1]\n",
    "    anio = temp_iter[0][0]\n",
    "    region = temp_df[\"Id Región\"].unique()[0]\n",
    "    \n",
    "    ax[idx // 2, idx % 2].plot(np.arange(0.3, 0.8, 0.1),\n",
    "        np.arange(0.3, 0.8, 0.1),\n",
    "        color = 'k',\n",
    "        linestyle=custom_linestyle)\n",
    "    ax[idx // 2, idx % 2].scatter(0.5, 0.5, marker = 'x', color = \"k\", label = \"Igualdad entre sectores (50%)\")\n",
    "\n",
    "    ax[idx // 2, idx % 2].scatter(temp_df[\"% derecha\"], temp_df[\"% izquierda\"],\n",
    "            s=temp_df['Participación efectiva']/temp_df['Participación efectiva'].max()*300,\n",
    "            c=\"lightblue\", alpha = 0.8, label = \"Región \\n(tamaño por participantes)\")\n",
    "    ax[idx // 2, idx % 2].set_xlim(0.3, 0.7)\n",
    "    ax[idx // 2, idx % 2].set_ylim(0.3, 0.7)\n",
    "    ax[idx // 2, idx % 2].set_xticks(np.arange(0.3, 0.8, 0.1))\n",
    "    ax[idx // 2, idx % 2].set_yticks(np.arange(0.3, 0.8, 0.1))\n",
    "    ax[idx // 2, idx % 2].set_xlabel('Tasa de votos a la der. política', fontsize=6)\n",
    "    ax[idx // 2, idx % 2].set_ylabel('Tasa de votos a la izq. política', fontsize=6)\n",
    "    \n",
    "    if anio == 2010:\n",
    "        ax[idx // 2, idx % 2].text(0.33, 0.5, r'$\\uparrow$ Más % votos'+\n",
    "                                '\\n al centro\\npolítico', fontsize=8)\n",
    "        ax[idx // 2, idx % 2].set_ylabel('Tasa de votos al centro político', fontsize=6)\n",
    "    else:\n",
    "        ax[idx // 2, idx % 2].text(0.33, 0.5, r'$\\uparrow$ Más % votos'+\n",
    "                                '\\n a la izquierda\\npolítica', fontsize=8)\n",
    "    ax[idx // 2, idx % 2].text(0.4, 0.33, r'$\\rightarrow$ Más % votos'+\n",
    "                            '\\n a la derecha\\npolítica', fontsize=8)\n",
    "    ax[idx // 2, idx % 2].add_patch(Circle((-0.5, 7), 0.03, color='none', ec='grey'))\n",
    "    ax[idx // 2, idx % 2].legend(fontsize = 6)\n",
    "\n",
    "ax[0, 0].set_title(\"Elecciones 2006 marcadas a la izquierda política\", fontsize = 8)\n",
    "ax[0, 1].set_title(\"Elecciones 2009-2010 marcadas a la derecha política\", fontsize = 8)\n",
    "ax[1, 0].set_title(\"Elecciones 2013 marcadas en mayoría casi absoluta a la izquierda\", fontsize = 8)\n",
    "ax[1, 1].set_title(\"Elecciones 2017 marcadas en mayoría casi absoluta a la derecha\", fontsize = 8)\n",
    "ax[2, 0].set_title(\"Elecciones 2021 divididas y condicionadas por región Metropolitana\", fontsize = 8)\n",
    "ax[2, 1].set_axis_off() #ocultar ejes originales\n",
    "fig.tight_layout()"
   ]
  },
  {
   "cell_type": "markdown",
   "metadata": {},
   "source": [
    "En los gráficos mostrados arriba, se puede ver que en general, en todos los procesos electorales cuando un sector (derecha o izquierda) triunfa, en realidad suele triunfar en todas las regiones. Se puede observar que:\n",
    "\n",
    "- En el proceso de 2013 todas las regiones sin excepción tuvieron inclinación por el sector de izquierda política (todos los puntos que representan regiones en el triángulo superior), donde la RM fue incluso una de las que mostró más similitud entre ambos sectores. Esto desmiente totalmente que en 2013 la decisión de la RM fue la más determinante, ya que se observa que tiende a ser la más dividida.\n",
    "- En el proceso de 2017, se puede observar una inversión en la tendencia hacia el sector de derecha política (triángulo inferior), donde nuevamente la RM fue una de las que mostró más similitud entre ambos sectores.\n",
    "- El único proceso que puede dar cuenta una gran influencia de la RM fue el de 2021, donde esta región tiende a ser la con mayor inclinación hacia el sector de izquierda."
   ]
  },
  {
   "cell_type": "markdown",
   "metadata": {},
   "source": [
    "Como ya se vio la tendencia general de las regiones, ahora se exploran tendencias por ubicación demográfica. Para lo anterior, se definen los siguientes mapas de colores"
   ]
  },
  {
   "cell_type": "code",
   "execution_count": 17,
   "metadata": {},
   "outputs": [
    {
     "data": {
      "image/png": "[encoded data removed]",
      "text/html": [
       "<div style=\"vertical-align: middle;\"><strong>my_gradient</strong> </div><div class=\"cmap\"><img alt=\"my_gradient colormap\" title=\"my_gradient\" style=\"border: 1px solid #555;\" src=\"data:image/png;base64,iVBORw0KGgoAAAANSUhEUgAAAgAAAABACAYAAABsv8+/AAAAGnRFWHRUaXRsZQBteV9ncmFkaWVudCBjb2xvcm1hcPLO8YkAAAAgdEVYdERlc2NyaXB0aW9uAG15X2dyYWRpZW50IGNvbG9ybWFwY9C13wAAADB0RVh0QXV0aG9yAE1hdHBsb3RsaWIgdjMuOS4xLCBodHRwczovL21hdHBsb3RsaWIub3JnVHRzAAAAADJ0RVh0U29mdHdhcmUATWF0cGxvdGxpYiB2My45LjEsIGh0dHBzOi8vbWF0cGxvdGxpYi5vcmd60uwnAAABoElEQVR4nO3WQW6CUBRA0Ydb6f63KB1gm9jUWFEb23vOhMgP3ycEc5f1bdaZmfWwzMzMLIfteNiO67Kcfb64vve6r+un46Pn2b3vlet+vO+N111cv3Oez/ULv/e/zHPtue6d5+Z9H/Re7H6frr2ns50/bmfnuM75+dPnR62v6/ffd+/63fM+a98/ch9eZp7fet6vfh+ePO/Hfqd/AwCgRAAAQJAAAIAgAQAAQQIAAIIEAAAECQAACBIAABAkAAAgSAAAQJAAAIAgAQAAQQIAAIIEAAAECQAACBIAABAkAAAgSAAAQJAAAIAgAQAAQQIAAIIEAAAECQAACBIAABAkAAAgSAAAQJAAAIAgAQAAQQIAAIIEAAAECQAACBIAABAkAAAgSAAAQJAAAIAgAQAAQQIAAIIEAAAECQAACBIAABAkAAAgSAAAQJAAAIAgAQAAQQIAAIIEAAAECQAACBIAABAkAAAgSAAAQJAAAIAgAQAAQQIAAIIEAAAECQAACBIAABAkAAAgSAAAQJAAAIAgAQAAQQIAAIIEAAAECQAACHoHsormGWt/vZ4AAAAASUVORK5CYII=\"></div><div style=\"vertical-align: middle; max-width: 514px; display: flex; justify-content: space-between;\"><div style=\"float: left;\"><div title=\"#ff2400ff\" style=\"display: inline-block; width: 1em; height: 1em; margin: 0; vertical-align: middle; border: 1px solid #555; background-color: #ff2400ff;\"></div> under</div><div style=\"margin: 0 auto; display: inline-block;\">bad <div title=\"#00000000\" style=\"display: inline-block; width: 1em; height: 1em; margin: 0; vertical-align: middle; border: 1px solid #555; background-color: #00000000;\"></div></div><div style=\"float: right;\">over <div title=\"#009bffff\" style=\"display: inline-block; width: 1em; height: 1em; margin: 0; vertical-align: middle; border: 1px solid #555; background-color: #009bffff;\"></div></div>"
      ],
      "text/plain": [
       "<matplotlib.colors.LinearSegmentedColormap at 0x20e56f90800>"
      ]
     },
     "execution_count": 17,
     "metadata": {},
     "output_type": "execute_result"
    }
   ],
   "source": [
    "gradient_iz_der = LinearSegmentedColormap.from_list('my_gradient', (\n",
    "    # Edit this gradient at https://eltos.github.io/gradient/#FF2400-DCDCDC-009BFF\n",
    "    (0.000, (1.000, 0.141, 0.000)),\n",
    "    (0.500, (0.863, 0.863, 0.863)),\n",
    "    (1.000, (0.000, 0.608, 1.000))))\n",
    "gradient_iz_der\n",
    "\n"
   ]
  },
  {
   "cell_type": "code",
   "execution_count": 18,
   "metadata": {},
   "outputs": [
    {
     "data": {
      "image/png": "[encoded data removed]",
      "text/html": [
       "<div style=\"vertical-align: middle;\"><strong>my_gradient</strong> </div><div class=\"cmap\"><img alt=\"my_gradient colormap\" title=\"my_gradient\" style=\"border: 1px solid #555;\" src=\"data:image/png;base64,iVBORw0KGgoAAAANSUhEUgAAAgAAAABACAYAAABsv8+/AAAAGnRFWHRUaXRsZQBteV9ncmFkaWVudCBjb2xvcm1hcPLO8YkAAAAgdEVYdERlc2NyaXB0aW9uAG15X2dyYWRpZW50IGNvbG9ybWFwY9C13wAAADB0RVh0QXV0aG9yAE1hdHBsb3RsaWIgdjMuOS4xLCBodHRwczovL21hdHBsb3RsaWIub3JnVHRzAAAAADJ0RVh0U29mdHdhcmUATWF0cGxvdGxpYiB2My45LjEsIGh0dHBzOi8vbWF0cGxvdGxpYi5vcmd60uwnAAABi0lEQVR4nO3WQW6DMBRAQaf3P2rOEHfReJFKFAWKKvXNbKJgPlgKRO8272OOMcYct/Hl4+Vz6/iYP69vzq31ubO+dd2Dc3vzu3Nrfb6534Nze/OX7/fb73zV3N7823Nnn8+T9z38fP7x+/R4Hn3M8XL++v5b61v3O7tuv/9rP/Z77X7X9da/AQAQIgAAIEgAAECQAACAIAEAAEECAACCBAAABAkAAAgSAAAQJAAAIEgAAECQAACAIAEAAEECAACCBAAABAkAAAgSAAAQJAAAIEgAAECQAACAIAEAAEECAACCBAAABAkAAAgSAAAQJAAAIEgAAECQAACAIAEAAEECAACCBAAABAkAAAgSAAAQJAAAIEgAAECQAACAIAEAAEECAACCBAAABAkAAAgSAAAQJAAAIEgAAECQAACAIAEAAEECAACCBAAABAkAAAgSAAAQJAAAIEgAAECQAACAIAEAAEECAACCBAAABAkAAAgSAAAQJAAAIEgAAECQAACAIAEAAEECAACCBAAABH0CvyX2Gg56Z08AAAAASUVORK5CYII=\"></div><div style=\"vertical-align: middle; max-width: 514px; display: flex; justify-content: space-between;\"><div style=\"float: left;\"><div title=\"#ffed00ff\" style=\"display: inline-block; width: 1em; height: 1em; margin: 0; vertical-align: middle; border: 1px solid #555; background-color: #ffed00ff;\"></div> under</div><div style=\"margin: 0 auto; display: inline-block;\">bad <div title=\"#00000000\" style=\"display: inline-block; width: 1em; height: 1em; margin: 0; vertical-align: middle; border: 1px solid #555; background-color: #00000000;\"></div></div><div style=\"float: right;\">over <div title=\"#009cffff\" style=\"display: inline-block; width: 1em; height: 1em; margin: 0; vertical-align: middle; border: 1px solid #555; background-color: #009cffff;\"></div></div>"
      ],
      "text/plain": [
       "<matplotlib.colors.LinearSegmentedColormap at 0x20e55991670>"
      ]
     },
     "execution_count": 18,
     "metadata": {},
     "output_type": "execute_result"
    }
   ],
   "source": [
    "gradient_cen_der = LinearSegmentedColormap.from_list('my_gradient', (\n",
    "    # Edit this gradient at https://eltos.github.io/gradient/#FFED00-DCDCDC-009CFF\n",
    "    (0.000, (1.000, 0.929, 0.000)),\n",
    "    (0.500, (0.863, 0.863, 0.863)),\n",
    "    (1.000, (0.000, 0.612, 1.000))))\n",
    "gradient_cen_der"
   ]
  },
  {
   "cell_type": "markdown",
   "metadata": {},
   "source": [
    "Bordes de regiones"
   ]
  },
  {
   "cell_type": "code",
   "execution_count": 20,
   "metadata": {},
   "outputs": [],
   "source": [
    "\n",
    "def set_border_on_regiones(df, regiones_list, color, ax, alpha=0.5, linewidth=1.5):\n",
    "    df_temp = df[df['Id Región'].isin(regiones_list)]\n",
    "    contorno = unary_union(df_temp.geometry)\n",
    "    contorno_gdf = gpd.GeoDataFrame(geometry=[contorno], crs=df_temp.crs)\n",
    "    ax = contorno_gdf.boundary.plot(ax=ax, color=color, alpha=alpha, linewidth=linewidth)\n",
    "    return ax"
   ]
  },
  {
   "cell_type": "markdown",
   "metadata": {},
   "source": [
    "Usando los mapas de color anteriores. Se grafican las tendencias de sector político en el mapa de Chile:"
   ]
  },
  {
   "cell_type": "code",
   "execution_count": 28,
   "metadata": {},
   "outputs": [
    {
     "name": "stderr",
     "output_type": "stream",
     "text": [
      "C:\\Users\\Diego\\AppData\\Local\\Temp\\ipykernel_4580\\2124392646.py:27: UserWarning: Geometry is in a geographic CRS. Results from 'centroid' are likely incorrect. Use 'GeoSeries.to_crs()' to re-project geometries to a projected CRS before this operation.\n",
      "\n",
      "  for x, y, label in zip(gdf.geometry.centroid.x, gdf.geometry.centroid.y, gdf['Id Región']):\n",
      "C:\\Users\\Diego\\AppData\\Local\\Temp\\ipykernel_4580\\2124392646.py:27: UserWarning: Geometry is in a geographic CRS. Results from 'centroid' are likely incorrect. Use 'GeoSeries.to_crs()' to re-project geometries to a projected CRS before this operation.\n",
      "\n",
      "  for x, y, label in zip(gdf.geometry.centroid.x, gdf.geometry.centroid.y, gdf['Id Región']):\n",
      "C:\\Users\\Diego\\AppData\\Local\\Temp\\ipykernel_4580\\2124392646.py:27: UserWarning: Geometry is in a geographic CRS. Results from 'centroid' are likely incorrect. Use 'GeoSeries.to_crs()' to re-project geometries to a projected CRS before this operation.\n",
      "\n",
      "  for x, y, label in zip(gdf.geometry.centroid.x, gdf.geometry.centroid.y, gdf['Id Región']):\n",
      "C:\\Users\\Diego\\AppData\\Local\\Temp\\ipykernel_4580\\2124392646.py:27: UserWarning: Geometry is in a geographic CRS. Results from 'centroid' are likely incorrect. Use 'GeoSeries.to_crs()' to re-project geometries to a projected CRS before this operation.\n",
      "\n",
      "  for x, y, label in zip(gdf.geometry.centroid.x, gdf.geometry.centroid.y, gdf['Id Región']):\n",
      "C:\\Users\\Diego\\AppData\\Local\\Temp\\ipykernel_4580\\2124392646.py:27: UserWarning: Geometry is in a geographic CRS. Results from 'centroid' are likely incorrect. Use 'GeoSeries.to_crs()' to re-project geometries to a projected CRS before this operation.\n",
      "\n",
      "  for x, y, label in zip(gdf.geometry.centroid.x, gdf.geometry.centroid.y, gdf['Id Región']):\n"
     ]
    },
    {
     "data": {
      "text/plain": [
       "<matplotlib.offsetbox.AnnotationBbox at 0x20ea03c4470>"
      ]
     },
     "execution_count": 28,
     "metadata": {},
     "output_type": "execute_result"
    },
    {
     "data": {
      "image/png": "[encoded data removed]",
      "text/plain": [
       "<Figure size 2000x1000 with 6 Axes>"
      ]
     },
     "metadata": {},
     "output_type": "display_data"
    }
   ],
   "source": [
    "# TODO: Agregar las regiones que no existen en el 2006\n",
    "gdf = gpd.read_file(\"regiones/regiones.shp\")\n",
    "gdf['Id Región'] = gdf[\"COD_REGI\"].astype(int)\n",
    "\n",
    "gdf = gdf.merge(data_agg, on = 'Id Región')\n",
    "\n",
    "fig, ax = plt.subplots(1, 5, figsize=(20, 10))\n",
    "for (idx, temp_iter) in enumerate(gdf.groupby([\"Año de Elección\"])):\n",
    "    temp_df = temp_iter[1]\n",
    "    anio = temp_iter[0][0]\n",
    "    temp_df['% diferencia'] = temp_df['% derecha'] - temp_df['% izquierda']\n",
    "    # temp_df['% diferencia'] = temp_df['% izquierda'] - temp_df['% derecha']\n",
    "    cmap = gradient_iz_der\n",
    "    if idx == 1:\n",
    "        cmap = gradient_cen_der\n",
    "        # agregar nuevo registro\n",
    "        # temp_df.concat({'Año de Elección': 2006, 'Id Región': 15, 'Región': 'Arica y Parinacota'})\n",
    "        # temp_df.append({'Año de Elección': 2006, 'Id Región': 14, 'Región': 'Los Ríos'})\n",
    "        # temp_df.loc[temp_df['Id Región'] == 15, '% diferencia'] = temp_df.loc[temp_df['Id Región'] == 1, '% diferencia'].values[0]\n",
    "        # temp_df.loc[temp_df['Id Región'] == 14, '% diferencia'] = temp_df.loc[temp_df['Id Región'] == 10, '% diferencia'].values[0]\n",
    "    temp_df.plot(column='% diferencia', ax=ax[idx], legend=False,\n",
    "                    legend_kwds={'label': \"% diferencia\",\n",
    "                                'orientation': \"horizontal\"},\n",
    "                    cmap=cmap, vmin=-0.5, vmax=0.5)\n",
    "   \n",
    "    # set Id Región en el centro de cada región\n",
    "    for x, y, label in zip(gdf.geometry.centroid.x, gdf.geometry.centroid.y, gdf['Id Región']):\n",
    "        ax[idx].text(x, y, label, fontsize=6, ha='center', va='center')\n",
    "    ax[idx].set_axis_off() #ocultar ejes originales\n",
    "    set_border_on_regiones(gdf, [13], 'black', alpha=0.8, linewidth=0.5, ax=ax[idx])\n",
    "    set_border_on_regiones(gdf, [2, 3, 4], 'black', alpha=0.8, linewidth=0.5, ax=ax[idx])\n",
    "    # set_border_on_regiones(gdf, [11, 12], 'black', alpha=0.8, linewidth=0.5, ax=ax[idx])\n",
    "# Agregar el colorbar de forma manual\n",
    "sm = plt.cm.ScalarMappable(cmap=cmap, norm=plt.Normalize(vmin=-0.5, vmax=0.5))\n",
    "sm.set_array([])  # Esto es para evitar un warning\n",
    "cbar = fig.colorbar(sm, ax=ax, orientation='vertical', fraction=0.02, pad=0.04)\n",
    "cbar.set_label('% votos de diferencia en votaciones')  # Etiqueta para el colorbar\n",
    "\n",
    "ax[0].set_title(\"Elecciones 2006\\nResultados: Victoria izquierda con 53.5%\", fontsize = 8)\n",
    "ax[1].set_title(\"Elecciones 2010\\nResultados: Victoria derecha con 51,6%\", fontsize = 8)\n",
    "ax[2].set_title(\"Elecciones 2013\\nResultados: Victoria izquierda con 62,1%\", fontsize = 8)\n",
    "ax[3].set_title(\"Elecciones 2017\\nResultados: Victoria derecha con 54.5%\", fontsize = 8)\n",
    "ax[4].set_title(\"Elecciones 2021\\nResultados: Victoria izquierda con 55.8%\", fontsize = 8)\n",
    "\n",
    "text = \"<name:Arial, size:8, color:#231f20, weight:bold>Las regiones 11 y 12\\nse han mantenido\\n consistentes en\\nmayoría de votos\\na la izquierda\\nlas últimas\\ntres elecciones</>\"\n",
    "flexitext(0.95, 0.1, text, va=\"top\", ax=ax[2], ha='left', ma='left')\n",
    "\n",
    "text = \"<name:Arial, size:8, color:#231f20, weight:bold>Las regiones 2, 3 y 4\\nhan tenido cambios drásticos\\nen apoyo a izquierda/derecha\\nen las últimas tres elecciones</>\"\n",
    "flexitext(0.9, 0.7, text, va=\"top\", ax=ax[3], ha='left', ma='left')\n"
   ]
  },
  {
   "cell_type": "markdown",
   "metadata": {},
   "source": [
    "Se puede ver que en varios procesos electorales presidenciales el país completo puede llegar a apoyar a un sector político en particular. En el 2013 todo el país de norte a sur tuvo una inclinación hacia la izquierda, mientras que en 2017 la relación se invirtió (exceptuando las 2 últimas regiones en el sur de Chile), observando una **transición de sector político**. En el resto de procesos se observa una división, la cual tiende a estar marcada demográficamente. Ejemplo de esto último es que prácticamente todo el norte de Chile apoyó a la izquierda en 2021, mientras que el sur tiende a estar polarizado o dividido. Similarmente, en el 2010 una zona muy marcada en la 2da, 3a y 4a región tuvo una preferencia por el centro político"
   ]
  },
  {
   "cell_type": "markdown",
   "metadata": {},
   "source": [
    "### Transiciones de sector político entre procesos electorales presidenciales"
   ]
  },
  {
   "cell_type": "markdown",
   "metadata": {},
   "source": [
    "#### Transiciones en el tiempo\n",
    "Anteriormente, se ha visto las tendencias por proceso electoral. Sin embargo, se ha omitido cómo varían entre procesos. Para lo anterior, primero se grafican los porcentajes de apoyo y su evolución en el tiempo:"
   ]
  },
  {
   "cell_type": "code",
   "execution_count": 29,
   "metadata": {},
   "outputs": [
    {
     "data": {
      "text/plain": [
       "<matplotlib.legend.Legend at 0x20ea68cb620>"
      ]
     },
     "execution_count": 29,
     "metadata": {},
     "output_type": "execute_result"
    },
    {
     "data": {
      "image/png": "[encoded data removed]",
      "text/plain": [
       "<Figure size 1200x600 with 1 Axes>"
      ]
     },
     "metadata": {},
     "output_type": "display_data"
    }
   ],
   "source": [
    "fig, ax = plt.subplots(1, 1, figsize = (12, 6))\n",
    "flag_regiones = True\n",
    "for temp_iter in data_agg.groupby([\"Id Región\"]):\n",
    "  temp_df = temp_iter[1]\n",
    "  region = temp_iter[0][0]\n",
    "\n",
    "  if region == 13:\n",
    "    ax.plot(temp_df[\"Año de Elección\"], temp_df[\"% derecha\"], alpha = 1, color = 'r', marker = 'o', label = 'Región Metropolitana')\n",
    "\n",
    "  else:\n",
    "    if flag_regiones:\n",
    "      label = \"Resto regiones\"\n",
    "      flag_regiones = False\n",
    "    else:\n",
    "      label = '_nolegend_'\n",
    "    ax.plot(temp_df[\"Año de Elección\"], temp_df[\"% derecha\"], alpha = 0.2, color = 'k', marker = 'o', label = label)\n",
    "\n",
    "  ax.set_xticks([2006, 2010, 2013, 2017, 2021])\n",
    "  ax.set_xticklabels([\"2006\", \"2010\", \"2013\", \"2017\", \"2021\"])\n",
    "  ax.set_xlim(2005.5, 2021.5)\n",
    "  ax.set_xlabel(\"Año de elecciones\", fontsize = 8)\n",
    "  ax.set_ylabel(\"% de votos por derecha política\", fontsize = 8)\n",
    "ax.set_title(\"Las variaciones de lado político son generalmente en todas las regiones\\ny no solo en la RM\",\n",
    "             fontsize = 8)\n",
    "ax.annotate('', xy=(2010, 0.37), xytext=(2007, 0.33),\n",
    "            arrowprops=dict(arrowstyle='->', lw=1, color='black'))\n",
    "ax.annotate('', xy=(2016, 0.37), xytext=(2018, 0.33),\n",
    "            arrowprops=dict(arrowstyle='->', lw=1, color='black'))\n",
    "ax.text(2008, 0.3, 'Disminuye en todas\\nlas regiones', fontsize=8)\n",
    "ax.text(2016, 0.3, 'Aumenta en todas\\nlas regiones', fontsize=8)\n",
    "ax.legend(fontsize = 8)"
   ]
  },
  {
   "cell_type": "markdown",
   "metadata": {},
   "source": [
    "Si se observan los procesos juntos, se puede observar que en general a través de los años existe una transición intercalada de sector político en las preferencias. Al ocurrir una transición de izquierda a derecha o viceversa, en general **el cambio de preferencia es en todas las regiones**. Esto muestra una evidencia que las transiciones en el ganador resultante de cada proceso es un **comportamiento país** y no determinado únicamente por la Región Metropolitana"
   ]
  },
  {
   "cell_type": "markdown",
   "metadata": {},
   "source": [
    "#### Flujos de votos entre sectores"
   ]
  },
  {
   "cell_type": "markdown",
   "metadata": {},
   "source": [
    "Agregando nulos y blancos"
   ]
  },
  {
   "cell_type": "code",
   "execution_count": 264,
   "metadata": {},
   "outputs": [
    {
     "name": "stderr",
     "output_type": "stream",
     "text": [
      "C:\\Users\\CL160369868\\AppData\\Local\\Temp\\ipykernel_12424\\3304849650.py:1: DeprecationWarning:\n",
      "\n",
      "DataFrameGroupBy.apply operated on the grouping columns. This behavior is deprecated, and in a future version of pandas the grouping columns will be excluded from the operation. Either pass `include_groups=False` to exclude the groupings or explicitly select the grouping columns after groupby to silence this warning.\n",
      "\n",
      "C:\\Users\\CL160369868\\AppData\\Local\\Temp\\ipykernel_12424\\3304849650.py:27: DeprecationWarning:\n",
      "\n",
      "DataFrameGroupBy.apply operated on the grouping columns. This behavior is deprecated, and in a future version of pandas the grouping columns will be excluded from the operation. Either pass `include_groups=False` to exclude the groupings or explicitly select the grouping columns after groupby to silence this warning.\n",
      "\n"
     ]
    },
    {
     "data": {
      "text/html": [
       "<div>\n",
       "<style scoped>\n",
       "    .dataframe tbody tr th:only-of-type {\n",
       "        vertical-align: middle;\n",
       "    }\n",
       "\n",
       "    .dataframe tbody tr th {\n",
       "        vertical-align: top;\n",
       "    }\n",
       "\n",
       "    .dataframe thead th {\n",
       "        text-align: right;\n",
       "    }\n",
       "</style>\n",
       "<table border=\"1\" class=\"dataframe\">\n",
       "  <thead>\n",
       "    <tr style=\"text-align: right;\">\n",
       "      <th></th>\n",
       "      <th>Votos izquierda</th>\n",
       "      <th>Votos derecha</th>\n",
       "      <th>Participación efectiva</th>\n",
       "      <th>Nulos y Blancos</th>\n",
       "      <th>%Nulos y Blancos</th>\n",
       "      <th>% Izquierda</th>\n",
       "      <th>% Derecha</th>\n",
       "    </tr>\n",
       "    <tr>\n",
       "      <th>Año de Elección</th>\n",
       "      <th></th>\n",
       "      <th></th>\n",
       "      <th></th>\n",
       "      <th></th>\n",
       "      <th></th>\n",
       "      <th></th>\n",
       "      <th></th>\n",
       "    </tr>\n",
       "  </thead>\n",
       "  <tbody>\n",
       "    <tr>\n",
       "      <th>2006</th>\n",
       "      <td>3723019</td>\n",
       "      <td>3236394</td>\n",
       "      <td>6959413</td>\n",
       "      <td>309944</td>\n",
       "      <td>4.453594</td>\n",
       "      <td>53.496164</td>\n",
       "      <td>46.503836</td>\n",
       "    </tr>\n",
       "    <tr>\n",
       "      <th>2010</th>\n",
       "      <td>3367790</td>\n",
       "      <td>3591182</td>\n",
       "      <td>6958972</td>\n",
       "      <td>378980</td>\n",
       "      <td>5.445919</td>\n",
       "      <td>48.394935</td>\n",
       "      <td>51.605065</td>\n",
       "    </tr>\n",
       "    <tr>\n",
       "      <th>2013</th>\n",
       "      <td>3470379</td>\n",
       "      <td>2111891</td>\n",
       "      <td>5582270</td>\n",
       "      <td>165832</td>\n",
       "      <td>2.970691</td>\n",
       "      <td>62.167882</td>\n",
       "      <td>37.832118</td>\n",
       "    </tr>\n",
       "    <tr>\n",
       "      <th>2017</th>\n",
       "      <td>3147868</td>\n",
       "      <td>3788641</td>\n",
       "      <td>6936509</td>\n",
       "      <td>112508</td>\n",
       "      <td>1.621969</td>\n",
       "      <td>45.381156</td>\n",
       "      <td>54.618844</td>\n",
       "    </tr>\n",
       "    <tr>\n",
       "      <th>2021</th>\n",
       "      <td>4596579</td>\n",
       "      <td>3640606</td>\n",
       "      <td>8237185</td>\n",
       "      <td>92147</td>\n",
       "      <td>1.118671</td>\n",
       "      <td>55.802789</td>\n",
       "      <td>44.197211</td>\n",
       "    </tr>\n",
       "  </tbody>\n",
       "</table>\n",
       "</div>"
      ],
      "text/plain": [
       "                 Votos izquierda  Votos derecha  Participación efectiva  \\\n",
       "Año de Elección                                                           \n",
       "2006                     3723019        3236394                 6959413   \n",
       "2010                     3367790        3591182                 6958972   \n",
       "2013                     3470379        2111891                 5582270   \n",
       "2017                     3147868        3788641                 6936509   \n",
       "2021                     4596579        3640606                 8237185   \n",
       "\n",
       "                 Nulos y Blancos  %Nulos y Blancos  % Izquierda  % Derecha  \n",
       "Año de Elección                                                             \n",
       "2006                      309944          4.453594    53.496164  46.503836  \n",
       "2010                      378980          5.445919    48.394935  51.605065  \n",
       "2013                      165832          2.970691    62.167882  37.832118  \n",
       "2017                      112508          1.621969    45.381156  54.618844  \n",
       "2021                       92147          1.118671    55.802789  44.197211  "
      ]
     },
     "execution_count": 264,
     "metadata": {},
     "output_type": "execute_result"
    }
   ],
   "source": [
    "data_San_2021 = data_2021.groupby([\"Nro. Región\", \"Región\"]).apply(lambda s: pd.Series({\n",
    "    \"Votos izquierda\": s[s[\"Candidato\"] == 'GABRIEL BORIC FONT'][\"Votos TRICEL\"].fillna(0).astype(int).sum(),\n",
    "    \"Votos derecha\": s[s[\"Candidato\"] == 'JOSE ANTONIO KAST RIST'][\"Votos TRICEL\"].fillna(0).astype(int).sum(),\n",
    "    \"Votos Nulos\": s[s[\"Candidato\"] == 'VOTOS NULOS'][\"Votos TRICEL\"].fillna(0).astype(int).sum(),\n",
    "    \"Votos en Blanco\": s[s[\"Candidato\"] == 'VOTOS EN BLANCO'][\"Votos TRICEL\"].fillna(0).astype(int).sum()\n",
    "}))\n",
    "\n",
    "# Resetting the index\n",
    "data_San_2021.reset_index(inplace=True)\n",
    "\n",
    "# Calculating effective participation\n",
    "#data_Sand_2021[\"Participación efectiva\"] = data_Sand_2021[\"Votos izquierda\"] + data_Sand_2021[\"Votos derecha\"]+ data_Sand_2021[\"Votos en Blanco\"]+ data_Sand_2021[\"Votos Nulos\"]\n",
    "data_San_2021[\"Participación efectiva\"] = data_San_2021[\"Votos izquierda\"] + data_San_2021[\"Votos derecha\"]\n",
    "data_San_2021.rename(columns={\"Nro. Región\": \"Id Región\"}, inplace=True)\n",
    "data_San_2021[\"Id Región\"] = data_San_2021[\"Id Región\"].astype(int)\n",
    "\n",
    "# Inserting election year at the beginning\n",
    "data_San_2021.insert(0, 'Año de Elección', 2021)\n",
    "\n",
    "izq_lista = [\"EDUARDO FREI\", 'MICHELLE BACHELET JERIA', 'MICHELLE BACHELET',\n",
    "            'ALEJANDRO  GUILLIER ALVAREZ']\n",
    "der_lista = ['SEBASTIAN PIÑERA', 'SEBASTIAN PIÑERA ECHENIQUE', 'EVELYN MATTHEI FORNET']\n",
    "\n",
    "data['Candidato (a)']=data['Candidato (a)'].replace('VOTOS EN BLANCO ', 'VOTOS EN BLANCO')\n",
    "data['Candidato (a)']=data['Candidato (a)'].replace('VOTOS NULOS ', 'VOTOS NULOS')\n",
    "\n",
    "data_San = data.groupby([\"Año de Elección\", \"Id Región\", \"Región\"]).apply((lambda s: pd.Series({\n",
    "   \"Votos izquierda\": s[s[\"Candidato (a)\"].isin(izq_lista)][\"Votos Totales\"].astype(int).sum(),\n",
    "   \"Votos derecha\": s[s[\"Candidato (a)\"].isin(der_lista)][\"Votos Totales\"].astype(int).sum(),\n",
    "    \"Votos Nulos\": s[s[\"Candidato (a)\"] == 'VOTOS NULOS'][\"Votos Totales\"].fillna(0).astype(int).sum(),\n",
    "    \"Votos en Blanco\": s[s[\"Candidato (a)\"] == 'VOTOS NULOS'][\"Votos Totales\"].fillna(0).astype(int).sum()\n",
    "}))\n",
    ")\n",
    "data_San.reset_index(inplace = True)\n",
    "\n",
    "#data_Sand[\"Participación efectiva\"] = data_Sand[\"Votos izquierda\"] + data_Sand[\"Votos derecha\"]+ data_Sand[\"Votos en Blanco\"]+ data_Sand[\"Votos Nulos\"]\n",
    "data_San[\"Participación efectiva\"] = data_San[\"Votos izquierda\"] + data_San[\"Votos derecha\"]\n",
    "data_San_agg = pd.concat((data_San, data_San_2021))\n",
    "\n",
    "\n",
    "\n",
    "df_san=data_San_agg[['Año de Elección','Votos izquierda','Votos derecha','Votos Nulos','Votos en Blanco','Participación efectiva']].groupby(['Año de Elección']).sum().reset_index()\n",
    "df_san['Nulos y Blancos']=(df_san['Votos Nulos']+df_san['Votos en Blanco'])\n",
    "df_san['%Nulos y Blancos']=(df_san['Nulos y Blancos']/df_san['Participación efectiva'])*100\n",
    "df_san['% Izquierda'] = (df_san['Votos izquierda'] / df_san['Participación efectiva']) * 100\n",
    "df_san['% Derecha'] = (df_san['Votos derecha'] / df_san['Participación efectiva']) * 100\n",
    "df_san.drop(columns=['Votos Nulos','Votos en Blanco'],inplace=True)\n",
    "df_san.set_index('Año de Elección', inplace=True)\n",
    "df_san"
   ]
  },
  {
   "cell_type": "code",
   "execution_count": 265,
   "metadata": {},
   "outputs": [
    {
     "data": {
      "text/html": [
       "<div>\n",
       "<style scoped>\n",
       "    .dataframe tbody tr th:only-of-type {\n",
       "        vertical-align: middle;\n",
       "    }\n",
       "\n",
       "    .dataframe tbody tr th {\n",
       "        vertical-align: top;\n",
       "    }\n",
       "\n",
       "    .dataframe thead th {\n",
       "        text-align: right;\n",
       "    }\n",
       "</style>\n",
       "<table border=\"1\" class=\"dataframe\">\n",
       "  <thead>\n",
       "    <tr style=\"text-align: right;\">\n",
       "      <th></th>\n",
       "      <th>Year</th>\n",
       "      <th>Padron</th>\n",
       "      <th>Participación</th>\n",
       "      <th>No_participación</th>\n",
       "      <th>%Participación</th>\n",
       "      <th>%No_participación</th>\n",
       "    </tr>\n",
       "  </thead>\n",
       "  <tbody>\n",
       "    <tr>\n",
       "      <th>0</th>\n",
       "      <td>2006</td>\n",
       "      <td>8220897</td>\n",
       "      <td>7269357</td>\n",
       "      <td>951540</td>\n",
       "      <td>88.425351</td>\n",
       "      <td>11.574649</td>\n",
       "    </tr>\n",
       "    <tr>\n",
       "      <th>1</th>\n",
       "      <td>2010</td>\n",
       "      <td>8285186</td>\n",
       "      <td>7337952</td>\n",
       "      <td>947234</td>\n",
       "      <td>88.567137</td>\n",
       "      <td>11.432863</td>\n",
       "    </tr>\n",
       "    <tr>\n",
       "      <th>2</th>\n",
       "      <td>2013</td>\n",
       "      <td>13573143</td>\n",
       "      <td>5748102</td>\n",
       "      <td>7825041</td>\n",
       "      <td>42.349086</td>\n",
       "      <td>57.650914</td>\n",
       "    </tr>\n",
       "    <tr>\n",
       "      <th>3</th>\n",
       "      <td>2017</td>\n",
       "      <td>14308151</td>\n",
       "      <td>7049017</td>\n",
       "      <td>7259134</td>\n",
       "      <td>49.265744</td>\n",
       "      <td>50.734256</td>\n",
       "    </tr>\n",
       "    <tr>\n",
       "      <th>4</th>\n",
       "      <td>2021</td>\n",
       "      <td>15030974</td>\n",
       "      <td>8329332</td>\n",
       "      <td>6701642</td>\n",
       "      <td>55.414453</td>\n",
       "      <td>44.585547</td>\n",
       "    </tr>\n",
       "  </tbody>\n",
       "</table>\n",
       "</div>"
      ],
      "text/plain": [
       "   Year    Padron  Participación  No_participación  %Participación  \\\n",
       "0  2006   8220897        7269357            951540       88.425351   \n",
       "1  2010   8285186        7337952            947234       88.567137   \n",
       "2  2013  13573143        5748102           7825041       42.349086   \n",
       "3  2017  14308151        7049017           7259134       49.265744   \n",
       "4  2021  15030974        8329332           6701642       55.414453   \n",
       "\n",
       "   %No_participación  \n",
       "0          11.574649  \n",
       "1          11.432863  \n",
       "2          57.650914  \n",
       "3          50.734256  \n",
       "4          44.585547  "
      ]
     },
     "execution_count": 265,
     "metadata": {},
     "output_type": "execute_result"
    }
   ],
   "source": [
    "df_padron=pd.read_csv('people_enabled_to_vote_chile_2006_2021.csv')\n",
    "df_padron.head()\n",
    "resultado=pd.merge(df_padron,df_sand,left_on='Year',right_on='Año de Elección',how='left')\n",
    "resultado['Participación']=resultado['Participación efectiva']+resultado['Nulos y Blancos']\n",
    "resultado=resultado[['Year','Padron','Participación']]\n",
    "resultado['No_participación']=resultado['Padron']-resultado['Participación']\n",
    "#resultado['Nuevos'] = 0\n",
    "#for i in range(1, len(resultado)):\n",
    "#    resultado.loc[i, 'Nuevos'] = resultado.loc[i, 'Padron'] - resultado.loc[i - 1, 'Padron']\n",
    "\n",
    "resultado['%Participación']=resultado['Participación']/resultado['Padron']*100\n",
    "resultado['%No_participación']=resultado['No_participación']/resultado['Padron']*100\n",
    "\n",
    "\n",
    "# for i in range(len(resultado) - 1):\n",
    "#     resultado.loc[i, 'Nuevos'] = resultado.loc[i + 1, 'Nuevos']\n",
    "\n",
    "# # Asignar el último valor como 0\n",
    "# resultado.loc[len(resultado) - 1, 'Nuevos'] = 0\n",
    "# Crear nuevas columnas 'Nuevos1', 'Nuevos2', ..., 'NuevosN' donde cada columna solo tiene un valor en su índice correspondiente\n",
    "#for i in range(len(resultado)):\n",
    "#    col_name = f'Nuevos{i+1}'\n",
    "#    resultado[col_name] = [resultado['Nuevos'][i] if j == i else 0 for j in range(len(resultado))]\n",
    "#resultado.drop('Nuevos', axis=1, inplace=True)\n",
    "resultado\n"
   ]
  },
  {
   "cell_type": "markdown",
   "metadata": {},
   "source": [
    "Con el fin de visualizar los flujos de votos entre sectores, se parte primero por graficar los flujos de participación:"
   ]
  },
  {
   "cell_type": "code",
   "execution_count": 310,
   "metadata": {},
   "outputs": [
    {
     "data": {
      "application/vnd.plotly.v1+json": {
       "config": {
        "plotlyServerURL": "https://plot.ly"
       },
       "data": [
        {
         "link": {
          "color": [
           "rgba(0, 162, 208, 0.5)",
           "rgba(101, 141, 158, 0.5)",
           "rgba(101, 141, 158, 0.5)",
           "rgba(0, 162, 208, 0.5)",
           "rgba(0, 162, 208, 0.5)",
           "rgba(101, 141, 158, 0.5)",
           "rgba(0, 162, 208, 0.5)",
           "rgba(101, 141, 158, 0.5)",
           "rgba(101, 141, 158, 0.5)",
           "rgba(0, 162, 208, 0.5)",
           "rgba(101, 141, 158, 0.5)",
           "rgba(101, 141, 158, 0.5)"
          ],
          "source": [
           0,
           1,
           1,
           2,
           2,
           3,
           7,
           9,
           9,
           4,
           6,
           6
          ],
          "target": [
           2,
           2,
           3,
           7,
           9,
           9,
           4,
           4,
           6,
           5,
           5,
           8
          ],
          "value": [
           7269357,
           4306,
           947234,
           5748102,
           1589850,
           947234,
           5748102,
           565907,
           7259134,
           7049017,
           557492,
           6701642
          ]
         },
         "node": {
          "color": [
           "rgba(0, 162, 208, 1)",
           "rgba(101, 141, 158, 1)",
           "rgba(0, 162, 208, 1)",
           "rgba(101, 141, 158, 1)",
           "rgba(0, 162, 208, 1)",
           "rgba(0, 162, 208, 1)",
           "rgba(101, 141, 158, 1)",
           "rgba(0, 162, 208, 1)",
           "rgba(101, 141, 158, 1)",
           "rgba(101, 141, 158, 1)"
          ],
          "label": [
           "88.43%",
           "11.57%",
           "88.57%",
           "11.43%",
           "49.27%",
           "55.41%",
           "50.73%",
           "42.35%",
           "44.59%",
           "57.65%"
          ],
          "line": {
           "color": "black",
           "width": 0.5
          },
          "pad": 30,
          "thickness": 20
         },
         "type": "sankey"
        }
       ],
       "layout": {
        "font": {
         "size": 10
        },
        "height": 900,
        "template": {
         "data": {
          "bar": [
           {
            "error_x": {
             "color": "#2a3f5f"
            },
            "error_y": {
             "color": "#2a3f5f"
            },
            "marker": {
             "line": {
              "color": "#E5ECF6",
              "width": 0.5
             },
             "pattern": {
              "fillmode": "overlay",
              "size": 10,
              "solidity": 0.2
             }
            },
            "type": "bar"
           }
          ],
          "barpolar": [
           {
            "marker": {
             "line": {
              "color": "#E5ECF6",
              "width": 0.5
             },
             "pattern": {
              "fillmode": "overlay",
              "size": 10,
              "solidity": 0.2
             }
            },
            "type": "barpolar"
           }
          ],
          "carpet": [
           {
            "aaxis": {
             "endlinecolor": "#2a3f5f",
             "gridcolor": "white",
             "linecolor": "white",
             "minorgridcolor": "white",
             "startlinecolor": "#2a3f5f"
            },
            "baxis": {
             "endlinecolor": "#2a3f5f",
             "gridcolor": "white",
             "linecolor": "white",
             "minorgridcolor": "white",
             "startlinecolor": "#2a3f5f"
            },
            "type": "carpet"
           }
          ],
          "choropleth": [
           {
            "colorbar": {
             "outlinewidth": 0,
             "ticks": ""
            },
            "type": "choropleth"
           }
          ],
          "contour": [
           {
            "colorbar": {
             "outlinewidth": 0,
             "ticks": ""
            },
            "colorscale": [
             [
              0,
              "#0d0887"
             ],
             [
              0.1111111111111111,
              "#46039f"
             ],
             [
              0.2222222222222222,
              "#7201a8"
             ],
             [
              0.3333333333333333,
              "#9c179e"
             ],
             [
              0.4444444444444444,
              "#bd3786"
             ],
             [
              0.5555555555555556,
              "#d8576b"
             ],
             [
              0.6666666666666666,
              "#ed7953"
             ],
             [
              0.7777777777777778,
              "#fb9f3a"
             ],
             [
              0.8888888888888888,
              "#fdca26"
             ],
             [
              1,
              "#f0f921"
             ]
            ],
            "type": "contour"
           }
          ],
          "contourcarpet": [
           {
            "colorbar": {
             "outlinewidth": 0,
             "ticks": ""
            },
            "type": "contourcarpet"
           }
          ],
          "heatmap": [
           {
            "colorbar": {
             "outlinewidth": 0,
             "ticks": ""
            },
            "colorscale": [
             [
              0,
              "#0d0887"
             ],
             [
              0.1111111111111111,
              "#46039f"
             ],
             [
              0.2222222222222222,
              "#7201a8"
             ],
             [
              0.3333333333333333,
              "#9c179e"
             ],
             [
              0.4444444444444444,
              "#bd3786"
             ],
             [
              0.5555555555555556,
              "#d8576b"
             ],
             [
              0.6666666666666666,
              "#ed7953"
             ],
             [
              0.7777777777777778,
              "#fb9f3a"
             ],
             [
              0.8888888888888888,
              "#fdca26"
             ],
             [
              1,
              "#f0f921"
             ]
            ],
            "type": "heatmap"
           }
          ],
          "heatmapgl": [
           {
            "colorbar": {
             "outlinewidth": 0,
             "ticks": ""
            },
            "colorscale": [
             [
              0,
              "#0d0887"
             ],
             [
              0.1111111111111111,
              "#46039f"
             ],
             [
              0.2222222222222222,
              "#7201a8"
             ],
             [
              0.3333333333333333,
              "#9c179e"
             ],
             [
              0.4444444444444444,
              "#bd3786"
             ],
             [
              0.5555555555555556,
              "#d8576b"
             ],
             [
              0.6666666666666666,
              "#ed7953"
             ],
             [
              0.7777777777777778,
              "#fb9f3a"
             ],
             [
              0.8888888888888888,
              "#fdca26"
             ],
             [
              1,
              "#f0f921"
             ]
            ],
            "type": "heatmapgl"
           }
          ],
          "histogram": [
           {
            "marker": {
             "pattern": {
              "fillmode": "overlay",
              "size": 10,
              "solidity": 0.2
             }
            },
            "type": "histogram"
           }
          ],
          "histogram2d": [
           {
            "colorbar": {
             "outlinewidth": 0,
             "ticks": ""
            },
            "colorscale": [
             [
              0,
              "#0d0887"
             ],
             [
              0.1111111111111111,
              "#46039f"
             ],
             [
              0.2222222222222222,
              "#7201a8"
             ],
             [
              0.3333333333333333,
              "#9c179e"
             ],
             [
              0.4444444444444444,
              "#bd3786"
             ],
             [
              0.5555555555555556,
              "#d8576b"
             ],
             [
              0.6666666666666666,
              "#ed7953"
             ],
             [
              0.7777777777777778,
              "#fb9f3a"
             ],
             [
              0.8888888888888888,
              "#fdca26"
             ],
             [
              1,
              "#f0f921"
             ]
            ],
            "type": "histogram2d"
           }
          ],
          "histogram2dcontour": [
           {
            "colorbar": {
             "outlinewidth": 0,
             "ticks": ""
            },
            "colorscale": [
             [
              0,
              "#0d0887"
             ],
             [
              0.1111111111111111,
              "#46039f"
             ],
             [
              0.2222222222222222,
              "#7201a8"
             ],
             [
              0.3333333333333333,
              "#9c179e"
             ],
             [
              0.4444444444444444,
              "#bd3786"
             ],
             [
              0.5555555555555556,
              "#d8576b"
             ],
             [
              0.6666666666666666,
              "#ed7953"
             ],
             [
              0.7777777777777778,
              "#fb9f3a"
             ],
             [
              0.8888888888888888,
              "#fdca26"
             ],
             [
              1,
              "#f0f921"
             ]
            ],
            "type": "histogram2dcontour"
           }
          ],
          "mesh3d": [
           {
            "colorbar": {
             "outlinewidth": 0,
             "ticks": ""
            },
            "type": "mesh3d"
           }
          ],
          "parcoords": [
           {
            "line": {
             "colorbar": {
              "outlinewidth": 0,
              "ticks": ""
             }
            },
            "type": "parcoords"
           }
          ],
          "pie": [
           {
            "automargin": true,
            "type": "pie"
           }
          ],
          "scatter": [
           {
            "fillpattern": {
             "fillmode": "overlay",
             "size": 10,
             "solidity": 0.2
            },
            "type": "scatter"
           }
          ],
          "scatter3d": [
           {
            "line": {
             "colorbar": {
              "outlinewidth": 0,
              "ticks": ""
             }
            },
            "marker": {
             "colorbar": {
              "outlinewidth": 0,
              "ticks": ""
             }
            },
            "type": "scatter3d"
           }
          ],
          "scattercarpet": [
           {
            "marker": {
             "colorbar": {
              "outlinewidth": 0,
              "ticks": ""
             }
            },
            "type": "scattercarpet"
           }
          ],
          "scattergeo": [
           {
            "marker": {
             "colorbar": {
              "outlinewidth": 0,
              "ticks": ""
             }
            },
            "type": "scattergeo"
           }
          ],
          "scattergl": [
           {
            "marker": {
             "colorbar": {
              "outlinewidth": 0,
              "ticks": ""
             }
            },
            "type": "scattergl"
           }
          ],
          "scattermapbox": [
           {
            "marker": {
             "colorbar": {
              "outlinewidth": 0,
              "ticks": ""
             }
            },
            "type": "scattermapbox"
           }
          ],
          "scatterpolar": [
           {
            "marker": {
             "colorbar": {
              "outlinewidth": 0,
              "ticks": ""
             }
            },
            "type": "scatterpolar"
           }
          ],
          "scatterpolargl": [
           {
            "marker": {
             "colorbar": {
              "outlinewidth": 0,
              "ticks": ""
             }
            },
            "type": "scatterpolargl"
           }
          ],
          "scatterternary": [
           {
            "marker": {
             "colorbar": {
              "outlinewidth": 0,
              "ticks": ""
             }
            },
            "type": "scatterternary"
           }
          ],
          "surface": [
           {
            "colorbar": {
             "outlinewidth": 0,
             "ticks": ""
            },
            "colorscale": [
             [
              0,
              "#0d0887"
             ],
             [
              0.1111111111111111,
              "#46039f"
             ],
             [
              0.2222222222222222,
              "#7201a8"
             ],
             [
              0.3333333333333333,
              "#9c179e"
             ],
             [
              0.4444444444444444,
              "#bd3786"
             ],
             [
              0.5555555555555556,
              "#d8576b"
             ],
             [
              0.6666666666666666,
              "#ed7953"
             ],
             [
              0.7777777777777778,
              "#fb9f3a"
             ],
             [
              0.8888888888888888,
              "#fdca26"
             ],
             [
              1,
              "#f0f921"
             ]
            ],
            "type": "surface"
           }
          ],
          "table": [
           {
            "cells": {
             "fill": {
              "color": "#EBF0F8"
             },
             "line": {
              "color": "white"
             }
            },
            "header": {
             "fill": {
              "color": "#C8D4E3"
             },
             "line": {
              "color": "white"
             }
            },
            "type": "table"
           }
          ]
         },
         "layout": {
          "annotationdefaults": {
           "arrowcolor": "#2a3f5f",
           "arrowhead": 0,
           "arrowwidth": 1
          },
          "autotypenumbers": "strict",
          "coloraxis": {
           "colorbar": {
            "outlinewidth": 0,
            "ticks": ""
           }
          },
          "colorscale": {
           "diverging": [
            [
             0,
             "#8e0152"
            ],
            [
             0.1,
             "#c51b7d"
            ],
            [
             0.2,
             "#de77ae"
            ],
            [
             0.3,
             "#f1b6da"
            ],
            [
             0.4,
             "#fde0ef"
            ],
            [
             0.5,
             "#f7f7f7"
            ],
            [
             0.6,
             "#e6f5d0"
            ],
            [
             0.7,
             "#b8e186"
            ],
            [
             0.8,
             "#7fbc41"
            ],
            [
             0.9,
             "#4d9221"
            ],
            [
             1,
             "#276419"
            ]
           ],
           "sequential": [
            [
             0,
             "#0d0887"
            ],
            [
             0.1111111111111111,
             "#46039f"
            ],
            [
             0.2222222222222222,
             "#7201a8"
            ],
            [
             0.3333333333333333,
             "#9c179e"
            ],
            [
             0.4444444444444444,
             "#bd3786"
            ],
            [
             0.5555555555555556,
             "#d8576b"
            ],
            [
             0.6666666666666666,
             "#ed7953"
            ],
            [
             0.7777777777777778,
             "#fb9f3a"
            ],
            [
             0.8888888888888888,
             "#fdca26"
            ],
            [
             1,
             "#f0f921"
            ]
           ],
           "sequentialminus": [
            [
             0,
             "#0d0887"
            ],
            [
             0.1111111111111111,
             "#46039f"
            ],
            [
             0.2222222222222222,
             "#7201a8"
            ],
            [
             0.3333333333333333,
             "#9c179e"
            ],
            [
             0.4444444444444444,
             "#bd3786"
            ],
            [
             0.5555555555555556,
             "#d8576b"
            ],
            [
             0.6666666666666666,
             "#ed7953"
            ],
            [
             0.7777777777777778,
             "#fb9f3a"
            ],
            [
             0.8888888888888888,
             "#fdca26"
            ],
            [
             1,
             "#f0f921"
            ]
           ]
          },
          "colorway": [
           "#636efa",
           "#EF553B",
           "#00cc96",
           "#ab63fa",
           "#FFA15A",
           "#19d3f3",
           "#FF6692",
           "#B6E880",
           "#FF97FF",
           "#FECB52"
          ],
          "font": {
           "color": "#2a3f5f"
          },
          "geo": {
           "bgcolor": "white",
           "lakecolor": "white",
           "landcolor": "#E5ECF6",
           "showlakes": true,
           "showland": true,
           "subunitcolor": "white"
          },
          "hoverlabel": {
           "align": "left"
          },
          "hovermode": "closest",
          "mapbox": {
           "style": "light"
          },
          "paper_bgcolor": "white",
          "plot_bgcolor": "#E5ECF6",
          "polar": {
           "angularaxis": {
            "gridcolor": "white",
            "linecolor": "white",
            "ticks": ""
           },
           "bgcolor": "#E5ECF6",
           "radialaxis": {
            "gridcolor": "white",
            "linecolor": "white",
            "ticks": ""
           }
          },
          "scene": {
           "xaxis": {
            "backgroundcolor": "#E5ECF6",
            "gridcolor": "white",
            "gridwidth": 2,
            "linecolor": "white",
            "showbackground": true,
            "ticks": "",
            "zerolinecolor": "white"
           },
           "yaxis": {
            "backgroundcolor": "#E5ECF6",
            "gridcolor": "white",
            "gridwidth": 2,
            "linecolor": "white",
            "showbackground": true,
            "ticks": "",
            "zerolinecolor": "white"
           },
           "zaxis": {
            "backgroundcolor": "#E5ECF6",
            "gridcolor": "white",
            "gridwidth": 2,
            "linecolor": "white",
            "showbackground": true,
            "ticks": "",
            "zerolinecolor": "white"
           }
          },
          "shapedefaults": {
           "line": {
            "color": "#2a3f5f"
           }
          },
          "ternary": {
           "aaxis": {
            "gridcolor": "white",
            "linecolor": "white",
            "ticks": ""
           },
           "baxis": {
            "gridcolor": "white",
            "linecolor": "white",
            "ticks": ""
           },
           "bgcolor": "#E5ECF6",
           "caxis": {
            "gridcolor": "white",
            "linecolor": "white",
            "ticks": ""
           }
          },
          "title": {
           "x": 0.05
          },
          "xaxis": {
           "automargin": true,
           "gridcolor": "white",
           "linecolor": "white",
           "ticks": "",
           "title": {
            "standoff": 15
           },
           "zerolinecolor": "white",
           "zerolinewidth": 2
          },
          "yaxis": {
           "automargin": true,
           "gridcolor": "white",
           "linecolor": "white",
           "ticks": "",
           "title": {
            "standoff": 15
           },
           "zerolinecolor": "white",
           "zerolinewidth": 2
          }
         }
        },
        "title": {
         "text": "Transiciones de Participación y No Participación (Por Año)"
        },
        "width": 1800
       }
      }
     },
     "metadata": {},
     "output_type": "display_data"
    }
   ],
   "source": [
    "# Definir tendencias de análisis: solo Participación y No_participación\n",
    "tendencias = ['Participación', 'No_participación']\n",
    "\n",
    "# Función para calcular la transición entre dos años consecutivos\n",
    "def calcular_transicion(df, año_anterior, año_actual):\n",
    "    valores_anterior = df.loc[df['Year'] == año_anterior, tendencias].iloc[0]\n",
    "    valores_actual = df.loc[df['Year'] == año_actual, tendencias].iloc[0]\n",
    "    cambios = valores_actual - valores_anterior\n",
    "\n",
    "    ganadores = cambios[cambios > 0]\n",
    "    perdedores = cambios[cambios < 0] * -1\n",
    "\n",
    "    total_ganancias = ganadores.sum()\n",
    "    total_perdidas = perdedores.sum()\n",
    "\n",
    "    # Crear matriz de transición vacía\n",
    "    transicion = pd.DataFrame(0.0, index=tendencias, columns=tendencias)\n",
    "    \n",
    "    # Calcular transiciones de Participación y No_participación entre años\n",
    "    if total_ganancias > 0 and total_perdidas > 0:\n",
    "        for perdedor in perdedores.index:\n",
    "            for ganador in ganadores.index:\n",
    "                transicion.loc[perdedor, ganador] = perdedores[perdedor] * (ganadores[ganador] / total_ganancias)\n",
    "    elif total_perdidas > 0:\n",
    "        for perdedor in perdedores.index:\n",
    "            transicion.loc[perdedor, 'No_participación'] += perdedores[perdedor]\n",
    "    \n",
    "    # Mantener o transferir valores de Participación y No_participación\n",
    "    for tendencia in tendencias:\n",
    "        if cambios[tendencia] >= 0:\n",
    "            transicion.loc[tendencia, tendencia] += min(valores_anterior[tendencia], valores_actual[tendencia])\n",
    "        else:\n",
    "            transicion.loc[tendencia, tendencia] += valores_actual[tendencia]\n",
    "\n",
    "    return transicion\n",
    "\n",
    "# Generar diccionario de transiciones para cada par de años consecutivos\n",
    "transiciones = {}\n",
    "for i in range(1, len(resultado)):\n",
    "    año_anterior = resultado['Year'].iloc[i - 1]\n",
    "    año_actual = resultado['Year'].iloc[i]\n",
    "    transiciones[f\"{año_anterior}_to_{año_actual}\"] = calcular_transicion(resultado, año_anterior, año_actual)\n",
    "\n",
    "# Preparar listas para los datos del gráfico Sankey\n",
    "source_labels_list = []\n",
    "target_labels_list = []\n",
    "values_list = []\n",
    "\n",
    "# Iterar sobre cada matriz de transición en el diccionario `transiciones`\n",
    "for key, transicion in transiciones.items():\n",
    "    año_anterior, año_actual = key.split(\"_to_\")\n",
    "    \n",
    "    for i, tendencia_origen in enumerate(tendencias):\n",
    "        for j, tendencia_destino in enumerate(tendencias):\n",
    "            source_label = f\"{año_anterior}-{tendencia_origen}\"\n",
    "            target_label = f\"{año_actual}-{tendencia_destino}\"\n",
    "            \n",
    "            value = transicion.iloc[i, j]\n",
    "\n",
    "            if value > 0:\n",
    "                source_labels_list.append(source_label)\n",
    "                target_labels_list.append(target_label)\n",
    "                values_list.append(value)\n",
    "\n",
    "# Crear lista de etiquetas únicas y mapear a índices\n",
    "labels = list(set(source_labels_list + target_labels_list))\n",
    "label_to_index = {label: idx for idx, label in enumerate(labels)}\n",
    "\n",
    "source_indices = [label_to_index[label] for label in source_labels_list]\n",
    "target_indices = [label_to_index[label] for label in target_labels_list]\n",
    "\n",
    "labels_with_percentages = []\n",
    "for label in labels:\n",
    "    año, categoria = label.split('-')\n",
    "    año = int(año)\n",
    "    \n",
    "    # Buscar el valor adecuado según la categoría del nodo\n",
    "    if categoria == 'Participación':\n",
    "        percentage = resultado.loc[resultado['Year'] == año, '%Participación'].values[0]\n",
    "        labels_with_percentages.append(f\"{percentage:.2f}%\")\n",
    "    elif categoria == 'No_participación':\n",
    "        percentage = resultado.loc[resultado['Year'] == año, '%No_participación'].values[0]\n",
    "        labels_with_percentages.append(f\"{percentage:.2f}%\")\n",
    "\n",
    "\n",
    "# Asignar colores a los nodos según la categoría\n",
    "node_colors = []\n",
    "for label in labels:\n",
    "    if 'Participación' in label:\n",
    "        node_colors.append('rgba(0, 162, 208, 1)')  # Azul para Participación\n",
    "    elif 'No_participación' in label:\n",
    "        node_colors.append('rgba(101, 141, 158, 1)')  # Verde para No_participación\n",
    "\n",
    "link_colors = []\n",
    "for i in range(len(source_labels_list)):\n",
    "    source_label = source_labels_list[i]\n",
    "    if 'Participación' in source_label:\n",
    "        link_colors.append('rgba(0, 162, 208, 0.5)')\n",
    "    elif 'No_participación' in source_label:\n",
    "        link_colors.append('rgba(101, 141, 158, 0.5)')\n",
    "\n",
    "# Crear el diagrama Sankey\n",
    "fig = go.Figure(data=[go.Sankey(\n",
    "    node=dict(\n",
    "        pad=30,\n",
    "        thickness=20,\n",
    "        line=dict(color=\"black\", width=0.5),\n",
    "        label=labels_with_percentages,\n",
    "        color=node_colors\n",
    "    ),\n",
    "    link=dict(\n",
    "        source=source_indices,\n",
    "        target=target_indices,\n",
    "        value=values_list,\n",
    "        color=link_colors\n",
    "    )\n",
    ")])\n",
    "\n",
    "# Configuración del título y diseño\n",
    "fig.update_layout(title_text=\"Transiciones de Participación y No Participación (Por Año)\", \n",
    "                  font_size=10,\n",
    "                  width=1800,\n",
    "                  height=900)\n",
    "fig.show()"
   ]
  },
  {
   "cell_type": "markdown",
   "metadata": {},
   "source": [
    "Se puede ver que existe un aumento explosivo de no participación desde 2013 en adelante. Este porcentaje de no participación se ha mantenido en el tiempo desde 2013 con pequeños flujos hacia el sector de la población que si participó. Adicionalmente, se observa un flujo importante de participación hacia el sector no participante entre 2010 y 2013.\n",
    "\n",
    "Se genera el mismo tipo de visualización, pero esta vez sobre los sectores políiticosy los flujos de votos:"
   ]
  },
  {
   "cell_type": "code",
   "execution_count": 309,
   "metadata": {},
   "outputs": [
    {
     "data": {
      "application/vnd.plotly.v1+json": {
       "config": {
        "plotlyServerURL": "https://plot.ly"
       },
       "data": [
        {
         "link": {
          "color": [
           "rgba(237, 122, 115, 0.3)",
           "rgba(237, 122, 115, 0.3)",
           "rgba(237, 122, 115, 0.3)",
           "rgba(124, 135, 176, 0.3)",
           "rgba(232, 177, 65, 0.3)",
           "rgba(237, 122, 115, 0.3)",
           "rgba(124, 135, 176, 0.3)",
           "rgba(124, 135, 176, 0.3)",
           "rgba(232, 177, 65, 0.3)",
           "rgba(232, 177, 65, 0.3)",
           "rgba(237, 122, 115, 0.3)",
           "rgba(237, 122, 115, 0.3)",
           "rgba(124, 135, 176, 0.3)",
           "rgba(232, 177, 65, 0.3)",
           "rgba(232, 177, 65, 0.3)",
           "rgba(237, 122, 115, 0.3)",
           "rgba(124, 135, 176, 0.3)",
           "rgba(124, 135, 176, 0.3)",
           "rgba(232, 177, 65, 0.3)",
           "rgba(232, 177, 65, 0.3)"
          ],
          "source": [
           0,
           0,
           0,
           13,
           10,
           14,
           7,
           7,
           12,
           12,
           3,
           3,
           11,
           9,
           9,
           5,
           4,
           4,
           1,
           1
          ],
          "target": [
           14,
           7,
           12,
           7,
           12,
           3,
           3,
           11,
           3,
           9,
           5,
           4,
           4,
           4,
           1,
           2,
           2,
           8,
           2,
           6
          ],
          "value": [
           48.394935343898496,
           4.270502016234916,
           0.8307267560068455,
           46.50383588385974,
           4.453594002827537,
           48.394935343898496,
           13.772946181000876,
           37.83211847510063,
           2.4752281764605444,
           2.9706911346101137,
           45.38115642897601,
           16.78672509592336,
           37.83211847510063,
           1.3487225045686908,
           1.6219686300414229,
           45.38115642897601,
           10.421632994838063,
           44.19721057618592,
           0.5032976277511987,
           1.1186710022902242
          ]
         },
         "node": {
          "color": [
           "rgba(237, 122, 115, 1.0)",
           "rgba(232, 177, 65, 1.0)",
           "rgba(237, 122, 115, 1.0)",
           "rgba(237, 122, 115, 1.0)",
           "rgba(124, 135, 176, 1.0)",
           "rgba(237, 122, 115, 1.0)",
           "rgba(232, 177, 65, 1.0)",
           "rgba(124, 135, 176, 1.0)",
           "rgba(124, 135, 176, 1.0)",
           "rgba(232, 177, 65, 1.0)",
           "rgba(232, 177, 65, 1.0)",
           "rgba(124, 135, 176, 1.0)",
           "rgba(232, 177, 65, 1.0)",
           "rgba(124, 135, 176, 1.0)",
           "rgba(237, 122, 115, 1.0)"
          ],
          "label": [
           "53.50%",
           "1.62%",
           "55.80%",
           "62.17%",
           "54.62%",
           "45.38%",
           "1.12%",
           "51.61%",
           "44.20%",
           "2.97%",
           "4.45%",
           "37.83%",
           "5.45%",
           "46.50%",
           "48.39%"
          ],
          "line": {
           "color": "black",
           "width": 0.5
          },
          "pad": 60,
          "thickness": 30
         },
         "type": "sankey"
        }
       ],
       "layout": {
        "annotations": [
         {
          "font": {
           "size": 12
          },
          "showarrow": false,
          "text": "<span style='color:#7C87B0'><b>% Derecha</b></span> - Azul",
          "x": 0.1,
          "xref": "paper",
          "y": -0.05,
          "yref": "paper"
         },
         {
          "font": {
           "size": 12
          },
          "showarrow": false,
          "text": "<span style='color:#ED7A73'><b>% Izquierda</b></span> - Rojo",
          "x": 0.4,
          "xref": "paper",
          "y": -0.05,
          "yref": "paper"
         },
         {
          "font": {
           "size": 12
          },
          "showarrow": false,
          "text": "<span style='color:#E8B141'><b>% Nulos<br>y Blancos</b></span>",
          "x": 0.7,
          "xref": "paper",
          "y": -0.05,
          "yref": "paper"
         },
         {
          "font": {
           "size": 12
          },
          "showarrow": false,
          "text": "<b>2006</b>",
          "x": -0.005,
          "xref": "paper",
          "y": 1.03,
          "yref": "paper"
         },
         {
          "font": {
           "size": 12
          },
          "showarrow": false,
          "text": "<b>2010</b>",
          "x": 0.24,
          "xref": "paper",
          "y": 1.03,
          "yref": "paper"
         },
         {
          "font": {
           "size": 12
          },
          "showarrow": false,
          "text": "<b>2013</b>",
          "x": 0.5,
          "xref": "paper",
          "y": 1.03,
          "yref": "paper"
         },
         {
          "font": {
           "size": 12
          },
          "showarrow": false,
          "text": "<b>2017</b>",
          "x": 0.76,
          "xref": "paper",
          "y": 1.03,
          "yref": "paper"
         },
         {
          "font": {
           "size": 12
          },
          "showarrow": false,
          "text": "<b>2021</b>",
          "x": 1,
          "xref": "paper",
          "y": 1.03,
          "yref": "paper"
         }
        ],
        "font": {
         "size": 10
        },
        "height": 900,
        "margin": {
         "b": 100,
         "t": 100
        },
        "shapes": [
         {
          "line": {
           "color": "black",
           "width": 2
          },
          "type": "line",
          "x0": -0.01,
          "x1": 1,
          "xref": "paper",
          "y0": 1.1,
          "y1": 1.1,
          "yref": "paper"
         }
        ],
        "template": {
         "data": {
          "bar": [
           {
            "error_x": {
             "color": "#2a3f5f"
            },
            "error_y": {
             "color": "#2a3f5f"
            },
            "marker": {
             "line": {
              "color": "#E5ECF6",
              "width": 0.5
             },
             "pattern": {
              "fillmode": "overlay",
              "size": 10,
              "solidity": 0.2
             }
            },
            "type": "bar"
           }
          ],
          "barpolar": [
           {
            "marker": {
             "line": {
              "color": "#E5ECF6",
              "width": 0.5
             },
             "pattern": {
              "fillmode": "overlay",
              "size": 10,
              "solidity": 0.2
             }
            },
            "type": "barpolar"
           }
          ],
          "carpet": [
           {
            "aaxis": {
             "endlinecolor": "#2a3f5f",
             "gridcolor": "white",
             "linecolor": "white",
             "minorgridcolor": "white",
             "startlinecolor": "#2a3f5f"
            },
            "baxis": {
             "endlinecolor": "#2a3f5f",
             "gridcolor": "white",
             "linecolor": "white",
             "minorgridcolor": "white",
             "startlinecolor": "#2a3f5f"
            },
            "type": "carpet"
           }
          ],
          "choropleth": [
           {
            "colorbar": {
             "outlinewidth": 0,
             "ticks": ""
            },
            "type": "choropleth"
           }
          ],
          "contour": [
           {
            "colorbar": {
             "outlinewidth": 0,
             "ticks": ""
            },
            "colorscale": [
             [
              0,
              "#0d0887"
             ],
             [
              0.1111111111111111,
              "#46039f"
             ],
             [
              0.2222222222222222,
              "#7201a8"
             ],
             [
              0.3333333333333333,
              "#9c179e"
             ],
             [
              0.4444444444444444,
              "#bd3786"
             ],
             [
              0.5555555555555556,
              "#d8576b"
             ],
             [
              0.6666666666666666,
              "#ed7953"
             ],
             [
              0.7777777777777778,
              "#fb9f3a"
             ],
             [
              0.8888888888888888,
              "#fdca26"
             ],
             [
              1,
              "#f0f921"
             ]
            ],
            "type": "contour"
           }
          ],
          "contourcarpet": [
           {
            "colorbar": {
             "outlinewidth": 0,
             "ticks": ""
            },
            "type": "contourcarpet"
           }
          ],
          "heatmap": [
           {
            "colorbar": {
             "outlinewidth": 0,
             "ticks": ""
            },
            "colorscale": [
             [
              0,
              "#0d0887"
             ],
             [
              0.1111111111111111,
              "#46039f"
             ],
             [
              0.2222222222222222,
              "#7201a8"
             ],
             [
              0.3333333333333333,
              "#9c179e"
             ],
             [
              0.4444444444444444,
              "#bd3786"
             ],
             [
              0.5555555555555556,
              "#d8576b"
             ],
             [
              0.6666666666666666,
              "#ed7953"
             ],
             [
              0.7777777777777778,
              "#fb9f3a"
             ],
             [
              0.8888888888888888,
              "#fdca26"
             ],
             [
              1,
              "#f0f921"
             ]
            ],
            "type": "heatmap"
           }
          ],
          "heatmapgl": [
           {
            "colorbar": {
             "outlinewidth": 0,
             "ticks": ""
            },
            "colorscale": [
             [
              0,
              "#0d0887"
             ],
             [
              0.1111111111111111,
              "#46039f"
             ],
             [
              0.2222222222222222,
              "#7201a8"
             ],
             [
              0.3333333333333333,
              "#9c179e"
             ],
             [
              0.4444444444444444,
              "#bd3786"
             ],
             [
              0.5555555555555556,
              "#d8576b"
             ],
             [
              0.6666666666666666,
              "#ed7953"
             ],
             [
              0.7777777777777778,
              "#fb9f3a"
             ],
             [
              0.8888888888888888,
              "#fdca26"
             ],
             [
              1,
              "#f0f921"
             ]
            ],
            "type": "heatmapgl"
           }
          ],
          "histogram": [
           {
            "marker": {
             "pattern": {
              "fillmode": "overlay",
              "size": 10,
              "solidity": 0.2
             }
            },
            "type": "histogram"
           }
          ],
          "histogram2d": [
           {
            "colorbar": {
             "outlinewidth": 0,
             "ticks": ""
            },
            "colorscale": [
             [
              0,
              "#0d0887"
             ],
             [
              0.1111111111111111,
              "#46039f"
             ],
             [
              0.2222222222222222,
              "#7201a8"
             ],
             [
              0.3333333333333333,
              "#9c179e"
             ],
             [
              0.4444444444444444,
              "#bd3786"
             ],
             [
              0.5555555555555556,
              "#d8576b"
             ],
             [
              0.6666666666666666,
              "#ed7953"
             ],
             [
              0.7777777777777778,
              "#fb9f3a"
             ],
             [
              0.8888888888888888,
              "#fdca26"
             ],
             [
              1,
              "#f0f921"
             ]
            ],
            "type": "histogram2d"
           }
          ],
          "histogram2dcontour": [
           {
            "colorbar": {
             "outlinewidth": 0,
             "ticks": ""
            },
            "colorscale": [
             [
              0,
              "#0d0887"
             ],
             [
              0.1111111111111111,
              "#46039f"
             ],
             [
              0.2222222222222222,
              "#7201a8"
             ],
             [
              0.3333333333333333,
              "#9c179e"
             ],
             [
              0.4444444444444444,
              "#bd3786"
             ],
             [
              0.5555555555555556,
              "#d8576b"
             ],
             [
              0.6666666666666666,
              "#ed7953"
             ],
             [
              0.7777777777777778,
              "#fb9f3a"
             ],
             [
              0.8888888888888888,
              "#fdca26"
             ],
             [
              1,
              "#f0f921"
             ]
            ],
            "type": "histogram2dcontour"
           }
          ],
          "mesh3d": [
           {
            "colorbar": {
             "outlinewidth": 0,
             "ticks": ""
            },
            "type": "mesh3d"
           }
          ],
          "parcoords": [
           {
            "line": {
             "colorbar": {
              "outlinewidth": 0,
              "ticks": ""
             }
            },
            "type": "parcoords"
           }
          ],
          "pie": [
           {
            "automargin": true,
            "type": "pie"
           }
          ],
          "scatter": [
           {
            "fillpattern": {
             "fillmode": "overlay",
             "size": 10,
             "solidity": 0.2
            },
            "type": "scatter"
           }
          ],
          "scatter3d": [
           {
            "line": {
             "colorbar": {
              "outlinewidth": 0,
              "ticks": ""
             }
            },
            "marker": {
             "colorbar": {
              "outlinewidth": 0,
              "ticks": ""
             }
            },
            "type": "scatter3d"
           }
          ],
          "scattercarpet": [
           {
            "marker": {
             "colorbar": {
              "outlinewidth": 0,
              "ticks": ""
             }
            },
            "type": "scattercarpet"
           }
          ],
          "scattergeo": [
           {
            "marker": {
             "colorbar": {
              "outlinewidth": 0,
              "ticks": ""
             }
            },
            "type": "scattergeo"
           }
          ],
          "scattergl": [
           {
            "marker": {
             "colorbar": {
              "outlinewidth": 0,
              "ticks": ""
             }
            },
            "type": "scattergl"
           }
          ],
          "scattermapbox": [
           {
            "marker": {
             "colorbar": {
              "outlinewidth": 0,
              "ticks": ""
             }
            },
            "type": "scattermapbox"
           }
          ],
          "scatterpolar": [
           {
            "marker": {
             "colorbar": {
              "outlinewidth": 0,
              "ticks": ""
             }
            },
            "type": "scatterpolar"
           }
          ],
          "scatterpolargl": [
           {
            "marker": {
             "colorbar": {
              "outlinewidth": 0,
              "ticks": ""
             }
            },
            "type": "scatterpolargl"
           }
          ],
          "scatterternary": [
           {
            "marker": {
             "colorbar": {
              "outlinewidth": 0,
              "ticks": ""
             }
            },
            "type": "scatterternary"
           }
          ],
          "surface": [
           {
            "colorbar": {
             "outlinewidth": 0,
             "ticks": ""
            },
            "colorscale": [
             [
              0,
              "#0d0887"
             ],
             [
              0.1111111111111111,
              "#46039f"
             ],
             [
              0.2222222222222222,
              "#7201a8"
             ],
             [
              0.3333333333333333,
              "#9c179e"
             ],
             [
              0.4444444444444444,
              "#bd3786"
             ],
             [
              0.5555555555555556,
              "#d8576b"
             ],
             [
              0.6666666666666666,
              "#ed7953"
             ],
             [
              0.7777777777777778,
              "#fb9f3a"
             ],
             [
              0.8888888888888888,
              "#fdca26"
             ],
             [
              1,
              "#f0f921"
             ]
            ],
            "type": "surface"
           }
          ],
          "table": [
           {
            "cells": {
             "fill": {
              "color": "#EBF0F8"
             },
             "line": {
              "color": "white"
             }
            },
            "header": {
             "fill": {
              "color": "#C8D4E3"
             },
             "line": {
              "color": "white"
             }
            },
            "type": "table"
           }
          ]
         },
         "layout": {
          "annotationdefaults": {
           "arrowcolor": "#2a3f5f",
           "arrowhead": 0,
           "arrowwidth": 1
          },
          "autotypenumbers": "strict",
          "coloraxis": {
           "colorbar": {
            "outlinewidth": 0,
            "ticks": ""
           }
          },
          "colorscale": {
           "diverging": [
            [
             0,
             "#8e0152"
            ],
            [
             0.1,
             "#c51b7d"
            ],
            [
             0.2,
             "#de77ae"
            ],
            [
             0.3,
             "#f1b6da"
            ],
            [
             0.4,
             "#fde0ef"
            ],
            [
             0.5,
             "#f7f7f7"
            ],
            [
             0.6,
             "#e6f5d0"
            ],
            [
             0.7,
             "#b8e186"
            ],
            [
             0.8,
             "#7fbc41"
            ],
            [
             0.9,
             "#4d9221"
            ],
            [
             1,
             "#276419"
            ]
           ],
           "sequential": [
            [
             0,
             "#0d0887"
            ],
            [
             0.1111111111111111,
             "#46039f"
            ],
            [
             0.2222222222222222,
             "#7201a8"
            ],
            [
             0.3333333333333333,
             "#9c179e"
            ],
            [
             0.4444444444444444,
             "#bd3786"
            ],
            [
             0.5555555555555556,
             "#d8576b"
            ],
            [
             0.6666666666666666,
             "#ed7953"
            ],
            [
             0.7777777777777778,
             "#fb9f3a"
            ],
            [
             0.8888888888888888,
             "#fdca26"
            ],
            [
             1,
             "#f0f921"
            ]
           ],
           "sequentialminus": [
            [
             0,
             "#0d0887"
            ],
            [
             0.1111111111111111,
             "#46039f"
            ],
            [
             0.2222222222222222,
             "#7201a8"
            ],
            [
             0.3333333333333333,
             "#9c179e"
            ],
            [
             0.4444444444444444,
             "#bd3786"
            ],
            [
             0.5555555555555556,
             "#d8576b"
            ],
            [
             0.6666666666666666,
             "#ed7953"
            ],
            [
             0.7777777777777778,
             "#fb9f3a"
            ],
            [
             0.8888888888888888,
             "#fdca26"
            ],
            [
             1,
             "#f0f921"
            ]
           ]
          },
          "colorway": [
           "#636efa",
           "#EF553B",
           "#00cc96",
           "#ab63fa",
           "#FFA15A",
           "#19d3f3",
           "#FF6692",
           "#B6E880",
           "#FF97FF",
           "#FECB52"
          ],
          "font": {
           "color": "#2a3f5f"
          },
          "geo": {
           "bgcolor": "white",
           "lakecolor": "white",
           "landcolor": "#E5ECF6",
           "showlakes": true,
           "showland": true,
           "subunitcolor": "white"
          },
          "hoverlabel": {
           "align": "left"
          },
          "hovermode": "closest",
          "mapbox": {
           "style": "light"
          },
          "paper_bgcolor": "white",
          "plot_bgcolor": "#E5ECF6",
          "polar": {
           "angularaxis": {
            "gridcolor": "white",
            "linecolor": "white",
            "ticks": ""
           },
           "bgcolor": "#E5ECF6",
           "radialaxis": {
            "gridcolor": "white",
            "linecolor": "white",
            "ticks": ""
           }
          },
          "scene": {
           "xaxis": {
            "backgroundcolor": "#E5ECF6",
            "gridcolor": "white",
            "gridwidth": 2,
            "linecolor": "white",
            "showbackground": true,
            "ticks": "",
            "zerolinecolor": "white"
           },
           "yaxis": {
            "backgroundcolor": "#E5ECF6",
            "gridcolor": "white",
            "gridwidth": 2,
            "linecolor": "white",
            "showbackground": true,
            "ticks": "",
            "zerolinecolor": "white"
           },
           "zaxis": {
            "backgroundcolor": "#E5ECF6",
            "gridcolor": "white",
            "gridwidth": 2,
            "linecolor": "white",
            "showbackground": true,
            "ticks": "",
            "zerolinecolor": "white"
           }
          },
          "shapedefaults": {
           "line": {
            "color": "#2a3f5f"
           }
          },
          "ternary": {
           "aaxis": {
            "gridcolor": "white",
            "linecolor": "white",
            "ticks": ""
           },
           "baxis": {
            "gridcolor": "white",
            "linecolor": "white",
            "ticks": ""
           },
           "bgcolor": "#E5ECF6",
           "caxis": {
            "gridcolor": "white",
            "linecolor": "white",
            "ticks": ""
           }
          },
          "title": {
           "x": 0.05
          },
          "xaxis": {
           "automargin": true,
           "gridcolor": "white",
           "linecolor": "white",
           "ticks": "",
           "title": {
            "standoff": 15
           },
           "zerolinecolor": "white",
           "zerolinewidth": 2
          },
          "yaxis": {
           "automargin": true,
           "gridcolor": "white",
           "linecolor": "white",
           "ticks": "",
           "title": {
            "standoff": 15
           },
           "zerolinecolor": "white",
           "zerolinewidth": 2
          }
         }
        },
        "title": {
         "font": {
          "color": "black",
          "family": "Arial",
          "size": 16,
          "weight": "bold"
         },
         "text": "<b>Análisis de la Evolución Política por Año</b>"
        },
        "width": 1400
       }
      }
     },
     "metadata": {},
     "output_type": "display_data"
    }
   ],
   "source": [
    "import plotly.graph_objects as go\n",
    "import pandas as pd\n",
    "\n",
    "# Definir tendencias de análisis\n",
    "tendencias = ['% Izquierda', '% Derecha', '%Nulos y Blancos']\n",
    "df = df_san\n",
    "\n",
    "def calcular_transicion(df, año_anterior, año_actual):\n",
    "    porcentajes_anterior = df.loc[año_anterior, tendencias]\n",
    "    porcentajes_actual = df.loc[año_actual, tendencias]\n",
    "    cambios = porcentajes_actual - porcentajes_anterior\n",
    "\n",
    "    # Identificar ganadores y perdedores\n",
    "    ganadores = cambios[cambios > 0]\n",
    "    perdedores = cambios[cambios < 0] * -1  # Convertir a valores positivos\n",
    "\n",
    "    # Sumar total de ganancias y pérdidas\n",
    "    total_ganancias = ganadores.sum()\n",
    "    total_perdidas = perdedores.sum()\n",
    "\n",
    "    # Crear matriz de transición vacía\n",
    "    transicion = pd.DataFrame(0.0, index=tendencias, columns=tendencias)\n",
    "\n",
    "    # Si hay perdedores y ganadores\n",
    "    if total_ganancias > 0 and total_perdidas > 0:\n",
    "        for perdedor in perdedores.index:\n",
    "            for ganador in ganadores.index:\n",
    "                # Proporción de la pérdida del perdedor que va al ganador\n",
    "                transicion.loc[perdedor, ganador] = perdedores[perdedor] * (ganadores[ganador] / total_ganancias)\n",
    "    # Si no hay ganadores, los votos perdidos van a VB_VN\n",
    "    elif total_perdidas > 0:\n",
    "        for perdedor in perdedores.index:\n",
    "            transicion.loc[perdedor, 'VB-VN'] += perdedores[perdedor]\n",
    "\n",
    "    # Los que mantienen o aumentan mantienen sus votos anteriores\n",
    "    for tendencia in tendencias:\n",
    "        if cambios[tendencia] >= 0:\n",
    "            transicion.loc[tendencia, tendencia] += min(porcentajes_anterior[tendencia], porcentajes_actual[tendencia])\n",
    "        else:\n",
    "            transicion.loc[tendencia, tendencia] += porcentajes_actual[tendencia]\n",
    "\n",
    "    return transicion\n",
    "\n",
    "# Listas para almacenar los datos necesarios para el gráfico Sankey\n",
    "source_labels_transicion = []\n",
    "target_labels_transicion = []\n",
    "values_transicion = []\n",
    "\n",
    "# Procesar cada par de años para construir las listas de source, target y values\n",
    "for idx in range(len(df.index) - 1):\n",
    "    año_anterior = df.index[idx]\n",
    "    año_actual = df.index[idx + 1]\n",
    "    transicion = calcular_transicion(df, año_anterior, año_actual)\n",
    "\n",
    "    # Excluir columnas y filas adicionales\n",
    "    matriz_sin_totales = transicion.loc[tendencias, tendencias]\n",
    "\n",
    "    # Construir las etiquetas de origen y destino, y los valores\n",
    "    for i, tendencia_origen in enumerate(tendencias):\n",
    "        for j, tendencia_destino in enumerate(tendencias):\n",
    "            source_label = f\"{año_anterior}-{tendencia_origen}\"\n",
    "            target_label = f\"{año_actual}-{tendencia_destino}\"\n",
    "            value = matriz_sin_totales.iloc[i, j]\n",
    "\n",
    "            # Solo agregamos conexiones con valor positivo\n",
    "            if value > 0:\n",
    "                source_labels_transicion.append(source_label)\n",
    "                target_labels_transicion.append(target_label)\n",
    "                values_transicion.append(value)\n",
    "\n",
    "# Crear una lista de etiquetas únicas\n",
    "labels_transicion = list(set(source_labels_transicion + target_labels_transicion))\n",
    "\n",
    "# Crear un diccionario para mapear etiquetas a índices\n",
    "label_to_index_transicion = {label: idx for idx, label in enumerate(labels_transicion)}\n",
    "\n",
    "# Mapear las etiquetas de origen y destino a índices\n",
    "source_indices_transicion = [label_to_index_transicion[label] for label in source_labels_transicion]\n",
    "target_indices_transicion = [label_to_index_transicion[label] for label in target_labels_transicion]\n",
    "\n",
    "# Función para convertir hex a RGBA\n",
    "def hex_to_rgba(hex_color, alpha=1.0):\n",
    "    hex_color = hex_color.lstrip('#')\n",
    "    r, g, b = tuple(int(hex_color[i:i+2], 16) for i in (0, 2, 4))\n",
    "    return f'rgba({r}, {g}, {b}, {alpha})'\n",
    "\n",
    "# Mapa de colores para cada tendencia\n",
    "color_map = {\n",
    "    '% Derecha': '#7C87B0',      # Azul\n",
    "    '%Nulos y Blancos': '#E8B141',     # Naranja\n",
    "    '% Izquierda': '#ED7A73'        # Rojo\n",
    "}\n",
    "\n",
    "# Generar lista de colores RGBA para los nodos con opacidad completa\n",
    "node_colors_transicion = []\n",
    "for label in labels_transicion:\n",
    "    tendencia = label.split('-')[1]\n",
    "    hex_color = color_map.get(tendencia, '#7f7f7f')  # Gris por defecto\n",
    "    rgba_color = hex_to_rgba(hex_color, alpha=1.0)    # Opacidad completa para nodos\n",
    "    node_colors_transicion.append(rgba_color)\n",
    "\n",
    "# Generar lista de colores RGBA para los enlaces con menor opacidad\n",
    "link_colors_transicion = []\n",
    "for src_idx in source_indices_transicion:\n",
    "    # Obtener la tendencia del nodo de origen\n",
    "    tendencia = labels_transicion[src_idx].split('-')[1]\n",
    "    hex_color = color_map.get(tendencia, '#7f7f7f')  # Gris por defecto\n",
    "    # Convertir a RGBA con opacidad reducida (por ejemplo, 0.3)\n",
    "    rgba_color = hex_to_rgba(hex_color, alpha=0.3)\n",
    "    link_colors_transicion.append(rgba_color)\n",
    "\n",
    "# Preparar etiquetas de nodos con porcentajes\n",
    "labels_with_percentages_transicion = []\n",
    "for label in labels_transicion:\n",
    "    tendencia = label.split('-')[1]\n",
    "    año = label.split('-')[0]\n",
    "\n",
    "    # Obtener el porcentaje correspondiente a la tendencia y el año\n",
    "    porcentaje = df.loc[int(año), tendencia]\n",
    "    label_with_percentage = f\"{porcentaje:.2f}%\"  # Formatear con solo el porcentaje\n",
    "    labels_with_percentages_transicion.append(label_with_percentage)\n",
    "\n",
    "# Crear el gráfico Sankey con las etiquetas actualizadas\n",
    "fig = go.Figure(data=[go.Sankey(\n",
    "    node=dict(\n",
    "        pad=60,  # Controlar el espacio entre los nodos\n",
    "        thickness=30,  # Controlar el grosor de las líneas\n",
    "        line=dict(color=\"black\", width=0.5),\n",
    "        label=labels_with_percentages_transicion,  # Usar solo los porcentajes en los nodos\n",
    "        color=node_colors_transicion\n",
    "    ),\n",
    "    link=dict(\n",
    "        source=source_indices_transicion,\n",
    "        target=target_indices_transicion,\n",
    "        value=values_transicion,\n",
    "        color=link_colors_transicion\n",
    "    )\n",
    ")])\n",
    "\n",
    "# Añadir línea sobre el título\n",
    "fig.update_layout(\n",
    "    title=dict(\n",
    "        text=\"<b>Análisis de la Evolución Política por Año</b>\",\n",
    "        font=dict(size=16, color=\"black\", family=\"Arial\", weight=\"bold\")\n",
    "    ),\n",
    "    shapes=[\n",
    "        dict(\n",
    "            type=\"line\",\n",
    "            x0=-0.01, x1=1, y0=1.1, y1=1.1,\n",
    "            xref=\"paper\", yref=\"paper\",\n",
    "            line=dict(color=\"black\", width=2)\n",
    "        )\n",
    "    ],\n",
    "    font_size=10,\n",
    "    width=1400,\n",
    "    height=900,\n",
    "    margin=dict(t=100, b=100)\n",
    ")\n",
    "\n",
    "# Añadir anotaciones para crear una leyenda personalizada debajo del gráfico\n",
    "fig.add_annotation(\n",
    "    x=0.1, y=-0.05, xref=\"paper\", yref=\"paper\",\n",
    "    text=\"<span style='color:#7C87B0'><b>% Derecha</b></span> - Azul\",\n",
    "    showarrow=False, font=dict(size=12)\n",
    ")\n",
    "fig.add_annotation(\n",
    "    x=0.4, y=-0.05, xref=\"paper\", yref=\"paper\",\n",
    "    text=\"<span style='color:#ED7A73'><b>% Izquierda</b></span> - Rojo\",\n",
    "    showarrow=False, font=dict(size=12)\n",
    ")\n",
    "fig.add_annotation(\n",
    "    x=0.7, y=-0.05, xref=\"paper\", yref=\"paper\",\n",
    "    text=\"<span style='color:#E8B141'><b>% Nulos<br>y Blancos</b></span>\",\n",
    "    showarrow=False, font=dict(size=12)\n",
    ")\n",
    "\n",
    "# Añadir años en la parte superior\n",
    "fig.add_annotation(\n",
    "    x=-0.005, y=1.03, xref=\"paper\", yref=\"paper\",\n",
    "    text=\"<b>2006</b>\",\n",
    "    showarrow=False, font=dict(size=12)\n",
    ")\n",
    "fig.add_annotation(\n",
    "    x=0.24, y=1.03, xref=\"paper\", yref=\"paper\",\n",
    "    text=\"<b>2010</b>\",\n",
    "    showarrow=False, font=dict(size=12)\n",
    ")\n",
    "fig.add_annotation(\n",
    "    x=0.5, y=1.03, xref=\"paper\", yref=\"paper\",\n",
    "    text=\"<b>2013</b>\",\n",
    "    showarrow=False, font=dict(size=12)\n",
    ")\n",
    "fig.add_annotation(\n",
    "    x=0.76, y=1.03, xref=\"paper\", yref=\"paper\",\n",
    "    text=\"<b>2017</b>\",\n",
    "    showarrow=False, font=dict(size=12)\n",
    ")\n",
    "fig.add_annotation(\n",
    "    x=1, y=1.03, xref=\"paper\", yref=\"paper\",\n",
    "    text=\"<b>2021</b>\",\n",
    "    showarrow=False, font=dict(size=12)\n",
    ")\n",
    "\n",
    "fig.show()\n"
   ]
  },
  {
   "cell_type": "markdown",
   "metadata": {},
   "source": [
    "Se puede ver que de 2010 a 2013 y de 2013 a 2017 **hay un flujo importante de votos que cambian de sector político**. Esta tendencia también está presente de 2006 a 2010 y desde 2017 a 2021, pero menos notorio. Estos flujos intercalados de votos de un sector a otro son los que se pueden atribuir a un resultado también intercalado del sector político ganador. Finalmente, se junta la visualización anterior con el de flujos de participación electoral:"
   ]
  },
  {
   "cell_type": "code",
   "execution_count": 311,
   "metadata": {},
   "outputs": [
    {
     "data": {
      "application/vnd.plotly.v1+json": {
       "config": {
        "plotlyServerURL": "https://plot.ly"
       },
       "data": [
        {
         "domain": {
          "y": [
           0.73,
           1
          ]
         },
         "link": {
          "color": [
           "rgba(0, 162, 208, 0.5)",
           "rgba(101, 141, 158, 0.5)",
           "rgba(101, 141, 158, 0.5)",
           "rgba(0, 162, 208, 0.5)",
           "rgba(0, 162, 208, 0.5)",
           "rgba(101, 141, 158, 0.5)",
           "rgba(0, 162, 208, 0.5)",
           "rgba(101, 141, 158, 0.5)",
           "rgba(101, 141, 158, 0.5)",
           "rgba(0, 162, 208, 0.5)",
           "rgba(101, 141, 158, 0.5)",
           "rgba(101, 141, 158, 0.5)"
          ],
          "source": [
           0,
           1,
           1,
           2,
           2,
           3,
           7,
           9,
           9,
           4,
           6,
           6
          ],
          "target": [
           2,
           2,
           3,
           7,
           9,
           9,
           4,
           4,
           6,
           5,
           5,
           8
          ],
          "value": [
           7269357,
           4306,
           947234,
           5748102,
           1589850,
           947234,
           5748102,
           565907,
           7259134,
           7049017,
           557492,
           6701642
          ]
         },
         "node": {
          "color": [
           "rgba(0, 162, 208, 1)",
           "rgba(101, 141, 158, 1)",
           "rgba(0, 162, 208, 1)",
           "rgba(101, 141, 158, 1)",
           "rgba(0, 162, 208, 1)",
           "rgba(0, 162, 208, 1)",
           "rgba(101, 141, 158, 1)",
           "rgba(0, 162, 208, 1)",
           "rgba(101, 141, 158, 1)",
           "rgba(101, 141, 158, 1)"
          ],
          "label": [
           "88.43%",
           "11.57%",
           "88.57%",
           "11.43%",
           "49.27%",
           "55.41%",
           "50.73%",
           "42.35%",
           "44.59%",
           "57.65%"
          ],
          "line": {
           "color": "black",
           "width": 0.5
          },
          "pad": 30,
          "thickness": 30
         },
         "type": "sankey"
        },
        {
         "domain": {
          "y": [
           0,
           0.65
          ]
         },
         "link": {
          "color": [
           "rgba(237, 122, 115, 0.3)",
           "rgba(237, 122, 115, 0.3)",
           "rgba(237, 122, 115, 0.3)",
           "rgba(124, 135, 176, 0.3)",
           "rgba(232, 177, 65, 0.3)",
           "rgba(237, 122, 115, 0.3)",
           "rgba(124, 135, 176, 0.3)",
           "rgba(124, 135, 176, 0.3)",
           "rgba(232, 177, 65, 0.3)",
           "rgba(232, 177, 65, 0.3)",
           "rgba(237, 122, 115, 0.3)",
           "rgba(237, 122, 115, 0.3)",
           "rgba(124, 135, 176, 0.3)",
           "rgba(232, 177, 65, 0.3)",
           "rgba(232, 177, 65, 0.3)",
           "rgba(237, 122, 115, 0.3)",
           "rgba(124, 135, 176, 0.3)",
           "rgba(124, 135, 176, 0.3)",
           "rgba(232, 177, 65, 0.3)",
           "rgba(232, 177, 65, 0.3)"
          ],
          "source": [
           0,
           0,
           0,
           13,
           10,
           14,
           7,
           7,
           12,
           12,
           3,
           3,
           11,
           9,
           9,
           5,
           4,
           4,
           1,
           1
          ],
          "target": [
           14,
           7,
           12,
           7,
           12,
           3,
           3,
           11,
           3,
           9,
           5,
           4,
           4,
           4,
           1,
           2,
           2,
           8,
           2,
           6
          ],
          "value": [
           48.394935343898496,
           4.270502016234916,
           0.8307267560068455,
           46.50383588385974,
           4.453594002827537,
           48.394935343898496,
           13.772946181000876,
           37.83211847510063,
           2.4752281764605444,
           2.9706911346101137,
           45.38115642897601,
           16.78672509592336,
           37.83211847510063,
           1.3487225045686908,
           1.6219686300414229,
           45.38115642897601,
           10.421632994838063,
           44.19721057618592,
           0.5032976277511987,
           1.1186710022902242
          ]
         },
         "node": {
          "color": [
           "rgba(237, 122, 115, 1.0)",
           "rgba(232, 177, 65, 1.0)",
           "rgba(237, 122, 115, 1.0)",
           "rgba(237, 122, 115, 1.0)",
           "rgba(124, 135, 176, 1.0)",
           "rgba(237, 122, 115, 1.0)",
           "rgba(232, 177, 65, 1.0)",
           "rgba(124, 135, 176, 1.0)",
           "rgba(124, 135, 176, 1.0)",
           "rgba(232, 177, 65, 1.0)",
           "rgba(232, 177, 65, 1.0)",
           "rgba(124, 135, 176, 1.0)",
           "rgba(232, 177, 65, 1.0)",
           "rgba(124, 135, 176, 1.0)",
           "rgba(237, 122, 115, 1.0)"
          ],
          "label": [
           "53.50%",
           "1.62%",
           "55.80%",
           "62.17%",
           "54.62%",
           "45.38%",
           "1.12%",
           "51.61%",
           "44.20%",
           "2.97%",
           "4.45%",
           "37.83%",
           "5.45%",
           "46.50%",
           "48.39%"
          ],
          "line": {
           "color": "black",
           "width": 0.5
          },
          "pad": 30,
          "thickness": 30
         },
         "type": "sankey"
        }
       ],
       "layout": {
        "annotations": [
         {
          "font": {
           "size": 12
          },
          "showarrow": false,
          "text": "<span style='color:#7C87B0'><b>% Derecha</b></span> ",
          "textangle": -90,
          "x": 1.02,
          "xref": "paper",
          "y": 0.1,
          "yref": "paper"
         },
         {
          "font": {
           "size": 12
          },
          "showarrow": false,
          "text": "<span style='color:#ED7A73'><b>% Izquierda</b></span>",
          "textangle": -90,
          "x": 1.02,
          "xref": "paper",
          "y": 0.455,
          "yref": "paper"
         },
         {
          "font": {
           "size": 12
          },
          "showarrow": false,
          "text": "<span style='color:#E8B141'><b>% Nulos<br>y Blancos</b></span>",
          "textangle": -90,
          "x": 1.03,
          "xref": "paper",
          "y": -0.07,
          "yref": "paper"
         },
         {
          "font": {
           "size": 11
          },
          "showarrow": false,
          "text": "<span style='color:#00A2D0'><b>% Participación</b></span> ",
          "textangle": -90,
          "x": 1.02,
          "xref": "paper",
          "y": 1.02,
          "yref": "paper"
         },
         {
          "font": {
           "size": 11
          },
          "showarrow": false,
          "text": "<span style='color:#658D9E'><b>% No Participación</b></span>",
          "textangle": -90,
          "x": 1.02,
          "xref": "paper",
          "y": 0.85,
          "yref": "paper"
         },
         {
          "font": {
           "size": 12
          },
          "showarrow": false,
          "text": "<b>2006</b>",
          "x": -0.005,
          "xref": "paper",
          "y": 1.03,
          "yref": "paper"
         },
         {
          "font": {
           "size": 12
          },
          "showarrow": false,
          "text": "<b>2010</b>",
          "x": 0.24,
          "xref": "paper",
          "y": 1.03,
          "yref": "paper"
         },
         {
          "font": {
           "size": 12
          },
          "showarrow": false,
          "text": "<b>2013</b>",
          "x": 0.5,
          "xref": "paper",
          "y": 1.03,
          "yref": "paper"
         },
         {
          "font": {
           "size": 12
          },
          "showarrow": false,
          "text": "<b>2017</b>",
          "x": 0.76,
          "xref": "paper",
          "y": 1.03,
          "yref": "paper"
         },
         {
          "font": {
           "size": 12
          },
          "showarrow": false,
          "text": "<b>2021</b>",
          "x": 1,
          "xref": "paper",
          "y": 1.03,
          "yref": "paper"
         }
        ],
        "font": {
         "size": 10
        },
        "height": 900,
        "margin": {
         "b": 100,
         "t": 100
        },
        "shapes": [
         {
          "line": {
           "color": "black",
           "width": 2
          },
          "type": "line",
          "x0": -0.01,
          "x1": 1,
          "xref": "paper",
          "y0": 1.1,
          "y1": 1.1,
          "yref": "paper"
         }
        ],
        "template": {
         "data": {
          "bar": [
           {
            "error_x": {
             "color": "#2a3f5f"
            },
            "error_y": {
             "color": "#2a3f5f"
            },
            "marker": {
             "line": {
              "color": "#E5ECF6",
              "width": 0.5
             },
             "pattern": {
              "fillmode": "overlay",
              "size": 10,
              "solidity": 0.2
             }
            },
            "type": "bar"
           }
          ],
          "barpolar": [
           {
            "marker": {
             "line": {
              "color": "#E5ECF6",
              "width": 0.5
             },
             "pattern": {
              "fillmode": "overlay",
              "size": 10,
              "solidity": 0.2
             }
            },
            "type": "barpolar"
           }
          ],
          "carpet": [
           {
            "aaxis": {
             "endlinecolor": "#2a3f5f",
             "gridcolor": "white",
             "linecolor": "white",
             "minorgridcolor": "white",
             "startlinecolor": "#2a3f5f"
            },
            "baxis": {
             "endlinecolor": "#2a3f5f",
             "gridcolor": "white",
             "linecolor": "white",
             "minorgridcolor": "white",
             "startlinecolor": "#2a3f5f"
            },
            "type": "carpet"
           }
          ],
          "choropleth": [
           {
            "colorbar": {
             "outlinewidth": 0,
             "ticks": ""
            },
            "type": "choropleth"
           }
          ],
          "contour": [
           {
            "colorbar": {
             "outlinewidth": 0,
             "ticks": ""
            },
            "colorscale": [
             [
              0,
              "#0d0887"
             ],
             [
              0.1111111111111111,
              "#46039f"
             ],
             [
              0.2222222222222222,
              "#7201a8"
             ],
             [
              0.3333333333333333,
              "#9c179e"
             ],
             [
              0.4444444444444444,
              "#bd3786"
             ],
             [
              0.5555555555555556,
              "#d8576b"
             ],
             [
              0.6666666666666666,
              "#ed7953"
             ],
             [
              0.7777777777777778,
              "#fb9f3a"
             ],
             [
              0.8888888888888888,
              "#fdca26"
             ],
             [
              1,
              "#f0f921"
             ]
            ],
            "type": "contour"
           }
          ],
          "contourcarpet": [
           {
            "colorbar": {
             "outlinewidth": 0,
             "ticks": ""
            },
            "type": "contourcarpet"
           }
          ],
          "heatmap": [
           {
            "colorbar": {
             "outlinewidth": 0,
             "ticks": ""
            },
            "colorscale": [
             [
              0,
              "#0d0887"
             ],
             [
              0.1111111111111111,
              "#46039f"
             ],
             [
              0.2222222222222222,
              "#7201a8"
             ],
             [
              0.3333333333333333,
              "#9c179e"
             ],
             [
              0.4444444444444444,
              "#bd3786"
             ],
             [
              0.5555555555555556,
              "#d8576b"
             ],
             [
              0.6666666666666666,
              "#ed7953"
             ],
             [
              0.7777777777777778,
              "#fb9f3a"
             ],
             [
              0.8888888888888888,
              "#fdca26"
             ],
             [
              1,
              "#f0f921"
             ]
            ],
            "type": "heatmap"
           }
          ],
          "heatmapgl": [
           {
            "colorbar": {
             "outlinewidth": 0,
             "ticks": ""
            },
            "colorscale": [
             [
              0,
              "#0d0887"
             ],
             [
              0.1111111111111111,
              "#46039f"
             ],
             [
              0.2222222222222222,
              "#7201a8"
             ],
             [
              0.3333333333333333,
              "#9c179e"
             ],
             [
              0.4444444444444444,
              "#bd3786"
             ],
             [
              0.5555555555555556,
              "#d8576b"
             ],
             [
              0.6666666666666666,
              "#ed7953"
             ],
             [
              0.7777777777777778,
              "#fb9f3a"
             ],
             [
              0.8888888888888888,
              "#fdca26"
             ],
             [
              1,
              "#f0f921"
             ]
            ],
            "type": "heatmapgl"
           }
          ],
          "histogram": [
           {
            "marker": {
             "pattern": {
              "fillmode": "overlay",
              "size": 10,
              "solidity": 0.2
             }
            },
            "type": "histogram"
           }
          ],
          "histogram2d": [
           {
            "colorbar": {
             "outlinewidth": 0,
             "ticks": ""
            },
            "colorscale": [
             [
              0,
              "#0d0887"
             ],
             [
              0.1111111111111111,
              "#46039f"
             ],
             [
              0.2222222222222222,
              "#7201a8"
             ],
             [
              0.3333333333333333,
              "#9c179e"
             ],
             [
              0.4444444444444444,
              "#bd3786"
             ],
             [
              0.5555555555555556,
              "#d8576b"
             ],
             [
              0.6666666666666666,
              "#ed7953"
             ],
             [
              0.7777777777777778,
              "#fb9f3a"
             ],
             [
              0.8888888888888888,
              "#fdca26"
             ],
             [
              1,
              "#f0f921"
             ]
            ],
            "type": "histogram2d"
           }
          ],
          "histogram2dcontour": [
           {
            "colorbar": {
             "outlinewidth": 0,
             "ticks": ""
            },
            "colorscale": [
             [
              0,
              "#0d0887"
             ],
             [
              0.1111111111111111,
              "#46039f"
             ],
             [
              0.2222222222222222,
              "#7201a8"
             ],
             [
              0.3333333333333333,
              "#9c179e"
             ],
             [
              0.4444444444444444,
              "#bd3786"
             ],
             [
              0.5555555555555556,
              "#d8576b"
             ],
             [
              0.6666666666666666,
              "#ed7953"
             ],
             [
              0.7777777777777778,
              "#fb9f3a"
             ],
             [
              0.8888888888888888,
              "#fdca26"
             ],
             [
              1,
              "#f0f921"
             ]
            ],
            "type": "histogram2dcontour"
           }
          ],
          "mesh3d": [
           {
            "colorbar": {
             "outlinewidth": 0,
             "ticks": ""
            },
            "type": "mesh3d"
           }
          ],
          "parcoords": [
           {
            "line": {
             "colorbar": {
              "outlinewidth": 0,
              "ticks": ""
             }
            },
            "type": "parcoords"
           }
          ],
          "pie": [
           {
            "automargin": true,
            "type": "pie"
           }
          ],
          "scatter": [
           {
            "fillpattern": {
             "fillmode": "overlay",
             "size": 10,
             "solidity": 0.2
            },
            "type": "scatter"
           }
          ],
          "scatter3d": [
           {
            "line": {
             "colorbar": {
              "outlinewidth": 0,
              "ticks": ""
             }
            },
            "marker": {
             "colorbar": {
              "outlinewidth": 0,
              "ticks": ""
             }
            },
            "type": "scatter3d"
           }
          ],
          "scattercarpet": [
           {
            "marker": {
             "colorbar": {
              "outlinewidth": 0,
              "ticks": ""
             }
            },
            "type": "scattercarpet"
           }
          ],
          "scattergeo": [
           {
            "marker": {
             "colorbar": {
              "outlinewidth": 0,
              "ticks": ""
             }
            },
            "type": "scattergeo"
           }
          ],
          "scattergl": [
           {
            "marker": {
             "colorbar": {
              "outlinewidth": 0,
              "ticks": ""
             }
            },
            "type": "scattergl"
           }
          ],
          "scattermapbox": [
           {
            "marker": {
             "colorbar": {
              "outlinewidth": 0,
              "ticks": ""
             }
            },
            "type": "scattermapbox"
           }
          ],
          "scatterpolar": [
           {
            "marker": {
             "colorbar": {
              "outlinewidth": 0,
              "ticks": ""
             }
            },
            "type": "scatterpolar"
           }
          ],
          "scatterpolargl": [
           {
            "marker": {
             "colorbar": {
              "outlinewidth": 0,
              "ticks": ""
             }
            },
            "type": "scatterpolargl"
           }
          ],
          "scatterternary": [
           {
            "marker": {
             "colorbar": {
              "outlinewidth": 0,
              "ticks": ""
             }
            },
            "type": "scatterternary"
           }
          ],
          "surface": [
           {
            "colorbar": {
             "outlinewidth": 0,
             "ticks": ""
            },
            "colorscale": [
             [
              0,
              "#0d0887"
             ],
             [
              0.1111111111111111,
              "#46039f"
             ],
             [
              0.2222222222222222,
              "#7201a8"
             ],
             [
              0.3333333333333333,
              "#9c179e"
             ],
             [
              0.4444444444444444,
              "#bd3786"
             ],
             [
              0.5555555555555556,
              "#d8576b"
             ],
             [
              0.6666666666666666,
              "#ed7953"
             ],
             [
              0.7777777777777778,
              "#fb9f3a"
             ],
             [
              0.8888888888888888,
              "#fdca26"
             ],
             [
              1,
              "#f0f921"
             ]
            ],
            "type": "surface"
           }
          ],
          "table": [
           {
            "cells": {
             "fill": {
              "color": "#EBF0F8"
             },
             "line": {
              "color": "white"
             }
            },
            "header": {
             "fill": {
              "color": "#C8D4E3"
             },
             "line": {
              "color": "white"
             }
            },
            "type": "table"
           }
          ]
         },
         "layout": {
          "annotationdefaults": {
           "arrowcolor": "#2a3f5f",
           "arrowhead": 0,
           "arrowwidth": 1
          },
          "autotypenumbers": "strict",
          "coloraxis": {
           "colorbar": {
            "outlinewidth": 0,
            "ticks": ""
           }
          },
          "colorscale": {
           "diverging": [
            [
             0,
             "#8e0152"
            ],
            [
             0.1,
             "#c51b7d"
            ],
            [
             0.2,
             "#de77ae"
            ],
            [
             0.3,
             "#f1b6da"
            ],
            [
             0.4,
             "#fde0ef"
            ],
            [
             0.5,
             "#f7f7f7"
            ],
            [
             0.6,
             "#e6f5d0"
            ],
            [
             0.7,
             "#b8e186"
            ],
            [
             0.8,
             "#7fbc41"
            ],
            [
             0.9,
             "#4d9221"
            ],
            [
             1,
             "#276419"
            ]
           ],
           "sequential": [
            [
             0,
             "#0d0887"
            ],
            [
             0.1111111111111111,
             "#46039f"
            ],
            [
             0.2222222222222222,
             "#7201a8"
            ],
            [
             0.3333333333333333,
             "#9c179e"
            ],
            [
             0.4444444444444444,
             "#bd3786"
            ],
            [
             0.5555555555555556,
             "#d8576b"
            ],
            [
             0.6666666666666666,
             "#ed7953"
            ],
            [
             0.7777777777777778,
             "#fb9f3a"
            ],
            [
             0.8888888888888888,
             "#fdca26"
            ],
            [
             1,
             "#f0f921"
            ]
           ],
           "sequentialminus": [
            [
             0,
             "#0d0887"
            ],
            [
             0.1111111111111111,
             "#46039f"
            ],
            [
             0.2222222222222222,
             "#7201a8"
            ],
            [
             0.3333333333333333,
             "#9c179e"
            ],
            [
             0.4444444444444444,
             "#bd3786"
            ],
            [
             0.5555555555555556,
             "#d8576b"
            ],
            [
             0.6666666666666666,
             "#ed7953"
            ],
            [
             0.7777777777777778,
             "#fb9f3a"
            ],
            [
             0.8888888888888888,
             "#fdca26"
            ],
            [
             1,
             "#f0f921"
            ]
           ]
          },
          "colorway": [
           "#636efa",
           "#EF553B",
           "#00cc96",
           "#ab63fa",
           "#FFA15A",
           "#19d3f3",
           "#FF6692",
           "#B6E880",
           "#FF97FF",
           "#FECB52"
          ],
          "font": {
           "color": "#2a3f5f"
          },
          "geo": {
           "bgcolor": "white",
           "lakecolor": "white",
           "landcolor": "#E5ECF6",
           "showlakes": true,
           "showland": true,
           "subunitcolor": "white"
          },
          "hoverlabel": {
           "align": "left"
          },
          "hovermode": "closest",
          "mapbox": {
           "style": "light"
          },
          "paper_bgcolor": "white",
          "plot_bgcolor": "#E5ECF6",
          "polar": {
           "angularaxis": {
            "gridcolor": "white",
            "linecolor": "white",
            "ticks": ""
           },
           "bgcolor": "#E5ECF6",
           "radialaxis": {
            "gridcolor": "white",
            "linecolor": "white",
            "ticks": ""
           }
          },
          "scene": {
           "xaxis": {
            "backgroundcolor": "#E5ECF6",
            "gridcolor": "white",
            "gridwidth": 2,
            "linecolor": "white",
            "showbackground": true,
            "ticks": "",
            "zerolinecolor": "white"
           },
           "yaxis": {
            "backgroundcolor": "#E5ECF6",
            "gridcolor": "white",
            "gridwidth": 2,
            "linecolor": "white",
            "showbackground": true,
            "ticks": "",
            "zerolinecolor": "white"
           },
           "zaxis": {
            "backgroundcolor": "#E5ECF6",
            "gridcolor": "white",
            "gridwidth": 2,
            "linecolor": "white",
            "showbackground": true,
            "ticks": "",
            "zerolinecolor": "white"
           }
          },
          "shapedefaults": {
           "line": {
            "color": "#2a3f5f"
           }
          },
          "ternary": {
           "aaxis": {
            "gridcolor": "white",
            "linecolor": "white",
            "ticks": ""
           },
           "baxis": {
            "gridcolor": "white",
            "linecolor": "white",
            "ticks": ""
           },
           "bgcolor": "#E5ECF6",
           "caxis": {
            "gridcolor": "white",
            "linecolor": "white",
            "ticks": ""
           }
          },
          "title": {
           "x": 0.05
          },
          "xaxis": {
           "automargin": true,
           "gridcolor": "white",
           "linecolor": "white",
           "ticks": "",
           "title": {
            "standoff": 15
           },
           "zerolinecolor": "white",
           "zerolinewidth": 2
          },
          "yaxis": {
           "automargin": true,
           "gridcolor": "white",
           "linecolor": "white",
           "ticks": "",
           "title": {
            "standoff": 15
           },
           "zerolinecolor": "white",
           "zerolinewidth": 2
          }
         }
        },
        "title": {
         "font": {
          "color": "black",
          "family": "Arial",
          "size": 16,
          "weight": "bold"
         },
         "text": "<b>Análisis de la Evolución Política por Año</b>"
        },
        "width": 1400
       }
      }
     },
     "metadata": {},
     "output_type": "display_data"
    }
   ],
   "source": [
    "import plotly.graph_objects as go\n",
    "\n",
    "# Crear la figura para incluir ambos gráficos uno encima del otro\n",
    "fig = go.Figure()\n",
    "\n",
    "# Primer gráfico Sankey (Transiciones de Participación y No Participación)\n",
    "fig.add_trace(go.Sankey(\n",
    "    domain=dict(y=[0.73, 1.0]),  # Posiciona el gráfico superior en la mitad superior\n",
    "    node=dict(\n",
    "        pad=30,\n",
    "        thickness=30,\n",
    "        line=dict(color=\"black\", width=0.5),\n",
    "        label=labels_with_percentages,\n",
    "        color=node_colors\n",
    "    ),\n",
    "    link=dict(\n",
    "        source=source_indices,\n",
    "        target=target_indices,\n",
    "        value=values_list,\n",
    "        color=link_colors\n",
    "    )\n",
    "))\n",
    "\n",
    "# Segundo gráfico Sankey (Análisis de la Evolución Política con solo porcentajes)\n",
    "fig.add_trace(go.Sankey(\n",
    "    domain=dict(y=[0, 0.65]),  # Posiciona el gráfico inferior en la mitad inferior\n",
    "    node=dict(\n",
    "        pad=30,\n",
    "        thickness=30,\n",
    "        line=dict(color=\"black\", width=0.5),\n",
    "        label=labels_with_percentages_transicion,\n",
    "        color=node_colors_transicion\n",
    "    ),\n",
    "    link=dict(\n",
    "        source=source_indices_transicion,\n",
    "        target=target_indices_transicion,\n",
    "        value=values_transicion,\n",
    "        color=link_colors_transicion\n",
    "    )\n",
    "))\n",
    "\n",
    "# Configuración del layout general\n",
    "# Añadir línea sobre el título\n",
    "fig.update_layout(\n",
    "    title=dict(\n",
    "        text=\"<b>Análisis de la Evolución Política por Año</b>\",\n",
    "        font=dict(size=16, color=\"black\", family=\"Arial\", weight=\"bold\")\n",
    "    ),\n",
    "    shapes=[\n",
    "        dict(\n",
    "            type=\"line\",\n",
    "            x0=-0.01, x1=1, y0=1.1, y1=1.1,\n",
    "            xref=\"paper\", yref=\"paper\",\n",
    "            line=dict(color=\"black\", width=2)\n",
    "        )\n",
    "    ],\n",
    "    font_size=10,\n",
    "    width=1400,\n",
    "    height=900,\n",
    "    margin=dict(t=100, b=100)\n",
    ")\n",
    "\n",
    "# Añadir anotaciones para la leyenda y los años\n",
    "annotations = [\n",
    "    dict(x=1.02, y=0.1, xref=\"paper\", yref=\"paper\",\n",
    "         text=\"<span style='color:#7C87B0'><b>% Derecha</b></span> \",\n",
    "         showarrow=False, font=dict(size=12), textangle=-90),\n",
    "    dict(x=1.02, y=0.455, xref=\"paper\", yref=\"paper\",\n",
    "         text=\"<span style='color:#ED7A73'><b>% Izquierda</b></span>\",\n",
    "         showarrow=False, font=dict(size=12), textangle=-90),\n",
    "    dict(x=1.03, y=-0.07, xref=\"paper\", yref=\"paper\",\n",
    "        text=\"<span style='color:#E8B141'><b>% Nulos<br>y Blancos</b></span>\",  \n",
    "         showarrow=False, font=dict(size=12), textangle=-90),\n",
    "    dict(x=1.02, y=1.02, xref=\"paper\", yref=\"paper\",\n",
    "         text=\"<span style='color:#00A2D0'><b>% Participación</b></span> \",\n",
    "         showarrow=False, font=dict(size=11), textangle=-90),\n",
    "    dict(x=1.02, y=0.85, xref=\"paper\", yref=\"paper\",\n",
    "         text=\"<span style='color:#658D9E'><b>% No Participación</b></span>\",\n",
    "         showarrow=False, font=dict(size=11), textangle=-90),\n",
    "    dict(x=-0.005, y=1.03, xref=\"paper\", yref=\"paper\",\n",
    "         text=\"<b>2006</b>\", showarrow=False, font=dict(size=12)),\n",
    "    dict(x=0.24, y=1.03, xref=\"paper\", yref=\"paper\",\n",
    "         text=\"<b>2010</b>\", showarrow=False, font=dict(size=12)),\n",
    "    dict(x=0.5, y=1.03, xref=\"paper\", yref=\"paper\",\n",
    "         text=\"<b>2013</b>\", showarrow=False, font=dict(size=12)),\n",
    "    dict(x=0.76, y=1.03, xref=\"paper\", yref=\"paper\",\n",
    "         text=\"<b>2017</b>\", showarrow=False, font=dict(size=12)),\n",
    "    dict(x=1, y=1.03, xref=\"paper\", yref=\"paper\",\n",
    "         text=\"<b>2021</b>\", showarrow=False, font=dict(size=12))\n",
    "]\n",
    "\n",
    "# Añadir las anotaciones a la figura\n",
    "fig.update_layout(annotations=annotations)\n",
    "\n",
    "fig.show()"
   ]
  },
  {
   "cell_type": "markdown",
   "metadata": {},
   "source": [
    "## Conclusiones"
   ]
  }
 ],
 "metadata": {
  "kernelspec": {
   "display_name": "udd_python_proyecto",
   "language": "python",
   "name": "python3"
  },
  "language_info": {
   "codemirror_mode": {
    "name": "ipython",
    "version": 3
   },
   "file_extension": ".py",
   "mimetype": "text/x-python",
   "name": "python",
   "nbconvert_exporter": "python",
   "pygments_lexer": "ipython3",
   "version": "3.12.4"
  }
 },
 "nbformat": 4,
 "nbformat_minor": 2
}
